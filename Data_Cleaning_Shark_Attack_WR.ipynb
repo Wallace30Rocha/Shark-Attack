{
 "cells": [
  {
   "cell_type": "markdown",
   "id": "725ad652",
   "metadata": {
    "heading_collapsed": true
   },
   "source": [
    "## Project Shark Attack"
   ]
  },
  {
   "cell_type": "markdown",
   "id": "cc3c6421",
   "metadata": {
    "heading_collapsed": true,
    "hidden": true
   },
   "source": [
    "### HYPOTHESIS"
   ]
  },
  {
   "cell_type": "markdown",
   "id": "61de839f",
   "metadata": {
    "hidden": true
   },
   "source": [
    "There is a crucial scientific information about shark attacks on surfers: when surfers are laying down on top of their surfboards, they look much alike sea lions and turtles - which are shark's pray This is called the 'Mistaken Identity Theory' (https://royalsocietypublishing.org/doi/10.1098/rsif.2021.0533).\n",
    "So there is a belief that sharks mistaken surfers with their natural prays.\n",
    "Another relevant information is about the size of the surfboards. Longboards for instance are huge surfboards (9ft+). So just like in the animal kingdom, predators are more likely to attack a pray that is, in most cases, smaller than them. The data base does not have information about the victims hight or weight, neither the size of the surfboards that they were riding at the time of the incident. However, the data base provides demographic information such as age.\n",
    "Younger surfers are smaller than adults and they ride smaller surfboards making them a easier pray for sharks. Although the number of adult surfers are larger than the number of youth surfers, the logic would put a smaller being as the primary target for sharks.  \n",
    "\n",
    "First Hypothesis: SURFERS UP TO 19 YEARS OLD HAVE MORE CHANCES TO BE ATTACKED BY SHARKS.\n",
    "\n",
    "If you paddle out in famous places such as Hawaii and Australia, you will notice that older man and woman of all ages usually rides Longboards. Although the number of woman riding short boards have been growing exponentially in the last decade, there is still a discrepancy out there.  \n",
    "\n",
    "Second Hypothesis: EVEN IF WE ADD THE NUMBER OF OLDER MEN SURFERS VICTIMS (62+ YEARS) AND THE NUMBER OF WOMAN SURFERS VICTIMS OF ALL AGES, THE RESULT STILL GOING TO BE SMALLER THAN THE NUMBER OF VICTIMS UP TO 19 YEARS OLD."
   ]
  },
  {
   "cell_type": "markdown",
   "id": "71ad8b4d",
   "metadata": {
    "heading_collapsed": true,
    "hidden": true
   },
   "source": [
    "### GENERAL"
   ]
  },
  {
   "cell_type": "code",
   "execution_count": null,
   "id": "e077830f",
   "metadata": {
    "ExecuteTime": {
     "end_time": "2023-04-05T14:47:48.458429Z",
     "start_time": "2023-04-05T14:47:44.739214Z"
    },
    "code_folding": [
     0
    ],
    "hidden": true
   },
   "outputs": [],
   "source": [
    "#import libraries\n",
    "import pandas as pd\n",
    "import numpy as np\n",
    "import re\n",
    "import pickle\n",
    "import matplotlib.pyplot as plt"
   ]
  },
  {
   "cell_type": "code",
   "execution_count": null,
   "id": "6b339001",
   "metadata": {
    "ExecuteTime": {
     "end_time": "2023-04-05T14:47:48.474081Z",
     "start_time": "2023-04-05T14:47:48.461422Z"
    },
    "code_folding": [
     0
    ],
    "hidden": true
   },
   "outputs": [],
   "source": [
    "#open the dictionaty that will be necessary to analize what the victimns were doing when they were attacked by a shark\n",
    "with open('surfing_dict.pickle', 'rb') as f:\n",
    "    surfing_dict = pickle.load(f)"
   ]
  },
  {
   "cell_type": "code",
   "execution_count": null,
   "id": "db17b346",
   "metadata": {
    "ExecuteTime": {
     "end_time": "2023-04-05T14:47:49.827964Z",
     "start_time": "2023-04-05T14:47:48.486611Z"
    },
    "code_folding": [
     0
    ],
    "hidden": true
   },
   "outputs": [],
   "source": [
    "#read and display the dataframe shark attacks\n",
    "#read the excel file in a variable called shark_attacks\n",
    "shark_attacks = pd.read_excel(r'C:\\Users\\PC\\Desktop\\Ironhack\\WR_Ironhack_Projects\\Shark-Attack\\GSAF5.xls')\n",
    "\n",
    "#display the dataframe\n",
    "shark_attacks"
   ]
  },
  {
   "cell_type": "code",
   "execution_count": null,
   "id": "68831a2d",
   "metadata": {
    "ExecuteTime": {
     "end_time": "2023-04-05T14:47:49.952350Z",
     "start_time": "2023-04-05T14:47:49.841075Z"
    },
    "code_folding": [
     0
    ],
    "hidden": true
   },
   "outputs": [],
   "source": [
    "#check infos about \n",
    "#look for null columns\n",
    "shark_attacks.info()"
   ]
  },
  {
   "cell_type": "code",
   "execution_count": null,
   "id": "56b47a09",
   "metadata": {
    "ExecuteTime": {
     "end_time": "2023-04-05T14:47:50.091511Z",
     "start_time": "2023-04-05T14:47:49.957339Z"
    },
    "code_folding": [
     0
    ],
    "hidden": true
   },
   "outputs": [],
   "source": [
    "#treat and display the dataframe shark attacks\n",
    "#tremove the space from all column tittles\n",
    "shark_attacks.columns = shark_attacks.columns.str.rstrip()\n",
    "\n",
    "#eliminate columns filled with NaN elements and all the others that have no use to my analysis\n",
    "shark_attacks.drop(columns = ['Unnamed: 21', 'Unnamed: 22', 'Date', 'Name', 'Species', 'Type', 'Time', \n",
    "                              'Investigator or Source', 'pdf', 'href formula', 'href', 'Case Number', \n",
    "                              'Case Number.1', 'original order', 'Injury'], inplace = True)\n",
    "\n",
    "\n",
    "#eliminate rows filled with ONLY NaN values\n",
    "shark_attacks.dropna(axis = 0, how = 'all', inplace = True)\n",
    "\n",
    "#display the first 10 rows of the dataframe\n",
    "shark_attacks.head(10)"
   ]
  },
  {
   "cell_type": "markdown",
   "id": "25349321",
   "metadata": {
    "heading_collapsed": true,
    "hidden": true
   },
   "source": [
    "### AGE"
   ]
  },
  {
   "cell_type": "code",
   "execution_count": null,
   "id": "dba52c99",
   "metadata": {
    "ExecuteTime": {
     "end_time": "2023-04-05T14:47:50.215260Z",
     "start_time": "2023-04-05T14:47:50.104181Z"
    },
    "code_folding": [
     0
    ],
    "hidden": true
   },
   "outputs": [],
   "source": [
    "#treat and present results of column Age\n",
    "#check the lengh of column Age and print how many shark attack cases have been reported\n",
    "len_age = len(shark_attacks['Age'])\n",
    "print(f'Until 2023 there was {len_age} reported shark attacks worldwide.')\n",
    "\n",
    "#check unique elements in Age column\n",
    "#print(shark_attacks['Age'].unique().tolist())\n",
    "\n",
    "#check how many elements appear only once on Age column\n",
    "value_counts_age = shark_attacks['Age'].value_counts()\n",
    "unique_values_age = value_counts_age[value_counts_age == 1]\n",
    "unique_list_age = unique_values_age.index.tolist()\n",
    "#print(unique_list_age)\n",
    "#print(len(unique_list_age))\n",
    "\n",
    "#convert NaN to numeric values\n",
    "shark_attacks['Age'] = pd.to_numeric(shark_attacks['Age'], errors = 'coerce')\n",
    "\n",
    "#convert NaN to -1\n",
    "shark_attacks['Age'].fillna( -1, inplace = True)\n",
    "\n",
    "#convert column Age from object to int\n",
    "shark_attacks['Age'] = shark_attacks['Age'].astype(int)\n",
    "\n",
    "#check how many people from 0 - 19 yeras old were attacked\n",
    "age_0_19 = shark_attacks[(shark_attacks['Age'] >= 0) & (shark_attacks['Age'] <= 19)]\n",
    "count_age_0_19 = len(age_0_19)\n",
    "print(f'\\nThe number of people attacked by sharks from ages 1 to 19 is {count_age_0_19}.')\n",
    "\n",
    "#create classes of different age groups and get the % of each group in column Age\n",
    "age_count_group = pd.cut(shark_attacks['Age'], [-2, 0, 19, 40, 61, 110], labels = ['No Class', 'Youth (1-19)',\n",
    "             'Young Adults (20-40)', 'Adults (40-62)', 'Elderly (62+)']).value_counts(normalize = True) * 100\n",
    "\n",
    "age_count_group = age_count_group.round().astype(int)\n",
    "print(f'\\n% of shark attacks for each group:\\n{age_count_group}')"
   ]
  },
  {
   "cell_type": "markdown",
   "id": "d0e5530a",
   "metadata": {
    "heading_collapsed": true,
    "hidden": true
   },
   "source": [
    "### SEX"
   ]
  },
  {
   "cell_type": "code",
   "execution_count": null,
   "id": "6229f970",
   "metadata": {
    "ExecuteTime": {
     "end_time": "2023-04-05T14:47:50.370013Z",
     "start_time": "2023-04-05T14:47:50.223818Z"
    },
    "code_folding": [
     0
    ],
    "hidden": true
   },
   "outputs": [],
   "source": [
    "#treat and present results of column Sex\n",
    "#convert all the letters in the column Sex to upperercase\n",
    "shark_attacks['Sex'] = shark_attacks['Sex'].str.upper()\n",
    "\n",
    "#remove spaces\n",
    "shark_attacks['Sex'] = shark_attacks['Sex'].str.replace(' ', '')\n",
    "\n",
    "#check unique elements in Sex column\n",
    "#print(shark_attacks['Sex'].unique().tolist())\n",
    "\n",
    "#check how many NaN in column Sex\n",
    "nan_sum_sex = shark_attacks['Sex'].isna().sum()\n",
    "\n",
    "#replace NaN in Sex column with the acronym 'unk'\n",
    "shark_attacks['Sex'].fillna('unk', inplace = True)\n",
    "\n",
    "#replace the unkown items to the acronym 'unk' \n",
    "unk_words_sex = {'LLI': 'unk', 'MX2': 'M', 'N': 'unk', '.': 'unk'}\n",
    "shark_attacks['Sex'] = shark_attacks['Sex'].replace(unk_words_sex)\n",
    "\n",
    "#confirm that 'unk' is the only unique element besides 'M' and 'F'\n",
    "differnet_sex = shark_attacks.loc[~shark_attacks['Sex'].isin(['M', 'F']), 'Sex']\n",
    "unique_different_sex = differnet_sex.unique()\n",
    "#print(unique_different_sex)\n",
    "\n",
    "#how many shark attacks on M and F\n",
    "count_male = shark_attacks['Sex'].str.count('M').sum()\n",
    "count_female = shark_attacks['Sex'].str.count('F').sum()\n",
    "print(f'According to collected data, {count_male} men and {count_female} woman were attacked by sharks worldwide.')\n",
    "\n",
    "#present the % of attacks in both genders\n",
    "sex_attacks = shark_attacks['Sex'].value_counts(True) * 100\n",
    "sex_attacks = sex_attacks.round().astype(int)\n",
    "print(f'\\n% of attacks in Men(M) and Women(F):\\n{sex_attacks}')"
   ]
  },
  {
   "cell_type": "markdown",
   "id": "0175fd84",
   "metadata": {
    "heading_collapsed": true,
    "hidden": true
   },
   "source": [
    "### ACTIVITY"
   ]
  },
  {
   "cell_type": "code",
   "execution_count": null,
   "id": "c0615c60",
   "metadata": {
    "ExecuteTime": {
     "end_time": "2023-04-05T14:47:50.571812Z",
     "start_time": "2023-04-05T14:47:50.387978Z"
    },
    "code_folding": [
     0
    ],
    "hidden": true,
    "scrolled": true
   },
   "outputs": [],
   "source": [
    "#treat and present results of column Activity\n",
    "#convert all the letters in the column Activity to lower\n",
    "shark_attacks['Activity'] = shark_attacks['Activity'].str.lower()\n",
    "\n",
    "#check if there are numeric elements in Activity column\n",
    "num_act = shark_attacks['Activity'].str.contains('\\d').any()\n",
    "#num_act\n",
    "\n",
    "#check if there are numeric elements different than NaN in Activity column\n",
    "not_nan_sex = pd.to_numeric(shark_attacks['Activity'], errors = 'coerce').notnull().any()\n",
    "#not_nan_sex\n",
    "\n",
    "#check how many NaN in column Activity\n",
    "nan_sum_act = shark_attacks['Activity'].isna().sum()\n",
    "#nan_sum_act\n",
    "\n",
    "#replace NaN in Activity column to the acronym 'unk'\n",
    "shark_attacks['Activity'].fillna('unk', inplace = True)\n",
    "\n",
    "#check the list of unique elements in column Activity\n",
    "#print(sorted(shark_attacks['Activity'].unique().tolist()))\n",
    "\n",
    "#treatment of the column Activity with the dictionary that was loaded in the beginning of the code\n",
    "shark_attacks['Activity'] = shark_attacks['Activity'].map(surfing_dict).fillna('unk')\n",
    "\n",
    "#how many shark attacks on surfers\n",
    "count_surfing = shark_attacks['Activity'].str.count('surfing').sum()\n",
    "print(f\"Although almost 50% of the incidents caused by sharks have no clear information about what extacly the victim was doing, surfing appears to be the riskiest kown activity practice when considering shark attacks.\\nIn the last 200 years {count_surfing} people were victims of shark attacks while surfing.\")\n",
    "\n",
    "#present the % of attacks for each activity\n",
    "activity_attacks = shark_attacks['Activity'].value_counts(True) * 100\n",
    "#activity_attacks = activity_attacks.round().astype(int)\n",
    "print(f'\\n% of attacks for each activity:\\n\\n{activity_attacks}.')"
   ]
  },
  {
   "cell_type": "markdown",
   "id": "66f8d117",
   "metadata": {
    "heading_collapsed": true,
    "hidden": true
   },
   "source": [
    "### ATTACKS OUTCOME "
   ]
  },
  {
   "cell_type": "code",
   "execution_count": null,
   "id": "a4d1a326",
   "metadata": {
    "ExecuteTime": {
     "end_time": "2023-04-05T14:47:50.739431Z",
     "start_time": "2023-04-05T14:47:50.594943Z"
    },
    "code_folding": [
     0
    ],
    "hidden": true
   },
   "outputs": [],
   "source": [
    "#treat and present results of column Fatal \n",
    "#convert all the letters in the column Sex to upperercase\n",
    "shark_attacks['Fatal (Y/N)'] = shark_attacks['Fatal (Y/N)'].str.upper()\n",
    "\n",
    "#remove spaces\n",
    "shark_attacks['Fatal (Y/N)'] = shark_attacks['Fatal (Y/N)'].str.replace(' ', '')\n",
    "\n",
    "#check list of unique elements in column Fatal\n",
    "#print(shark_attacks['Fatal (Y/N)'].unique().tolist())\n",
    "\n",
    "#check how many NaN in column Sex\n",
    "nan_sum_fatal = shark_attacks['Fatal (Y/N)'].isna().sum()\n",
    "#nan_sum_fatal\n",
    "\n",
    "#replace NaN with 'unk'\n",
    "shark_attacks['Fatal (Y/N)'].fillna('unk', inplace = True)\n",
    "\n",
    "#create a dictionary to replace words\n",
    "unk_words_fatal = {'F': 'Y', 'UNKNOWN': 'unk', 'YX2': 'Y', 'M': 'unk', 'NQ': 'unk'}\n",
    "shark_attacks['Fatal (Y/N)'] = shark_attacks['Fatal (Y/N)'].replace(unk_words_fatal)\n",
    "\n",
    "#check if there is something besides the proper answeres (Y/N) or 'unk'\n",
    "differnet_fatal = shark_attacks.loc[~shark_attacks['Fatal (Y/N)'].isin(['Y', 'N']), 'Fatal (Y/N)']\n",
    "unique_different_fatal = differnet_fatal.unique()\n",
    "#print(unique_different_fatal)\n",
    "\n",
    "#count the data e present the results for Fatal column\n",
    "count_n_fatal = shark_attacks['Fatal (Y/N)'].str.count('N').sum()\n",
    "count_y_fatal = shark_attacks['Fatal (Y/N)'].str.count('Y').sum()\n",
    "count_u_fatal = shark_attacks['Fatal (Y/N)'].str.count('unk').sum()\n",
    "print(f'According to data that have been colected worldwide, {count_y_fatal} people were killed by sharks and {count_n_fatal} were attacked but survived.\\nThere is also {count_u_fatal} reported cases of an unkown outcome.')\n",
    "#print(count_n_fatal + count_y_fatal + count_u_fatal)"
   ]
  },
  {
   "cell_type": "markdown",
   "id": "26847d15",
   "metadata": {
    "heading_collapsed": true,
    "hidden": true
   },
   "source": [
    "### AGE x GENDER x SURFERS x FATALITIES"
   ]
  },
  {
   "cell_type": "code",
   "execution_count": null,
   "id": "18a6e43a",
   "metadata": {
    "ExecuteTime": {
     "end_time": "2023-04-05T14:47:50.894080Z",
     "start_time": "2023-04-05T14:47:50.765095Z"
    },
    "code_folding": [
     0
    ],
    "hidden": true
   },
   "outputs": [],
   "source": [
    "#create and display a new column called Age Groups\n",
    "#create a funcion to determine the surfer's age group\n",
    "def age_group(age):\n",
    "    \"\"\"use conditionals to determine if x age belongs to x_age_group\n",
    "    exemple: input: 35 years\n",
    "             output: young adult group\"\"\"\n",
    "    if age <= 0:\n",
    "        return 'No Class'\n",
    "    elif age <= 19:\n",
    "        return 'Youth'\n",
    "    elif age <= 40:\n",
    "        return 'Young Adult'\n",
    "    elif age < 61:\n",
    "        return 'Adult'\n",
    "    else:\n",
    "        return 'Elderly'\n",
    "\n",
    "#create the new column\n",
    "shark_attacks.insert(7, 'Age Group', shark_attacks['Age'].apply(age_group))\n",
    "\n",
    "#after the calculation was done, transform -1 to unk to be more presentable and readable in the dataframe\n",
    "shark_attacks['Age'] = shark_attacks['Age'].replace(-1, 'unk')\n",
    "\n",
    "#present final dataframe\n",
    "shark_attacks.head(10)"
   ]
  },
  {
   "cell_type": "markdown",
   "id": "2df5582d",
   "metadata": {
    "heading_collapsed": true,
    "hidden": true
   },
   "source": [
    "### TESTING HYPOTHESIS"
   ]
  },
  {
   "cell_type": "markdown",
   "id": "8b70ed75",
   "metadata": {
    "heading_collapsed": true,
    "hidden": true
   },
   "source": [
    "#### First: Surfers from ages between 1 to 19 are most likely to be attacked by sharks."
   ]
  },
  {
   "cell_type": "code",
   "execution_count": null,
   "id": "b79119d8",
   "metadata": {
    "ExecuteTime": {
     "end_time": "2023-04-05T14:47:51.002918Z",
     "start_time": "2023-04-05T14:47:50.911529Z"
    },
    "code_folding": [
     0
    ],
    "hidden": true,
    "scrolled": true
   },
   "outputs": [],
   "source": [
    "#show shark attacks on surfers separetaed by age group \n",
    "no_class_surfers = shark_attacks.groupby(['Age Group', 'Activity']).size()['No Class', 'surfing']\n",
    "youth_surfers = shark_attacks.groupby(['Age Group', 'Activity']).size()['Youth', 'surfing']\n",
    "y_adult_surfers = shark_attacks.groupby(['Age Group', 'Activity']).size()['Young Adult', 'surfing']\n",
    "adult_surfers = shark_attacks.groupby(['Age Group', 'Activity']).size()['Adult', 'surfing']\n",
    "elderly_surfers = shark_attacks.groupby(['Age Group', 'Activity']).size()['Elderly', 'surfing']"
   ]
  },
  {
   "cell_type": "code",
   "execution_count": null,
   "id": "6124931e",
   "metadata": {
    "ExecuteTime": {
     "end_time": "2023-04-05T14:47:51.654426Z",
     "start_time": "2023-04-05T14:47:51.019641Z"
    },
    "code_folding": [
     0
    ],
    "hidden": true
   },
   "outputs": [],
   "source": [
    "#present chart first hypothesis\n",
    "first_hypothesis = pd.pivot_table(shark_attacks.query('Activity == \"surfing\"'), index = 'Age Group', columns = 'Activity', aggfunc = 'count', values = 'Year').loc[['Youth', 'Young Adult', 'Adult', 'Elderly']].plot(kind = 'bar')\n",
    "\n",
    "first_hypothesis.set_ylabel('Shark Attacks on Surfers')\n",
    "first_hypothesis.set_title('First Hypothesis')\n",
    "\n",
    "plt.show()"
   ]
  },
  {
   "cell_type": "code",
   "execution_count": null,
   "id": "1fe24c9d",
   "metadata": {
    "ExecuteTime": {
     "end_time": "2023-04-05T14:47:51.669601Z",
     "start_time": "2023-04-05T14:47:51.657294Z"
    },
    "code_folding": [
     0
    ],
    "hidden": true
   },
   "outputs": [],
   "source": [
    "#print results\n",
    "print(f'The total number of shark attacks on surfers was {no_class_surfers + youth_surfers + y_adult_surfers + adult_surfers + elderly_surfers}.')\n",
    "print(f'\\n{no_class_surfers} unkown surfers were victims of shark attacks.')\n",
    "print(f'{youth_surfers} children and teenagers were victims of shark attacks while surfing.')\n",
    "print(f'{y_adult_surfers} young adults were victims of shark attacks while surfing.')\n",
    "print(f'{adult_surfers} adults were victims of shark attacks while surfing.')\n",
    "print(f'{elderly_surfers} elderly people were victims of shark attacks while surfing.')\n",
    "\n",
    "print(f'\\nThe results shows that my first hypothesis - Surfers from 1 to 19 years old are most likely to be attacked by sharks - was false.\\nThe age group more affected by this kind of incident is the {y_adult_surfers}')"
   ]
  },
  {
   "cell_type": "code",
   "execution_count": null,
   "id": "570a2eb7",
   "metadata": {
    "ExecuteTime": {
     "end_time": "2023-04-05T14:47:51.872326Z",
     "start_time": "2023-04-05T14:47:51.675571Z"
    },
    "code_folding": [
     0
    ],
    "hidden": true
   },
   "outputs": [],
   "source": [
    "#demonstrate how many people of each age group and gender were victims of shark attack while surfing and the fatalities ouctcome\n",
    "no_class_surfers_x = shark_attacks[(shark_attacks['Age Group'] == 'No Class') & (shark_attacks['Activity'] == 'surfing') & (shark_attacks['Sex'] == 'M')].shape[0]\n",
    "no_class_surfers_y = shark_attacks[(shark_attacks['Age Group'] == 'No Class') & (shark_attacks['Activity'] == 'surfing') & (shark_attacks['Sex'] == 'F')].shape[0]\n",
    "\n",
    "youth_surfers_m = shark_attacks[(shark_attacks['Age Group'] == 'Youth') & (shark_attacks['Activity'] == 'surfing') & (shark_attacks['Sex'] == 'M')].shape[0]\n",
    "youth_surfers_f = shark_attacks[(shark_attacks['Age Group'] == 'Youth') & (shark_attacks['Activity'] == 'surfing') & (shark_attacks['Sex'] == 'F')].shape[0]\n",
    "\n",
    "y_adult_surfers_m = shark_attacks[(shark_attacks['Age Group'] == 'Young Adult') & (shark_attacks['Activity'] == 'surfing') & (shark_attacks['Sex'] == 'M')].shape[0]\n",
    "y_adult_surfers_f = shark_attacks[(shark_attacks['Age Group'] == 'Young Adult') & (shark_attacks['Activity'] == 'surfing') & (shark_attacks['Sex'] == 'F')].shape[0]\n",
    "\n",
    "adult_surfers_m = shark_attacks[(shark_attacks['Age Group'] == 'Adult') & (shark_attacks['Activity'] == 'surfing') & (shark_attacks['Sex'] == 'M')].shape[0]\n",
    "adult_surfers_f = shark_attacks[(shark_attacks['Age Group'] == 'Adult') & (shark_attacks['Activity'] == 'surfing') & (shark_attacks['Sex'] == 'F')].shape[0]\n",
    "\n",
    "elderly_surfers_m = shark_attacks[(shark_attacks['Age Group'] == 'Elderly') & (shark_attacks['Activity'] == 'surfing') & (shark_attacks['Sex'] == 'M')].shape[0]\n",
    "elderly_surfers_f = shark_attacks[(shark_attacks['Age Group'] == 'Elderly') & (shark_attacks['Activity'] == 'surfing') & (shark_attacks['Sex'] == 'F')].shape[0]\n",
    "\n",
    "#add the variables indicating gender to check if the the result is equal to the number of shark attacks on surfers \n",
    "total = no_class_surfers_x+no_class_surfers_y+youth_surfers_m+youth_surfers_f+y_adult_surfers_m+y_adult_surfers_f+adult_surfers_m+adult_surfers_f+elderly_surfers_m+elderly_surfers_f\n",
    "#print(t)\n",
    "\n",
    "f_no_class_surfers_x = shark_attacks[(shark_attacks['Age Group'] == 'No Class') & (shark_attacks['Activity'] == 'surfing') & (shark_attacks['Sex'] == 'M') & (shark_attacks['Fatal (Y/N)'] == 'Y')].shape[0]\n",
    "f_no_class_surfers_y = shark_attacks[(shark_attacks['Age Group'] == 'No Class') & (shark_attacks['Activity'] == 'surfing') & (shark_attacks['Sex'] == 'F') & (shark_attacks['Fatal (Y/N)'] == 'Y')].shape[0]\n",
    "\n",
    "f_youth_surfers_m = shark_attacks[(shark_attacks['Age Group'] == 'Youth') & (shark_attacks['Activity'] == 'surfing') & (shark_attacks['Sex'] == 'M') & (shark_attacks['Fatal (Y/N)'] == 'Y')].shape[0]\n",
    "f_youth_surfers_f = shark_attacks[(shark_attacks['Age Group'] == 'Youth') & (shark_attacks['Activity'] == 'surfing') & (shark_attacks['Sex'] == 'F') & (shark_attacks['Fatal (Y/N)'] == 'Y')].shape[0]\n",
    "\n",
    "f_y_adult_surfers_m = shark_attacks[(shark_attacks['Age Group'] == 'Young Adult') & (shark_attacks['Activity'] == 'surfing') & (shark_attacks['Sex'] == 'M') & (shark_attacks['Fatal (Y/N)'] == 'Y')].shape[0]\n",
    "f_y_adult_surfers_f = shark_attacks[(shark_attacks['Age Group'] == 'Young Adult') & (shark_attacks['Activity'] == 'surfing') & (shark_attacks['Sex'] == 'F') & (shark_attacks['Fatal (Y/N)'] == 'Y')].shape[0]\n",
    "\n",
    "f_adult_surfers_m = shark_attacks[(shark_attacks['Age Group'] == 'Adult') & (shark_attacks['Activity'] == 'surfing') & (shark_attacks['Sex'] == 'M') & (shark_attacks['Fatal (Y/N)'] == 'Y')].shape[0]\n",
    "f_adult_surfers_f = shark_attacks[(shark_attacks['Age Group'] == 'Adult') & (shark_attacks['Activity'] == 'surfing') & (shark_attacks['Sex'] == 'F') & (shark_attacks['Fatal (Y/N)'] == 'Y')].shape[0]\n",
    "\n",
    "f_elderly_surfers_m = shark_attacks[(shark_attacks['Age Group'] == 'Elderly') & (shark_attacks['Activity'] == 'surfing') & (shark_attacks['Sex'] == 'M') & (shark_attacks['Fatal (Y/N)'] == 'Y')].shape[0]\n",
    "f_elderly_surfers_f = shark_attacks[(shark_attacks['Age Group'] == 'Elderly') & (shark_attacks['Activity'] == 'surfing') & (shark_attacks['Sex'] == 'F') & (shark_attacks['Fatal (Y/N)'] == 'Y')].shape[0]\n",
    "\n",
    "print('The gender and age group of the victmims of shark attacks while surfing as well as the fatalities outcomes were:\\n')\n",
    "print(f'{youth_surfers_m} male children and teenagers.\\n{f_youth_surfers_m} cases were fatal.\\n')\n",
    "print(f'{youth_surfers_f} female children and teenager.\\n{f_youth_surfers_f} case was fatal.\\n')\n",
    "print(f'{y_adult_surfers_m} young adults men.\\n{f_y_adult_surfers_m} cases were fatal.\\n')\n",
    "print(f'{y_adult_surfers_f} young adults women.\\n{f_y_adult_surfers_f} cases were fatal.\\n')\n",
    "print(f'{adult_surfers_m} adult men.\\n{f_adult_surfers_m} cases were fatal.\\n')\n",
    "print(f'{adult_surfers_f} adult women.\\n{f_adult_surfers_f} cases were fatal.\\n')\n",
    "print(f'{elderly_surfers_m} elderly men.\\n{f_elderly_surfers_m} cases were fatal.\\n')\n",
    "print(f'{elderly_surfers_f} elderly women.\\n{f_elderly_surfers_f} cases were fatal.\\n')\n",
    "print(f'{no_class_surfers_x} men of unkown age.\\n{f_no_class_surfers_x} cases were fatal.\\n')\n",
    "print(f'{no_class_surfers_y} women of unkown age.\\n{f_no_class_surfers_y} case was fatal.')"
   ]
  },
  {
   "cell_type": "markdown",
   "id": "6c0615af",
   "metadata": {
    "heading_collapsed": true,
    "hidden": true
   },
   "source": [
    "#### Second: The number of children and teenagers of all genders victims of shark attacks while surfing is larger than the combined number between woman of all ages and elderly of all genders that were attacked by a shark while surfing "
   ]
  },
  {
   "cell_type": "code",
   "execution_count": null,
   "id": "72fd4c93",
   "metadata": {
    "ExecuteTime": {
     "end_time": "2023-04-05T14:47:51.888372Z",
     "start_time": "2023-04-05T14:47:51.876315Z"
    },
    "code_folding": [
     0
    ],
    "hidden": true
   },
   "outputs": [],
   "source": [
    "#demonstrate the difference betwwen attacks on youth surfers and woman+elderly\n",
    "woman_surfer = no_class_surfers_y + youth_surfers_f + y_adult_surfers_f + adult_surfers_f + elderly_surfers_f\n",
    "woman_elderly_surfers = woman_surfer + elderly_surfers\n",
    "\n",
    "result = youth_surfers != woman_elderly_surfers"
   ]
  },
  {
   "cell_type": "code",
   "execution_count": null,
   "id": "21385390",
   "metadata": {
    "ExecuteTime": {
     "end_time": "2023-04-05T14:47:52.493203Z",
     "start_time": "2023-04-05T14:47:51.894354Z"
    },
    "code_folding": [
     0
    ],
    "hidden": true,
    "scrolled": true
   },
   "outputs": [],
   "source": [
    "#present chart second hypothesis\n",
    "second_hypothesis = pd.pivot_table(shark_attacks.query('Activity == \"surfing\"'), index = 'Age Group', columns = 'Sex', aggfunc = 'count', values = 'Year')\n",
    "second_hypothesis_chart = pd.DataFrame({'Youth': youth_surfers, 'Woman+Elderly': woman_elderly_surfers}, index=[0]).plot(kind='bar', figsize=(8,5))\n",
    "bar_names = {'youth_surfers': 'Youth Surfers', 'woman_elderly_surfers': 'Woman+Elderly'}\n",
    "second_hypothesis_chart.set_ylabel('Shark Attacks on Surfers')\n",
    "second_hypothesis_chart.set_title('Second Hypothesis')\n",
    "\n",
    "plt.show()"
   ]
  },
  {
   "cell_type": "code",
   "execution_count": null,
   "id": "3dbad9f6",
   "metadata": {
    "ExecuteTime": {
     "end_time": "2023-04-05T14:47:52.508738Z",
     "start_time": "2023-04-05T14:47:52.497128Z"
    },
    "code_folding": [
     0
    ],
    "hidden": true
   },
   "outputs": [],
   "source": [
    "#print results second hypothesis\n",
    "print(f'The total number of victims between woman of all ages and elderly people while surfing is {woman_elderly_surfers}.\\nThe number of children and teenagers of all genders victims of shark attacks while surfing is {youth_surfers}.')\n",
    "print(f'\\nThe results shows that my second hypothesis - The number of children and teenagers of all genders victims of shark attacks while surfing is larger than the combined number between woman of all ages and elderly of all genders that were attacked by a shark while surfing - was {result}.')"
   ]
  }
 ],
 "metadata": {
  "kernelspec": {
   "display_name": "Python 3 (ipykernel)",
   "language": "python",
   "name": "python3"
  },
  "language_info": {
   "codemirror_mode": {
    "name": "ipython",
    "version": 3
   },
   "file_extension": ".py",
   "mimetype": "text/x-python",
   "name": "python",
   "nbconvert_exporter": "python",
   "pygments_lexer": "ipython3",
   "version": "3.9.13"
  },
  "toc": {
   "base_numbering": 1,
   "nav_menu": {},
   "number_sections": true,
   "sideBar": true,
   "skip_h1_title": false,
   "title_cell": "Table of Contents",
   "title_sidebar": "Contents",
   "toc_cell": false,
   "toc_position": {},
   "toc_section_display": true,
   "toc_window_display": false
  },
  "varInspector": {
   "cols": {
    "lenName": 16,
    "lenType": 16,
    "lenVar": 40
   },
   "kernels_config": {
    "python": {
     "delete_cmd_postfix": "",
     "delete_cmd_prefix": "del ",
     "library": "var_list.py",
     "varRefreshCmd": "print(var_dic_list())"
    },
    "r": {
     "delete_cmd_postfix": ") ",
     "delete_cmd_prefix": "rm(",
     "library": "var_list.r",
     "varRefreshCmd": "cat(var_dic_list()) "
    }
   },
   "types_to_exclude": [
    "module",
    "function",
    "builtin_function_or_method",
    "instance",
    "_Feature"
   ],
   "window_display": false
  }
 },
 "nbformat": 4,
 "nbformat_minor": 5
}
