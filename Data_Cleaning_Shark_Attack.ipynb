{
 "cells": [
  {
   "cell_type": "markdown",
   "id": "a229747d",
   "metadata": {},
   "source": [
    "**3. Data Cleaning** "
   ]
  },
  {
   "cell_type": "code",
   "execution_count": 1,
   "id": "62168226",
   "metadata": {
    "ExecuteTime": {
     "end_time": "2023-04-04T20:03:00.190908Z",
     "start_time": "2023-04-04T20:02:58.811423Z"
    }
   },
   "outputs": [],
   "source": [
    "import pandas as pd\n",
    "import numpy as np\n",
    "import re"
   ]
  },
  {
   "cell_type": "code",
   "execution_count": 2,
   "id": "f27b3f58",
   "metadata": {
    "ExecuteTime": {
     "end_time": "2023-04-04T20:03:01.494420Z",
     "start_time": "2023-04-04T20:03:00.197938Z"
    },
    "scrolled": false
   },
   "outputs": [
    {
     "data": {
      "text/html": [
       "<div>\n",
       "<style scoped>\n",
       "    .dataframe tbody tr th:only-of-type {\n",
       "        vertical-align: middle;\n",
       "    }\n",
       "\n",
       "    .dataframe tbody tr th {\n",
       "        vertical-align: top;\n",
       "    }\n",
       "\n",
       "    .dataframe thead th {\n",
       "        text-align: right;\n",
       "    }\n",
       "</style>\n",
       "<table border=\"1\" class=\"dataframe\">\n",
       "  <thead>\n",
       "    <tr style=\"text-align: right;\">\n",
       "      <th></th>\n",
       "      <th>Date</th>\n",
       "      <th>Year</th>\n",
       "      <th>Type</th>\n",
       "      <th>Country</th>\n",
       "      <th>Area</th>\n",
       "      <th>Location</th>\n",
       "      <th>Activity</th>\n",
       "      <th>Name</th>\n",
       "      <th>Sex</th>\n",
       "      <th>Age</th>\n",
       "      <th>...</th>\n",
       "      <th>Species</th>\n",
       "      <th>Investigator or Source</th>\n",
       "      <th>pdf</th>\n",
       "      <th>href formula</th>\n",
       "      <th>href</th>\n",
       "      <th>Case Number</th>\n",
       "      <th>Case Number.1</th>\n",
       "      <th>original order</th>\n",
       "      <th>Unnamed: 21</th>\n",
       "      <th>Unnamed: 22</th>\n",
       "    </tr>\n",
       "  </thead>\n",
       "  <tbody>\n",
       "    <tr>\n",
       "      <th>0</th>\n",
       "      <td>25-Mar-2023</td>\n",
       "      <td>2023.0</td>\n",
       "      <td>Unprovoked</td>\n",
       "      <td>USA</td>\n",
       "      <td>Florida</td>\n",
       "      <td>Blue Fish Channel, Key West, Monroe County</td>\n",
       "      <td>Kite-Surfing</td>\n",
       "      <td>Kevin  Carlton Scott</td>\n",
       "      <td>M</td>\n",
       "      <td>67</td>\n",
       "      <td>...</td>\n",
       "      <td>NaN</td>\n",
       "      <td>Yahoo News, 3/28/2023</td>\n",
       "      <td>NaN</td>\n",
       "      <td>NaN</td>\n",
       "      <td>NaN</td>\n",
       "      <td>NaN</td>\n",
       "      <td>NaN</td>\n",
       "      <td>NaN</td>\n",
       "      <td>NaN</td>\n",
       "      <td>NaN</td>\n",
       "    </tr>\n",
       "    <tr>\n",
       "      <th>1</th>\n",
       "      <td>22-Mar-2023</td>\n",
       "      <td>2023.0</td>\n",
       "      <td>Unprovoked</td>\n",
       "      <td>AUSTRALIA</td>\n",
       "      <td>Western Australia</td>\n",
       "      <td>Delta Island</td>\n",
       "      <td>Wading</td>\n",
       "      <td>Adam Norton</td>\n",
       "      <td>M</td>\n",
       "      <td>30s</td>\n",
       "      <td>...</td>\n",
       "      <td>NaN</td>\n",
       "      <td>A. Currie, GSAF</td>\n",
       "      <td>NaN</td>\n",
       "      <td>NaN</td>\n",
       "      <td>NaN</td>\n",
       "      <td>NaN</td>\n",
       "      <td>NaN</td>\n",
       "      <td>NaN</td>\n",
       "      <td>NaN</td>\n",
       "      <td>NaN</td>\n",
       "    </tr>\n",
       "    <tr>\n",
       "      <th>2</th>\n",
       "      <td>19-Mar-2023</td>\n",
       "      <td>2023.0</td>\n",
       "      <td>Unprovoked</td>\n",
       "      <td>USA</td>\n",
       "      <td>Hawaii</td>\n",
       "      <td>Anaehoomalu Bay</td>\n",
       "      <td>Swimming</td>\n",
       "      <td>male</td>\n",
       "      <td>M</td>\n",
       "      <td>60</td>\n",
       "      <td>...</td>\n",
       "      <td>NaN</td>\n",
       "      <td>Khon2, 3/19/2023</td>\n",
       "      <td>NaN</td>\n",
       "      <td>NaN</td>\n",
       "      <td>NaN</td>\n",
       "      <td>NaN</td>\n",
       "      <td>NaN</td>\n",
       "      <td>NaN</td>\n",
       "      <td>NaN</td>\n",
       "      <td>NaN</td>\n",
       "    </tr>\n",
       "    <tr>\n",
       "      <th>3</th>\n",
       "      <td>17-Mar-2023</td>\n",
       "      <td>2023.0</td>\n",
       "      <td>Unprovoked</td>\n",
       "      <td>MEXICO</td>\n",
       "      <td>Quintana Roo</td>\n",
       "      <td>Cancún</td>\n",
       "      <td>Swimming</td>\n",
       "      <td>Dillon Armijo</td>\n",
       "      <td>M</td>\n",
       "      <td>10</td>\n",
       "      <td>...</td>\n",
       "      <td>NaN</td>\n",
       "      <td>Denver7, 3/29/2023</td>\n",
       "      <td>NaN</td>\n",
       "      <td>NaN</td>\n",
       "      <td>NaN</td>\n",
       "      <td>NaN</td>\n",
       "      <td>NaN</td>\n",
       "      <td>NaN</td>\n",
       "      <td>NaN</td>\n",
       "      <td>NaN</td>\n",
       "    </tr>\n",
       "    <tr>\n",
       "      <th>4</th>\n",
       "      <td>16-Mar-2023</td>\n",
       "      <td>2023.0</td>\n",
       "      <td>Unprovoked</td>\n",
       "      <td>AUSTRALIA</td>\n",
       "      <td>Western Australia</td>\n",
       "      <td>Cheynes Beach</td>\n",
       "      <td>Surf-sking</td>\n",
       "      <td>female</td>\n",
       "      <td>F</td>\n",
       "      <td>NaN</td>\n",
       "      <td>...</td>\n",
       "      <td>5m to 6m shark</td>\n",
       "      <td>B. Myatt, GSAF</td>\n",
       "      <td>NaN</td>\n",
       "      <td>NaN</td>\n",
       "      <td>NaN</td>\n",
       "      <td>NaN</td>\n",
       "      <td>NaN</td>\n",
       "      <td>NaN</td>\n",
       "      <td>NaN</td>\n",
       "      <td>NaN</td>\n",
       "    </tr>\n",
       "    <tr>\n",
       "      <th>...</th>\n",
       "      <td>...</td>\n",
       "      <td>...</td>\n",
       "      <td>...</td>\n",
       "      <td>...</td>\n",
       "      <td>...</td>\n",
       "      <td>...</td>\n",
       "      <td>...</td>\n",
       "      <td>...</td>\n",
       "      <td>...</td>\n",
       "      <td>...</td>\n",
       "      <td>...</td>\n",
       "      <td>...</td>\n",
       "      <td>...</td>\n",
       "      <td>...</td>\n",
       "      <td>...</td>\n",
       "      <td>...</td>\n",
       "      <td>...</td>\n",
       "      <td>...</td>\n",
       "      <td>...</td>\n",
       "      <td>...</td>\n",
       "      <td>...</td>\n",
       "    </tr>\n",
       "    <tr>\n",
       "      <th>6860</th>\n",
       "      <td>NaN</td>\n",
       "      <td>NaN</td>\n",
       "      <td>NaN</td>\n",
       "      <td>NaN</td>\n",
       "      <td>NaN</td>\n",
       "      <td>NaN</td>\n",
       "      <td>NaN</td>\n",
       "      <td>NaN</td>\n",
       "      <td>NaN</td>\n",
       "      <td>NaN</td>\n",
       "      <td>...</td>\n",
       "      <td>NaN</td>\n",
       "      <td>NaN</td>\n",
       "      <td>NaN</td>\n",
       "      <td>http://sharkattackfile.net/spreadsheets/pdf_di...</td>\n",
       "      <td>NaN</td>\n",
       "      <td>NaN</td>\n",
       "      <td>NaN</td>\n",
       "      <td>NaN</td>\n",
       "      <td>NaN</td>\n",
       "      <td>NaN</td>\n",
       "    </tr>\n",
       "    <tr>\n",
       "      <th>6861</th>\n",
       "      <td>NaN</td>\n",
       "      <td>NaN</td>\n",
       "      <td>NaN</td>\n",
       "      <td>NaN</td>\n",
       "      <td>NaN</td>\n",
       "      <td>NaN</td>\n",
       "      <td>NaN</td>\n",
       "      <td>NaN</td>\n",
       "      <td>NaN</td>\n",
       "      <td>NaN</td>\n",
       "      <td>...</td>\n",
       "      <td>NaN</td>\n",
       "      <td>NaN</td>\n",
       "      <td>NaN</td>\n",
       "      <td>http://sharkattackfile.net/spreadsheets/pdf_di...</td>\n",
       "      <td>NaN</td>\n",
       "      <td>NaN</td>\n",
       "      <td>NaN</td>\n",
       "      <td>NaN</td>\n",
       "      <td>NaN</td>\n",
       "      <td>NaN</td>\n",
       "    </tr>\n",
       "    <tr>\n",
       "      <th>6862</th>\n",
       "      <td>NaN</td>\n",
       "      <td>NaN</td>\n",
       "      <td>NaN</td>\n",
       "      <td>NaN</td>\n",
       "      <td>NaN</td>\n",
       "      <td>NaN</td>\n",
       "      <td>NaN</td>\n",
       "      <td>NaN</td>\n",
       "      <td>NaN</td>\n",
       "      <td>NaN</td>\n",
       "      <td>...</td>\n",
       "      <td>NaN</td>\n",
       "      <td>NaN</td>\n",
       "      <td>NaN</td>\n",
       "      <td>http://sharkattackfile.net/spreadsheets/pdf_di...</td>\n",
       "      <td>NaN</td>\n",
       "      <td>NaN</td>\n",
       "      <td>NaN</td>\n",
       "      <td>NaN</td>\n",
       "      <td>NaN</td>\n",
       "      <td>NaN</td>\n",
       "    </tr>\n",
       "    <tr>\n",
       "      <th>6863</th>\n",
       "      <td>NaN</td>\n",
       "      <td>NaN</td>\n",
       "      <td>NaN</td>\n",
       "      <td>NaN</td>\n",
       "      <td>NaN</td>\n",
       "      <td>NaN</td>\n",
       "      <td>NaN</td>\n",
       "      <td>NaN</td>\n",
       "      <td>NaN</td>\n",
       "      <td>NaN</td>\n",
       "      <td>...</td>\n",
       "      <td>NaN</td>\n",
       "      <td>NaN</td>\n",
       "      <td>NaN</td>\n",
       "      <td>http://sharkattackfile.net/spreadsheets/pdf_di...</td>\n",
       "      <td>NaN</td>\n",
       "      <td>NaN</td>\n",
       "      <td>NaN</td>\n",
       "      <td>NaN</td>\n",
       "      <td>NaN</td>\n",
       "      <td>NaN</td>\n",
       "    </tr>\n",
       "    <tr>\n",
       "      <th>6864</th>\n",
       "      <td>NaN</td>\n",
       "      <td>NaN</td>\n",
       "      <td>NaN</td>\n",
       "      <td>NaN</td>\n",
       "      <td>NaN</td>\n",
       "      <td>NaN</td>\n",
       "      <td>NaN</td>\n",
       "      <td>NaN</td>\n",
       "      <td>NaN</td>\n",
       "      <td>NaN</td>\n",
       "      <td>...</td>\n",
       "      <td>NaN</td>\n",
       "      <td>NaN</td>\n",
       "      <td>NaN</td>\n",
       "      <td>http://sharkattackfile.net/spreadsheets/pdf_di...</td>\n",
       "      <td>NaN</td>\n",
       "      <td>NaN</td>\n",
       "      <td>NaN</td>\n",
       "      <td>NaN</td>\n",
       "      <td>NaN</td>\n",
       "      <td>NaN</td>\n",
       "    </tr>\n",
       "  </tbody>\n",
       "</table>\n",
       "<p>6865 rows × 23 columns</p>\n",
       "</div>"
      ],
      "text/plain": [
       "             Date    Year        Type    Country               Area  \\\n",
       "0     25-Mar-2023  2023.0  Unprovoked        USA            Florida   \n",
       "1     22-Mar-2023  2023.0  Unprovoked  AUSTRALIA  Western Australia   \n",
       "2     19-Mar-2023  2023.0  Unprovoked        USA             Hawaii   \n",
       "3     17-Mar-2023  2023.0  Unprovoked     MEXICO       Quintana Roo   \n",
       "4     16-Mar-2023  2023.0  Unprovoked  AUSTRALIA  Western Australia   \n",
       "...           ...     ...         ...        ...                ...   \n",
       "6860          NaN     NaN         NaN        NaN                NaN   \n",
       "6861          NaN     NaN         NaN        NaN                NaN   \n",
       "6862          NaN     NaN         NaN        NaN                NaN   \n",
       "6863          NaN     NaN         NaN        NaN                NaN   \n",
       "6864          NaN     NaN         NaN        NaN                NaN   \n",
       "\n",
       "                                        Location      Activity  \\\n",
       "0     Blue Fish Channel, Key West, Monroe County  Kite-Surfing   \n",
       "1                                   Delta Island        Wading   \n",
       "2                                Anaehoomalu Bay      Swimming   \n",
       "3                                         Cancún      Swimming   \n",
       "4                                 Cheynes Beach     Surf-sking   \n",
       "...                                          ...           ...   \n",
       "6860                                         NaN           NaN   \n",
       "6861                                         NaN           NaN   \n",
       "6862                                         NaN           NaN   \n",
       "6863                                         NaN           NaN   \n",
       "6864                                         NaN           NaN   \n",
       "\n",
       "                      Name Sex   Age  ...        Species   \\\n",
       "0     Kevin  Carlton Scott    M   67  ...             NaN   \n",
       "1              Adam Norton    M  30s  ...             NaN   \n",
       "2                     male    M   60  ...             NaN   \n",
       "3            Dillon Armijo    M   10  ...             NaN   \n",
       "4                   female    F  NaN  ...  5m to 6m shark   \n",
       "...                    ...  ...  ...  ...             ...   \n",
       "6860                   NaN  NaN  NaN  ...             NaN   \n",
       "6861                   NaN  NaN  NaN  ...             NaN   \n",
       "6862                   NaN  NaN  NaN  ...             NaN   \n",
       "6863                   NaN  NaN  NaN  ...             NaN   \n",
       "6864                   NaN  NaN  NaN  ...             NaN   \n",
       "\n",
       "     Investigator or Source  pdf  \\\n",
       "0     Yahoo News, 3/28/2023  NaN   \n",
       "1           A. Currie, GSAF  NaN   \n",
       "2          Khon2, 3/19/2023  NaN   \n",
       "3        Denver7, 3/29/2023  NaN   \n",
       "4            B. Myatt, GSAF  NaN   \n",
       "...                     ...  ...   \n",
       "6860                    NaN  NaN   \n",
       "6861                    NaN  NaN   \n",
       "6862                    NaN  NaN   \n",
       "6863                    NaN  NaN   \n",
       "6864                    NaN  NaN   \n",
       "\n",
       "                                           href formula href Case Number  \\\n",
       "0                                                   NaN  NaN         NaN   \n",
       "1                                                   NaN  NaN         NaN   \n",
       "2                                                   NaN  NaN         NaN   \n",
       "3                                                   NaN  NaN         NaN   \n",
       "4                                                   NaN  NaN         NaN   \n",
       "...                                                 ...  ...         ...   \n",
       "6860  http://sharkattackfile.net/spreadsheets/pdf_di...  NaN         NaN   \n",
       "6861  http://sharkattackfile.net/spreadsheets/pdf_di...  NaN         NaN   \n",
       "6862  http://sharkattackfile.net/spreadsheets/pdf_di...  NaN         NaN   \n",
       "6863  http://sharkattackfile.net/spreadsheets/pdf_di...  NaN         NaN   \n",
       "6864  http://sharkattackfile.net/spreadsheets/pdf_di...  NaN         NaN   \n",
       "\n",
       "     Case Number.1 original order Unnamed: 21 Unnamed: 22  \n",
       "0              NaN            NaN         NaN         NaN  \n",
       "1              NaN            NaN         NaN         NaN  \n",
       "2              NaN            NaN         NaN         NaN  \n",
       "3              NaN            NaN         NaN         NaN  \n",
       "4              NaN            NaN         NaN         NaN  \n",
       "...            ...            ...         ...         ...  \n",
       "6860           NaN            NaN         NaN         NaN  \n",
       "6861           NaN            NaN         NaN         NaN  \n",
       "6862           NaN            NaN         NaN         NaN  \n",
       "6863           NaN            NaN         NaN         NaN  \n",
       "6864           NaN            NaN         NaN         NaN  \n",
       "\n",
       "[6865 rows x 23 columns]"
      ]
     },
     "execution_count": 2,
     "metadata": {},
     "output_type": "execute_result"
    }
   ],
   "source": [
    "#read the excel file in a variable called shark_attacks\n",
    "shark_attacks = pd.read_excel(r'C:\\Users\\PC\\Desktop\\Ironhack\\WR_Ironhack_Projects\\Project_Shark_Attack\\GSAF5.xls')\n",
    "\n",
    "#display the dataframe\n",
    "shark_attacks"
   ]
  },
  {
   "cell_type": "markdown",
   "id": "cada5f3c",
   "metadata": {},
   "source": [
    "Originally 6865 rows × 23 columns"
   ]
  },
  {
   "cell_type": "code",
   "execution_count": 3,
   "id": "fad78e52",
   "metadata": {
    "ExecuteTime": {
     "end_time": "2023-04-04T20:03:01.572833Z",
     "start_time": "2023-04-04T20:03:01.497411Z"
    }
   },
   "outputs": [
    {
     "name": "stdout",
     "output_type": "stream",
     "text": [
      "<class 'pandas.core.frame.DataFrame'>\n",
      "RangeIndex: 6865 entries, 0 to 6864\n",
      "Data columns (total 23 columns):\n",
      " #   Column                  Non-Null Count  Dtype  \n",
      "---  ------                  --------------  -----  \n",
      " 0   Date                    6840 non-null   object \n",
      " 1   Year                    6838 non-null   float64\n",
      " 2   Type                    6820 non-null   object \n",
      " 3   Country                 6790 non-null   object \n",
      " 4   Area                    6362 non-null   object \n",
      " 5   Location                6279 non-null   object \n",
      " 6   Activity                6257 non-null   object \n",
      " 7   Name                    6621 non-null   object \n",
      " 8   Sex                     6263 non-null   object \n",
      " 9   Age                     3869 non-null   object \n",
      " 10  Injury                  6805 non-null   object \n",
      " 11  Fatal (Y/N)             6282 non-null   object \n",
      " 12  Time                    3339 non-null   object \n",
      " 13  Species                 3757 non-null   object \n",
      " 14  Investigator or Source  6821 non-null   object \n",
      " 15  pdf                     6799 non-null   object \n",
      " 16  href formula            6819 non-null   object \n",
      " 17  href                    6796 non-null   object \n",
      " 18  Case Number             6798 non-null   object \n",
      " 19  Case Number.1           6797 non-null   object \n",
      " 20  original order          6799 non-null   float64\n",
      " 21  Unnamed: 21             1 non-null      object \n",
      " 22  Unnamed: 22             2 non-null      object \n",
      "dtypes: float64(2), object(21)\n",
      "memory usage: 1.2+ MB\n"
     ]
    }
   ],
   "source": [
    "#check infos about \n",
    "#check for null columns\n",
    "shark_attacks.info()"
   ]
  },
  {
   "cell_type": "markdown",
   "id": "370bb539",
   "metadata": {},
   "source": [
    "## GENERAL"
   ]
  },
  {
   "cell_type": "code",
   "execution_count": 4,
   "id": "58b4ed44",
   "metadata": {
    "ExecuteTime": {
     "end_time": "2023-04-04T20:03:01.603504Z",
     "start_time": "2023-04-04T20:03:01.584579Z"
    }
   },
   "outputs": [
    {
     "data": {
      "text/plain": [
       "Index(['Date', 'Year', 'Type', 'Country', 'Area', 'Location', 'Activity',\n",
       "       'Name', 'Sex ', 'Age', 'Injury', 'Fatal (Y/N)', 'Time', 'Species ',\n",
       "       'Investigator or Source', 'pdf', 'href formula', 'href', 'Case Number',\n",
       "       'Case Number.1', 'original order', 'Unnamed: 21', 'Unnamed: 22'],\n",
       "      dtype='object')"
      ]
     },
     "execution_count": 4,
     "metadata": {},
     "output_type": "execute_result"
    }
   ],
   "source": [
    "#check the columns to see if treatment is needed\n",
    "shark_attacks.columns"
   ]
  },
  {
   "cell_type": "code",
   "execution_count": 5,
   "id": "d4683c2d",
   "metadata": {
    "ExecuteTime": {
     "end_time": "2023-04-04T20:03:01.650455Z",
     "start_time": "2023-04-04T20:03:01.614357Z"
    }
   },
   "outputs": [],
   "source": [
    "#tremove them the space all column tittles\n",
    "shark_attacks.columns = shark_attacks.columns.str.rstrip()"
   ]
  },
  {
   "cell_type": "code",
   "execution_count": 6,
   "id": "855e0539",
   "metadata": {
    "ExecuteTime": {
     "end_time": "2023-04-04T20:03:01.667780Z",
     "start_time": "2023-04-04T20:03:01.654474Z"
    }
   },
   "outputs": [
    {
     "data": {
      "text/plain": [
       "Index(['Date', 'Year', 'Type', 'Country', 'Area', 'Location', 'Activity',\n",
       "       'Name', 'Sex', 'Age', 'Injury', 'Fatal (Y/N)', 'Time', 'Species',\n",
       "       'Investigator or Source', 'pdf', 'href formula', 'href', 'Case Number',\n",
       "       'Case Number.1', 'original order', 'Unnamed: 21', 'Unnamed: 22'],\n",
       "      dtype='object')"
      ]
     },
     "execution_count": 6,
     "metadata": {},
     "output_type": "execute_result"
    }
   ],
   "source": [
    "#check the columns to see if columns are fixed\n",
    "shark_attacks.columns"
   ]
  },
  {
   "cell_type": "code",
   "execution_count": 7,
   "id": "fc117274",
   "metadata": {
    "ExecuteTime": {
     "end_time": "2023-04-04T20:03:01.851675Z",
     "start_time": "2023-04-04T20:03:01.677821Z"
    }
   },
   "outputs": [
    {
     "data": {
      "text/html": [
       "<div>\n",
       "<style scoped>\n",
       "    .dataframe tbody tr th:only-of-type {\n",
       "        vertical-align: middle;\n",
       "    }\n",
       "\n",
       "    .dataframe tbody tr th {\n",
       "        vertical-align: top;\n",
       "    }\n",
       "\n",
       "    .dataframe thead th {\n",
       "        text-align: right;\n",
       "    }\n",
       "</style>\n",
       "<table border=\"1\" class=\"dataframe\">\n",
       "  <thead>\n",
       "    <tr style=\"text-align: right;\">\n",
       "      <th></th>\n",
       "      <th>Date</th>\n",
       "      <th>Year</th>\n",
       "      <th>Type</th>\n",
       "      <th>Country</th>\n",
       "      <th>Area</th>\n",
       "      <th>Location</th>\n",
       "      <th>Activity</th>\n",
       "      <th>Name</th>\n",
       "      <th>Sex</th>\n",
       "      <th>Age</th>\n",
       "      <th>...</th>\n",
       "      <th>Fatal (Y/N)</th>\n",
       "      <th>Time</th>\n",
       "      <th>Species</th>\n",
       "      <th>Investigator or Source</th>\n",
       "      <th>pdf</th>\n",
       "      <th>href formula</th>\n",
       "      <th>href</th>\n",
       "      <th>Case Number</th>\n",
       "      <th>Case Number.1</th>\n",
       "      <th>original order</th>\n",
       "    </tr>\n",
       "  </thead>\n",
       "  <tbody>\n",
       "    <tr>\n",
       "      <th>0</th>\n",
       "      <td>25-Mar-2023</td>\n",
       "      <td>2023.0</td>\n",
       "      <td>Unprovoked</td>\n",
       "      <td>USA</td>\n",
       "      <td>Florida</td>\n",
       "      <td>Blue Fish Channel, Key West, Monroe County</td>\n",
       "      <td>Kite-Surfing</td>\n",
       "      <td>Kevin  Carlton Scott</td>\n",
       "      <td>M</td>\n",
       "      <td>67</td>\n",
       "      <td>...</td>\n",
       "      <td>N</td>\n",
       "      <td>14h00</td>\n",
       "      <td>NaN</td>\n",
       "      <td>Yahoo News, 3/28/2023</td>\n",
       "      <td>NaN</td>\n",
       "      <td>NaN</td>\n",
       "      <td>NaN</td>\n",
       "      <td>NaN</td>\n",
       "      <td>NaN</td>\n",
       "      <td>NaN</td>\n",
       "    </tr>\n",
       "    <tr>\n",
       "      <th>1</th>\n",
       "      <td>22-Mar-2023</td>\n",
       "      <td>2023.0</td>\n",
       "      <td>Unprovoked</td>\n",
       "      <td>AUSTRALIA</td>\n",
       "      <td>Western Australia</td>\n",
       "      <td>Delta Island</td>\n",
       "      <td>Wading</td>\n",
       "      <td>Adam Norton</td>\n",
       "      <td>M</td>\n",
       "      <td>30s</td>\n",
       "      <td>...</td>\n",
       "      <td>N</td>\n",
       "      <td>18h00</td>\n",
       "      <td>NaN</td>\n",
       "      <td>A. Currie, GSAF</td>\n",
       "      <td>NaN</td>\n",
       "      <td>NaN</td>\n",
       "      <td>NaN</td>\n",
       "      <td>NaN</td>\n",
       "      <td>NaN</td>\n",
       "      <td>NaN</td>\n",
       "    </tr>\n",
       "    <tr>\n",
       "      <th>2</th>\n",
       "      <td>19-Mar-2023</td>\n",
       "      <td>2023.0</td>\n",
       "      <td>Unprovoked</td>\n",
       "      <td>USA</td>\n",
       "      <td>Hawaii</td>\n",
       "      <td>Anaehoomalu Bay</td>\n",
       "      <td>Swimming</td>\n",
       "      <td>male</td>\n",
       "      <td>M</td>\n",
       "      <td>60</td>\n",
       "      <td>...</td>\n",
       "      <td>N</td>\n",
       "      <td>12h30</td>\n",
       "      <td>NaN</td>\n",
       "      <td>Khon2, 3/19/2023</td>\n",
       "      <td>NaN</td>\n",
       "      <td>NaN</td>\n",
       "      <td>NaN</td>\n",
       "      <td>NaN</td>\n",
       "      <td>NaN</td>\n",
       "      <td>NaN</td>\n",
       "    </tr>\n",
       "    <tr>\n",
       "      <th>3</th>\n",
       "      <td>17-Mar-2023</td>\n",
       "      <td>2023.0</td>\n",
       "      <td>Unprovoked</td>\n",
       "      <td>MEXICO</td>\n",
       "      <td>Quintana Roo</td>\n",
       "      <td>Cancún</td>\n",
       "      <td>Swimming</td>\n",
       "      <td>Dillon Armijo</td>\n",
       "      <td>M</td>\n",
       "      <td>10</td>\n",
       "      <td>...</td>\n",
       "      <td>N</td>\n",
       "      <td>NaN</td>\n",
       "      <td>NaN</td>\n",
       "      <td>Denver7, 3/29/2023</td>\n",
       "      <td>NaN</td>\n",
       "      <td>NaN</td>\n",
       "      <td>NaN</td>\n",
       "      <td>NaN</td>\n",
       "      <td>NaN</td>\n",
       "      <td>NaN</td>\n",
       "    </tr>\n",
       "    <tr>\n",
       "      <th>4</th>\n",
       "      <td>16-Mar-2023</td>\n",
       "      <td>2023.0</td>\n",
       "      <td>Unprovoked</td>\n",
       "      <td>AUSTRALIA</td>\n",
       "      <td>Western Australia</td>\n",
       "      <td>Cheynes Beach</td>\n",
       "      <td>Surf-sking</td>\n",
       "      <td>female</td>\n",
       "      <td>F</td>\n",
       "      <td>NaN</td>\n",
       "      <td>...</td>\n",
       "      <td>N</td>\n",
       "      <td>08h00</td>\n",
       "      <td>5m to 6m shark</td>\n",
       "      <td>B. Myatt, GSAF</td>\n",
       "      <td>NaN</td>\n",
       "      <td>NaN</td>\n",
       "      <td>NaN</td>\n",
       "      <td>NaN</td>\n",
       "      <td>NaN</td>\n",
       "      <td>NaN</td>\n",
       "    </tr>\n",
       "    <tr>\n",
       "      <th>...</th>\n",
       "      <td>...</td>\n",
       "      <td>...</td>\n",
       "      <td>...</td>\n",
       "      <td>...</td>\n",
       "      <td>...</td>\n",
       "      <td>...</td>\n",
       "      <td>...</td>\n",
       "      <td>...</td>\n",
       "      <td>...</td>\n",
       "      <td>...</td>\n",
       "      <td>...</td>\n",
       "      <td>...</td>\n",
       "      <td>...</td>\n",
       "      <td>...</td>\n",
       "      <td>...</td>\n",
       "      <td>...</td>\n",
       "      <td>...</td>\n",
       "      <td>...</td>\n",
       "      <td>...</td>\n",
       "      <td>...</td>\n",
       "      <td>...</td>\n",
       "    </tr>\n",
       "    <tr>\n",
       "      <th>6860</th>\n",
       "      <td>NaN</td>\n",
       "      <td>NaN</td>\n",
       "      <td>NaN</td>\n",
       "      <td>NaN</td>\n",
       "      <td>NaN</td>\n",
       "      <td>NaN</td>\n",
       "      <td>NaN</td>\n",
       "      <td>NaN</td>\n",
       "      <td>NaN</td>\n",
       "      <td>NaN</td>\n",
       "      <td>...</td>\n",
       "      <td>NaN</td>\n",
       "      <td>NaN</td>\n",
       "      <td>NaN</td>\n",
       "      <td>NaN</td>\n",
       "      <td>NaN</td>\n",
       "      <td>http://sharkattackfile.net/spreadsheets/pdf_di...</td>\n",
       "      <td>NaN</td>\n",
       "      <td>NaN</td>\n",
       "      <td>NaN</td>\n",
       "      <td>NaN</td>\n",
       "    </tr>\n",
       "    <tr>\n",
       "      <th>6861</th>\n",
       "      <td>NaN</td>\n",
       "      <td>NaN</td>\n",
       "      <td>NaN</td>\n",
       "      <td>NaN</td>\n",
       "      <td>NaN</td>\n",
       "      <td>NaN</td>\n",
       "      <td>NaN</td>\n",
       "      <td>NaN</td>\n",
       "      <td>NaN</td>\n",
       "      <td>NaN</td>\n",
       "      <td>...</td>\n",
       "      <td>NaN</td>\n",
       "      <td>NaN</td>\n",
       "      <td>NaN</td>\n",
       "      <td>NaN</td>\n",
       "      <td>NaN</td>\n",
       "      <td>http://sharkattackfile.net/spreadsheets/pdf_di...</td>\n",
       "      <td>NaN</td>\n",
       "      <td>NaN</td>\n",
       "      <td>NaN</td>\n",
       "      <td>NaN</td>\n",
       "    </tr>\n",
       "    <tr>\n",
       "      <th>6862</th>\n",
       "      <td>NaN</td>\n",
       "      <td>NaN</td>\n",
       "      <td>NaN</td>\n",
       "      <td>NaN</td>\n",
       "      <td>NaN</td>\n",
       "      <td>NaN</td>\n",
       "      <td>NaN</td>\n",
       "      <td>NaN</td>\n",
       "      <td>NaN</td>\n",
       "      <td>NaN</td>\n",
       "      <td>...</td>\n",
       "      <td>NaN</td>\n",
       "      <td>NaN</td>\n",
       "      <td>NaN</td>\n",
       "      <td>NaN</td>\n",
       "      <td>NaN</td>\n",
       "      <td>http://sharkattackfile.net/spreadsheets/pdf_di...</td>\n",
       "      <td>NaN</td>\n",
       "      <td>NaN</td>\n",
       "      <td>NaN</td>\n",
       "      <td>NaN</td>\n",
       "    </tr>\n",
       "    <tr>\n",
       "      <th>6863</th>\n",
       "      <td>NaN</td>\n",
       "      <td>NaN</td>\n",
       "      <td>NaN</td>\n",
       "      <td>NaN</td>\n",
       "      <td>NaN</td>\n",
       "      <td>NaN</td>\n",
       "      <td>NaN</td>\n",
       "      <td>NaN</td>\n",
       "      <td>NaN</td>\n",
       "      <td>NaN</td>\n",
       "      <td>...</td>\n",
       "      <td>NaN</td>\n",
       "      <td>NaN</td>\n",
       "      <td>NaN</td>\n",
       "      <td>NaN</td>\n",
       "      <td>NaN</td>\n",
       "      <td>http://sharkattackfile.net/spreadsheets/pdf_di...</td>\n",
       "      <td>NaN</td>\n",
       "      <td>NaN</td>\n",
       "      <td>NaN</td>\n",
       "      <td>NaN</td>\n",
       "    </tr>\n",
       "    <tr>\n",
       "      <th>6864</th>\n",
       "      <td>NaN</td>\n",
       "      <td>NaN</td>\n",
       "      <td>NaN</td>\n",
       "      <td>NaN</td>\n",
       "      <td>NaN</td>\n",
       "      <td>NaN</td>\n",
       "      <td>NaN</td>\n",
       "      <td>NaN</td>\n",
       "      <td>NaN</td>\n",
       "      <td>NaN</td>\n",
       "      <td>...</td>\n",
       "      <td>NaN</td>\n",
       "      <td>NaN</td>\n",
       "      <td>NaN</td>\n",
       "      <td>NaN</td>\n",
       "      <td>NaN</td>\n",
       "      <td>http://sharkattackfile.net/spreadsheets/pdf_di...</td>\n",
       "      <td>NaN</td>\n",
       "      <td>NaN</td>\n",
       "      <td>NaN</td>\n",
       "      <td>NaN</td>\n",
       "    </tr>\n",
       "  </tbody>\n",
       "</table>\n",
       "<p>6865 rows × 21 columns</p>\n",
       "</div>"
      ],
      "text/plain": [
       "             Date    Year        Type    Country               Area  \\\n",
       "0     25-Mar-2023  2023.0  Unprovoked        USA            Florida   \n",
       "1     22-Mar-2023  2023.0  Unprovoked  AUSTRALIA  Western Australia   \n",
       "2     19-Mar-2023  2023.0  Unprovoked        USA             Hawaii   \n",
       "3     17-Mar-2023  2023.0  Unprovoked     MEXICO       Quintana Roo   \n",
       "4     16-Mar-2023  2023.0  Unprovoked  AUSTRALIA  Western Australia   \n",
       "...           ...     ...         ...        ...                ...   \n",
       "6860          NaN     NaN         NaN        NaN                NaN   \n",
       "6861          NaN     NaN         NaN        NaN                NaN   \n",
       "6862          NaN     NaN         NaN        NaN                NaN   \n",
       "6863          NaN     NaN         NaN        NaN                NaN   \n",
       "6864          NaN     NaN         NaN        NaN                NaN   \n",
       "\n",
       "                                        Location      Activity  \\\n",
       "0     Blue Fish Channel, Key West, Monroe County  Kite-Surfing   \n",
       "1                                   Delta Island        Wading   \n",
       "2                                Anaehoomalu Bay      Swimming   \n",
       "3                                         Cancún      Swimming   \n",
       "4                                 Cheynes Beach     Surf-sking   \n",
       "...                                          ...           ...   \n",
       "6860                                         NaN           NaN   \n",
       "6861                                         NaN           NaN   \n",
       "6862                                         NaN           NaN   \n",
       "6863                                         NaN           NaN   \n",
       "6864                                         NaN           NaN   \n",
       "\n",
       "                      Name  Sex  Age  ... Fatal (Y/N)   Time         Species  \\\n",
       "0     Kevin  Carlton Scott    M   67  ...           N  14h00             NaN   \n",
       "1              Adam Norton    M  30s  ...           N  18h00             NaN   \n",
       "2                     male    M   60  ...           N  12h30             NaN   \n",
       "3            Dillon Armijo    M   10  ...           N    NaN             NaN   \n",
       "4                   female    F  NaN  ...           N  08h00  5m to 6m shark   \n",
       "...                    ...  ...  ...  ...         ...    ...             ...   \n",
       "6860                   NaN  NaN  NaN  ...         NaN    NaN             NaN   \n",
       "6861                   NaN  NaN  NaN  ...         NaN    NaN             NaN   \n",
       "6862                   NaN  NaN  NaN  ...         NaN    NaN             NaN   \n",
       "6863                   NaN  NaN  NaN  ...         NaN    NaN             NaN   \n",
       "6864                   NaN  NaN  NaN  ...         NaN    NaN             NaN   \n",
       "\n",
       "     Investigator or Source  pdf  \\\n",
       "0     Yahoo News, 3/28/2023  NaN   \n",
       "1           A. Currie, GSAF  NaN   \n",
       "2          Khon2, 3/19/2023  NaN   \n",
       "3        Denver7, 3/29/2023  NaN   \n",
       "4            B. Myatt, GSAF  NaN   \n",
       "...                     ...  ...   \n",
       "6860                    NaN  NaN   \n",
       "6861                    NaN  NaN   \n",
       "6862                    NaN  NaN   \n",
       "6863                    NaN  NaN   \n",
       "6864                    NaN  NaN   \n",
       "\n",
       "                                           href formula href Case Number  \\\n",
       "0                                                   NaN  NaN         NaN   \n",
       "1                                                   NaN  NaN         NaN   \n",
       "2                                                   NaN  NaN         NaN   \n",
       "3                                                   NaN  NaN         NaN   \n",
       "4                                                   NaN  NaN         NaN   \n",
       "...                                                 ...  ...         ...   \n",
       "6860  http://sharkattackfile.net/spreadsheets/pdf_di...  NaN         NaN   \n",
       "6861  http://sharkattackfile.net/spreadsheets/pdf_di...  NaN         NaN   \n",
       "6862  http://sharkattackfile.net/spreadsheets/pdf_di...  NaN         NaN   \n",
       "6863  http://sharkattackfile.net/spreadsheets/pdf_di...  NaN         NaN   \n",
       "6864  http://sharkattackfile.net/spreadsheets/pdf_di...  NaN         NaN   \n",
       "\n",
       "     Case Number.1 original order  \n",
       "0              NaN            NaN  \n",
       "1              NaN            NaN  \n",
       "2              NaN            NaN  \n",
       "3              NaN            NaN  \n",
       "4              NaN            NaN  \n",
       "...            ...            ...  \n",
       "6860           NaN            NaN  \n",
       "6861           NaN            NaN  \n",
       "6862           NaN            NaN  \n",
       "6863           NaN            NaN  \n",
       "6864           NaN            NaN  \n",
       "\n",
       "[6865 rows x 21 columns]"
      ]
     },
     "execution_count": 7,
     "metadata": {},
     "output_type": "execute_result"
    }
   ],
   "source": [
    "#eliminate columns Unnamed: 21 and Unnamed: 22 which are almost 100% null\n",
    "shark_attacks.drop(columns = ['Unnamed: 21', 'Unnamed: 22'], inplace = True)\n",
    "shark_attacks"
   ]
  },
  {
   "cell_type": "code",
   "execution_count": 8,
   "id": "8a5dc54c",
   "metadata": {
    "ExecuteTime": {
     "end_time": "2023-04-04T20:03:01.931076Z",
     "start_time": "2023-04-04T20:03:01.854729Z"
    },
    "scrolled": true
   },
   "outputs": [
    {
     "data": {
      "text/html": [
       "<div>\n",
       "<style scoped>\n",
       "    .dataframe tbody tr th:only-of-type {\n",
       "        vertical-align: middle;\n",
       "    }\n",
       "\n",
       "    .dataframe tbody tr th {\n",
       "        vertical-align: top;\n",
       "    }\n",
       "\n",
       "    .dataframe thead th {\n",
       "        text-align: right;\n",
       "    }\n",
       "</style>\n",
       "<table border=\"1\" class=\"dataframe\">\n",
       "  <thead>\n",
       "    <tr style=\"text-align: right;\">\n",
       "      <th></th>\n",
       "      <th>Date</th>\n",
       "      <th>Year</th>\n",
       "      <th>Country</th>\n",
       "      <th>Area</th>\n",
       "      <th>Location</th>\n",
       "      <th>Activity</th>\n",
       "      <th>Name</th>\n",
       "      <th>Sex</th>\n",
       "      <th>Age</th>\n",
       "      <th>Injury</th>\n",
       "      <th>Fatal (Y/N)</th>\n",
       "      <th>Species</th>\n",
       "    </tr>\n",
       "  </thead>\n",
       "  <tbody>\n",
       "    <tr>\n",
       "      <th>0</th>\n",
       "      <td>25-Mar-2023</td>\n",
       "      <td>2023.0</td>\n",
       "      <td>USA</td>\n",
       "      <td>Florida</td>\n",
       "      <td>Blue Fish Channel, Key West, Monroe County</td>\n",
       "      <td>Kite-Surfing</td>\n",
       "      <td>Kevin  Carlton Scott</td>\n",
       "      <td>M</td>\n",
       "      <td>67</td>\n",
       "      <td>Lacertions to right calf</td>\n",
       "      <td>N</td>\n",
       "      <td>NaN</td>\n",
       "    </tr>\n",
       "    <tr>\n",
       "      <th>1</th>\n",
       "      <td>22-Mar-2023</td>\n",
       "      <td>2023.0</td>\n",
       "      <td>AUSTRALIA</td>\n",
       "      <td>Western Australia</td>\n",
       "      <td>Delta Island</td>\n",
       "      <td>Wading</td>\n",
       "      <td>Adam Norton</td>\n",
       "      <td>M</td>\n",
       "      <td>30s</td>\n",
       "      <td>Lower left leg and foot injured</td>\n",
       "      <td>N</td>\n",
       "      <td>NaN</td>\n",
       "    </tr>\n",
       "    <tr>\n",
       "      <th>2</th>\n",
       "      <td>19-Mar-2023</td>\n",
       "      <td>2023.0</td>\n",
       "      <td>USA</td>\n",
       "      <td>Hawaii</td>\n",
       "      <td>Anaehoomalu Bay</td>\n",
       "      <td>Swimming</td>\n",
       "      <td>male</td>\n",
       "      <td>M</td>\n",
       "      <td>60</td>\n",
       "      <td>Left hand and  left leg.</td>\n",
       "      <td>N</td>\n",
       "      <td>NaN</td>\n",
       "    </tr>\n",
       "    <tr>\n",
       "      <th>3</th>\n",
       "      <td>17-Mar-2023</td>\n",
       "      <td>2023.0</td>\n",
       "      <td>MEXICO</td>\n",
       "      <td>Quintana Roo</td>\n",
       "      <td>Cancún</td>\n",
       "      <td>Swimming</td>\n",
       "      <td>Dillon Armijo</td>\n",
       "      <td>M</td>\n",
       "      <td>10</td>\n",
       "      <td>Significant  injury to leg</td>\n",
       "      <td>N</td>\n",
       "      <td>NaN</td>\n",
       "    </tr>\n",
       "    <tr>\n",
       "      <th>4</th>\n",
       "      <td>16-Mar-2023</td>\n",
       "      <td>2023.0</td>\n",
       "      <td>AUSTRALIA</td>\n",
       "      <td>Western Australia</td>\n",
       "      <td>Cheynes Beach</td>\n",
       "      <td>Surf-sking</td>\n",
       "      <td>female</td>\n",
       "      <td>F</td>\n",
       "      <td>NaN</td>\n",
       "      <td>NaN</td>\n",
       "      <td>N</td>\n",
       "      <td>5m to 6m shark</td>\n",
       "    </tr>\n",
       "    <tr>\n",
       "      <th>...</th>\n",
       "      <td>...</td>\n",
       "      <td>...</td>\n",
       "      <td>...</td>\n",
       "      <td>...</td>\n",
       "      <td>...</td>\n",
       "      <td>...</td>\n",
       "      <td>...</td>\n",
       "      <td>...</td>\n",
       "      <td>...</td>\n",
       "      <td>...</td>\n",
       "      <td>...</td>\n",
       "      <td>...</td>\n",
       "    </tr>\n",
       "    <tr>\n",
       "      <th>6860</th>\n",
       "      <td>NaN</td>\n",
       "      <td>NaN</td>\n",
       "      <td>NaN</td>\n",
       "      <td>NaN</td>\n",
       "      <td>NaN</td>\n",
       "      <td>NaN</td>\n",
       "      <td>NaN</td>\n",
       "      <td>NaN</td>\n",
       "      <td>NaN</td>\n",
       "      <td>NaN</td>\n",
       "      <td>NaN</td>\n",
       "      <td>NaN</td>\n",
       "    </tr>\n",
       "    <tr>\n",
       "      <th>6861</th>\n",
       "      <td>NaN</td>\n",
       "      <td>NaN</td>\n",
       "      <td>NaN</td>\n",
       "      <td>NaN</td>\n",
       "      <td>NaN</td>\n",
       "      <td>NaN</td>\n",
       "      <td>NaN</td>\n",
       "      <td>NaN</td>\n",
       "      <td>NaN</td>\n",
       "      <td>NaN</td>\n",
       "      <td>NaN</td>\n",
       "      <td>NaN</td>\n",
       "    </tr>\n",
       "    <tr>\n",
       "      <th>6862</th>\n",
       "      <td>NaN</td>\n",
       "      <td>NaN</td>\n",
       "      <td>NaN</td>\n",
       "      <td>NaN</td>\n",
       "      <td>NaN</td>\n",
       "      <td>NaN</td>\n",
       "      <td>NaN</td>\n",
       "      <td>NaN</td>\n",
       "      <td>NaN</td>\n",
       "      <td>NaN</td>\n",
       "      <td>NaN</td>\n",
       "      <td>NaN</td>\n",
       "    </tr>\n",
       "    <tr>\n",
       "      <th>6863</th>\n",
       "      <td>NaN</td>\n",
       "      <td>NaN</td>\n",
       "      <td>NaN</td>\n",
       "      <td>NaN</td>\n",
       "      <td>NaN</td>\n",
       "      <td>NaN</td>\n",
       "      <td>NaN</td>\n",
       "      <td>NaN</td>\n",
       "      <td>NaN</td>\n",
       "      <td>NaN</td>\n",
       "      <td>NaN</td>\n",
       "      <td>NaN</td>\n",
       "    </tr>\n",
       "    <tr>\n",
       "      <th>6864</th>\n",
       "      <td>NaN</td>\n",
       "      <td>NaN</td>\n",
       "      <td>NaN</td>\n",
       "      <td>NaN</td>\n",
       "      <td>NaN</td>\n",
       "      <td>NaN</td>\n",
       "      <td>NaN</td>\n",
       "      <td>NaN</td>\n",
       "      <td>NaN</td>\n",
       "      <td>NaN</td>\n",
       "      <td>NaN</td>\n",
       "      <td>NaN</td>\n",
       "    </tr>\n",
       "  </tbody>\n",
       "</table>\n",
       "<p>6865 rows × 12 columns</p>\n",
       "</div>"
      ],
      "text/plain": [
       "             Date    Year    Country               Area  \\\n",
       "0     25-Mar-2023  2023.0        USA            Florida   \n",
       "1     22-Mar-2023  2023.0  AUSTRALIA  Western Australia   \n",
       "2     19-Mar-2023  2023.0        USA             Hawaii   \n",
       "3     17-Mar-2023  2023.0     MEXICO       Quintana Roo   \n",
       "4     16-Mar-2023  2023.0  AUSTRALIA  Western Australia   \n",
       "...           ...     ...        ...                ...   \n",
       "6860          NaN     NaN        NaN                NaN   \n",
       "6861          NaN     NaN        NaN                NaN   \n",
       "6862          NaN     NaN        NaN                NaN   \n",
       "6863          NaN     NaN        NaN                NaN   \n",
       "6864          NaN     NaN        NaN                NaN   \n",
       "\n",
       "                                        Location      Activity  \\\n",
       "0     Blue Fish Channel, Key West, Monroe County  Kite-Surfing   \n",
       "1                                   Delta Island        Wading   \n",
       "2                                Anaehoomalu Bay      Swimming   \n",
       "3                                         Cancún      Swimming   \n",
       "4                                 Cheynes Beach     Surf-sking   \n",
       "...                                          ...           ...   \n",
       "6860                                         NaN           NaN   \n",
       "6861                                         NaN           NaN   \n",
       "6862                                         NaN           NaN   \n",
       "6863                                         NaN           NaN   \n",
       "6864                                         NaN           NaN   \n",
       "\n",
       "                      Name  Sex  Age                           Injury  \\\n",
       "0     Kevin  Carlton Scott    M   67         Lacertions to right calf   \n",
       "1              Adam Norton    M  30s  Lower left leg and foot injured   \n",
       "2                     male    M   60         Left hand and  left leg.   \n",
       "3            Dillon Armijo    M   10      Significant  injury to leg    \n",
       "4                   female    F  NaN                              NaN   \n",
       "...                    ...  ...  ...                              ...   \n",
       "6860                   NaN  NaN  NaN                              NaN   \n",
       "6861                   NaN  NaN  NaN                              NaN   \n",
       "6862                   NaN  NaN  NaN                              NaN   \n",
       "6863                   NaN  NaN  NaN                              NaN   \n",
       "6864                   NaN  NaN  NaN                              NaN   \n",
       "\n",
       "     Fatal (Y/N)         Species  \n",
       "0              N             NaN  \n",
       "1              N             NaN  \n",
       "2              N             NaN  \n",
       "3              N             NaN  \n",
       "4              N  5m to 6m shark  \n",
       "...          ...             ...  \n",
       "6860         NaN             NaN  \n",
       "6861         NaN             NaN  \n",
       "6862         NaN             NaN  \n",
       "6863         NaN             NaN  \n",
       "6864         NaN             NaN  \n",
       "\n",
       "[6865 rows x 12 columns]"
      ]
     },
     "execution_count": 8,
     "metadata": {},
     "output_type": "execute_result"
    }
   ],
   "source": [
    "#eliminate the last seven columns that has no use for my analysis \n",
    "#(Investigator or Source, pdf, href formula, href, Case Number, Case Number.1, original order)\n",
    "shark_attacks.drop(columns = ['Type', 'Time', 'Investigator or Source', 'pdf', 'href formula', 'href', \n",
    "                              'Case Number', 'Case Number.1', 'original order'], inplace = True)\n",
    "shark_attacks"
   ]
  },
  {
   "cell_type": "code",
   "execution_count": 9,
   "id": "a7247051",
   "metadata": {
    "ExecuteTime": {
     "end_time": "2023-04-04T20:03:01.975405Z",
     "start_time": "2023-04-04T20:03:01.937326Z"
    }
   },
   "outputs": [
    {
     "data": {
      "text/plain": [
       "25"
      ]
     },
     "execution_count": 9,
     "metadata": {},
     "output_type": "execute_result"
    }
   ],
   "source": [
    "#check how many rows are filled with ONLY NaN values\n",
    "nan_rows = shark_attacks.isnull().all(axis = 1)\n",
    "nan_rows.sum()"
   ]
  },
  {
   "cell_type": "code",
   "execution_count": 10,
   "id": "9912849b",
   "metadata": {
    "ExecuteTime": {
     "end_time": "2023-04-04T20:03:02.068177Z",
     "start_time": "2023-04-04T20:03:01.980364Z"
    },
    "scrolled": true
   },
   "outputs": [
    {
     "data": {
      "text/html": [
       "<div>\n",
       "<style scoped>\n",
       "    .dataframe tbody tr th:only-of-type {\n",
       "        vertical-align: middle;\n",
       "    }\n",
       "\n",
       "    .dataframe tbody tr th {\n",
       "        vertical-align: top;\n",
       "    }\n",
       "\n",
       "    .dataframe thead th {\n",
       "        text-align: right;\n",
       "    }\n",
       "</style>\n",
       "<table border=\"1\" class=\"dataframe\">\n",
       "  <thead>\n",
       "    <tr style=\"text-align: right;\">\n",
       "      <th></th>\n",
       "      <th>Date</th>\n",
       "      <th>Year</th>\n",
       "      <th>Country</th>\n",
       "      <th>Area</th>\n",
       "      <th>Location</th>\n",
       "      <th>Activity</th>\n",
       "      <th>Name</th>\n",
       "      <th>Sex</th>\n",
       "      <th>Age</th>\n",
       "      <th>Injury</th>\n",
       "      <th>Fatal (Y/N)</th>\n",
       "      <th>Species</th>\n",
       "    </tr>\n",
       "  </thead>\n",
       "  <tbody>\n",
       "    <tr>\n",
       "      <th>0</th>\n",
       "      <td>25-Mar-2023</td>\n",
       "      <td>2023.0</td>\n",
       "      <td>USA</td>\n",
       "      <td>Florida</td>\n",
       "      <td>Blue Fish Channel, Key West, Monroe County</td>\n",
       "      <td>Kite-Surfing</td>\n",
       "      <td>Kevin  Carlton Scott</td>\n",
       "      <td>M</td>\n",
       "      <td>67</td>\n",
       "      <td>Lacertions to right calf</td>\n",
       "      <td>N</td>\n",
       "      <td>NaN</td>\n",
       "    </tr>\n",
       "    <tr>\n",
       "      <th>1</th>\n",
       "      <td>22-Mar-2023</td>\n",
       "      <td>2023.0</td>\n",
       "      <td>AUSTRALIA</td>\n",
       "      <td>Western Australia</td>\n",
       "      <td>Delta Island</td>\n",
       "      <td>Wading</td>\n",
       "      <td>Adam Norton</td>\n",
       "      <td>M</td>\n",
       "      <td>30s</td>\n",
       "      <td>Lower left leg and foot injured</td>\n",
       "      <td>N</td>\n",
       "      <td>NaN</td>\n",
       "    </tr>\n",
       "    <tr>\n",
       "      <th>2</th>\n",
       "      <td>19-Mar-2023</td>\n",
       "      <td>2023.0</td>\n",
       "      <td>USA</td>\n",
       "      <td>Hawaii</td>\n",
       "      <td>Anaehoomalu Bay</td>\n",
       "      <td>Swimming</td>\n",
       "      <td>male</td>\n",
       "      <td>M</td>\n",
       "      <td>60</td>\n",
       "      <td>Left hand and  left leg.</td>\n",
       "      <td>N</td>\n",
       "      <td>NaN</td>\n",
       "    </tr>\n",
       "    <tr>\n",
       "      <th>3</th>\n",
       "      <td>17-Mar-2023</td>\n",
       "      <td>2023.0</td>\n",
       "      <td>MEXICO</td>\n",
       "      <td>Quintana Roo</td>\n",
       "      <td>Cancún</td>\n",
       "      <td>Swimming</td>\n",
       "      <td>Dillon Armijo</td>\n",
       "      <td>M</td>\n",
       "      <td>10</td>\n",
       "      <td>Significant  injury to leg</td>\n",
       "      <td>N</td>\n",
       "      <td>NaN</td>\n",
       "    </tr>\n",
       "    <tr>\n",
       "      <th>4</th>\n",
       "      <td>16-Mar-2023</td>\n",
       "      <td>2023.0</td>\n",
       "      <td>AUSTRALIA</td>\n",
       "      <td>Western Australia</td>\n",
       "      <td>Cheynes Beach</td>\n",
       "      <td>Surf-sking</td>\n",
       "      <td>female</td>\n",
       "      <td>F</td>\n",
       "      <td>NaN</td>\n",
       "      <td>NaN</td>\n",
       "      <td>N</td>\n",
       "      <td>5m to 6m shark</td>\n",
       "    </tr>\n",
       "    <tr>\n",
       "      <th>5</th>\n",
       "      <td>06-Mar-2023</td>\n",
       "      <td>2023.0</td>\n",
       "      <td>BRAZIL</td>\n",
       "      <td>Pernambuco</td>\n",
       "      <td>Piedade Beach</td>\n",
       "      <td>Swimming</td>\n",
       "      <td>Kaylane Timóteo Freitas</td>\n",
       "      <td>F</td>\n",
       "      <td>15</td>\n",
       "      <td>Left arm severly injured</td>\n",
       "      <td>N</td>\n",
       "      <td>NaN</td>\n",
       "    </tr>\n",
       "    <tr>\n",
       "      <th>6</th>\n",
       "      <td>05-Mar-2023</td>\n",
       "      <td>2023.0</td>\n",
       "      <td>BRAZIL</td>\n",
       "      <td>Pernambuco</td>\n",
       "      <td>Piedade Beach</td>\n",
       "      <td>Swimming</td>\n",
       "      <td>male</td>\n",
       "      <td>M</td>\n",
       "      <td>14</td>\n",
       "      <td>Right thigh bitten resulting in surgical amput...</td>\n",
       "      <td>N</td>\n",
       "      <td>NaN</td>\n",
       "    </tr>\n",
       "    <tr>\n",
       "      <th>7</th>\n",
       "      <td>02-Mar-2023</td>\n",
       "      <td>2023.0</td>\n",
       "      <td>SEYCHELLES</td>\n",
       "      <td>Praslin Island</td>\n",
       "      <td>NaN</td>\n",
       "      <td>Snorkeling</td>\n",
       "      <td>Arthur …</td>\n",
       "      <td>M</td>\n",
       "      <td>6</td>\n",
       "      <td>Left foot bitten</td>\n",
       "      <td>NaN</td>\n",
       "      <td>Lemon shark</td>\n",
       "    </tr>\n",
       "    <tr>\n",
       "      <th>8</th>\n",
       "      <td>21-Feb-2023</td>\n",
       "      <td>2023.0</td>\n",
       "      <td>BRAZIL</td>\n",
       "      <td>Pernambuco</td>\n",
       "      <td>Praia de Milagres</td>\n",
       "      <td>Surfing</td>\n",
       "      <td>André Luiz Gomes da Silva</td>\n",
       "      <td>M</td>\n",
       "      <td>32</td>\n",
       "      <td>Injuries to left thih and calf</td>\n",
       "      <td>N</td>\n",
       "      <td>NaN</td>\n",
       "    </tr>\n",
       "    <tr>\n",
       "      <th>9</th>\n",
       "      <td>19-Feb-2023</td>\n",
       "      <td>2023.0</td>\n",
       "      <td>NEW CALEDONIA</td>\n",
       "      <td>South Province</td>\n",
       "      <td>Château-Royal Beach , Noumea</td>\n",
       "      <td>Swimming</td>\n",
       "      <td>Chris Davis</td>\n",
       "      <td>M</td>\n",
       "      <td>59</td>\n",
       "      <td>FATAL, Multiple injuries</td>\n",
       "      <td>F</td>\n",
       "      <td>Bull shark</td>\n",
       "    </tr>\n",
       "  </tbody>\n",
       "</table>\n",
       "</div>"
      ],
      "text/plain": [
       "          Date    Year        Country               Area  \\\n",
       "0  25-Mar-2023  2023.0            USA            Florida   \n",
       "1  22-Mar-2023  2023.0      AUSTRALIA  Western Australia   \n",
       "2  19-Mar-2023  2023.0            USA             Hawaii   \n",
       "3  17-Mar-2023  2023.0         MEXICO       Quintana Roo   \n",
       "4  16-Mar-2023  2023.0      AUSTRALIA  Western Australia   \n",
       "5  06-Mar-2023  2023.0         BRAZIL         Pernambuco   \n",
       "6  05-Mar-2023  2023.0         BRAZIL         Pernambuco   \n",
       "7  02-Mar-2023  2023.0     SEYCHELLES     Praslin Island   \n",
       "8  21-Feb-2023  2023.0         BRAZIL         Pernambuco   \n",
       "9  19-Feb-2023  2023.0  NEW CALEDONIA     South Province   \n",
       "\n",
       "                                     Location      Activity  \\\n",
       "0  Blue Fish Channel, Key West, Monroe County  Kite-Surfing   \n",
       "1                                Delta Island        Wading   \n",
       "2                             Anaehoomalu Bay      Swimming   \n",
       "3                                      Cancún      Swimming   \n",
       "4                              Cheynes Beach     Surf-sking   \n",
       "5                               Piedade Beach      Swimming   \n",
       "6                               Piedade Beach      Swimming   \n",
       "7                                         NaN    Snorkeling   \n",
       "8                           Praia de Milagres       Surfing   \n",
       "9                Château-Royal Beach , Noumea      Swimming   \n",
       "\n",
       "                        Name Sex  Age  \\\n",
       "0       Kevin  Carlton Scott   M   67   \n",
       "1                Adam Norton   M  30s   \n",
       "2                       male   M   60   \n",
       "3              Dillon Armijo   M   10   \n",
       "4                     female   F  NaN   \n",
       "5    Kaylane Timóteo Freitas   F   15   \n",
       "6                       male   M   14   \n",
       "7                   Arthur …   M    6   \n",
       "8  André Luiz Gomes da Silva   M   32   \n",
       "9                Chris Davis   M   59   \n",
       "\n",
       "                                              Injury Fatal (Y/N)  \\\n",
       "0                           Lacertions to right calf           N   \n",
       "1                    Lower left leg and foot injured           N   \n",
       "2                           Left hand and  left leg.           N   \n",
       "3                        Significant  injury to leg            N   \n",
       "4                                                NaN           N   \n",
       "5                           Left arm severly injured           N   \n",
       "6  Right thigh bitten resulting in surgical amput...           N   \n",
       "7                                   Left foot bitten         NaN   \n",
       "8                     Injuries to left thih and calf           N   \n",
       "9                           FATAL, Multiple injuries           F   \n",
       "\n",
       "          Species  \n",
       "0             NaN  \n",
       "1             NaN  \n",
       "2             NaN  \n",
       "3             NaN  \n",
       "4  5m to 6m shark  \n",
       "5             NaN  \n",
       "6             NaN  \n",
       "7     Lemon shark  \n",
       "8             NaN  \n",
       "9      Bull shark  "
      ]
     },
     "execution_count": 10,
     "metadata": {},
     "output_type": "execute_result"
    }
   ],
   "source": [
    "#eliminate rows filled with ONLY NaN values\n",
    "shark_attacks.dropna(axis = 0, how = 'all', inplace = True)\n",
    "shark_attacks.head(10)"
   ]
  },
  {
   "cell_type": "code",
   "execution_count": 11,
   "id": "6b791bf8",
   "metadata": {
    "ExecuteTime": {
     "end_time": "2023-04-04T20:03:02.113454Z",
     "start_time": "2023-04-04T20:03:02.074484Z"
    }
   },
   "outputs": [
    {
     "name": "stdout",
     "output_type": "stream",
     "text": [
      "<class 'pandas.core.frame.DataFrame'>\n",
      "Int64Index: 6840 entries, 0 to 6839\n",
      "Data columns (total 12 columns):\n",
      " #   Column       Non-Null Count  Dtype  \n",
      "---  ------       --------------  -----  \n",
      " 0   Date         6840 non-null   object \n",
      " 1   Year         6838 non-null   float64\n",
      " 2   Country      6790 non-null   object \n",
      " 3   Area         6362 non-null   object \n",
      " 4   Location     6279 non-null   object \n",
      " 5   Activity     6257 non-null   object \n",
      " 6   Name         6621 non-null   object \n",
      " 7   Sex          6263 non-null   object \n",
      " 8   Age          3869 non-null   object \n",
      " 9   Injury       6805 non-null   object \n",
      " 10  Fatal (Y/N)  6282 non-null   object \n",
      " 11  Species      3757 non-null   object \n",
      "dtypes: float64(1), object(11)\n",
      "memory usage: 694.7+ KB\n"
     ]
    }
   ],
   "source": [
    "#check the new dataframe\n",
    "shark_attacks.info()"
   ]
  },
  {
   "cell_type": "markdown",
   "id": "fbc5aae6",
   "metadata": {},
   "source": [
    "Now the DataFrame has only the columns that are relevant to my analysis.  \n",
    "Next step will be to work on each column. \n",
    "\n",
    "I will work and present the data on the following order:  \n",
    "* Age\n",
    "* Sex\n",
    "* Activity\n",
    "* Country\n",
    "* Area\n",
    "* Location\n",
    "* Year"
   ]
  },
  {
   "cell_type": "markdown",
   "id": "6617928b",
   "metadata": {},
   "source": [
    "## AGE"
   ]
  },
  {
   "cell_type": "code",
   "execution_count": 12,
   "id": "68922ee6",
   "metadata": {
    "ExecuteTime": {
     "end_time": "2023-04-04T20:03:02.128670Z",
     "start_time": "2023-04-04T20:03:02.116600Z"
    }
   },
   "outputs": [
    {
     "data": {
      "text/plain": [
       "0        67\n",
       "1       30s\n",
       "2        60\n",
       "3        10\n",
       "4       NaN\n",
       "       ... \n",
       "6835    NaN\n",
       "6836    NaN\n",
       "6837    NaN\n",
       "6838    NaN\n",
       "6839     15\n",
       "Name: Age, Length: 6840, dtype: object"
      ]
     },
     "execution_count": 12,
     "metadata": {},
     "output_type": "execute_result"
    }
   ],
   "source": [
    "#check the column Age\n",
    "shark_attacks['Age']"
   ]
  },
  {
   "cell_type": "code",
   "execution_count": 13,
   "id": "7bd97cee",
   "metadata": {
    "ExecuteTime": {
     "end_time": "2023-04-04T20:03:02.144059Z",
     "start_time": "2023-04-04T20:03:02.133267Z"
    }
   },
   "outputs": [
    {
     "data": {
      "text/plain": [
       "2971"
      ]
     },
     "execution_count": 13,
     "metadata": {},
     "output_type": "execute_result"
    }
   ],
   "source": [
    "#check how many NaN in column Age\n",
    "nan_sum_age = shark_attacks['Age'].isna().sum()\n",
    "nan_sum_age"
   ]
  },
  {
   "cell_type": "code",
   "execution_count": 14,
   "id": "cb608071",
   "metadata": {
    "ExecuteTime": {
     "end_time": "2023-04-04T20:03:02.160027Z",
     "start_time": "2023-04-04T20:03:02.150479Z"
    },
    "scrolled": true
   },
   "outputs": [
    {
     "name": "stdout",
     "output_type": "stream",
     "text": [
      "['18 months', '25 or 28', '13 or 18', '\"middle-age\"', 'X', '17 & 35', '50 & 30', '30 & 32', '21, 34,24 & 35', '37, 67, 35, 27,  ? & 27', '(adult)', '33 & 37', '33 & 26', 1, '23 & 26', '25 to 35', '9 months', '? & 19', '9 & 12', 'adult', '18 to 22', '34 & 19', '2 to 3 months', '20 ', 'M', '1', '2½', '31 or 33', '10 or 12', '?    &   14', 'A.M.', '78', '  ', '36 & 23', '9 or 10', '4', 'Both 11', 'F', '17 & 16', 78, '!6', '\"young\"', '81', ' 43', 'MAKE LINE GREEN', '>50', '74 ', '21 or 26', '22, 57, 31', 77, 'Teens', '28, 23 & 30', '46 & 34', '12 or 13', '18 or 20', '86', 4, '28 & 22', '28 & 26', '45 ', \"20's\", 67, 74, '9 & 60', 'a minor', '74', 82, 66, 72, '36 & 26', '45 and 15', 84, '\\xa0 ', 'Ca. 33', 'mid-20s', 'Elderly', '87', '16 to 18', '32 & 30', '69', \"60's\", '20?', ' 28', '7      &    31', ' 30', '!!', '23 & 20', 'mid-30s', '33 or 37', '21 & ?', '6½', '30 or 36', '13 or 14']\n",
      "93\n"
     ]
    }
   ],
   "source": [
    "#check the elements that appear only once in a list format\n",
    "#check how many there are#check how many NaN in column Age\n",
    "nan_sum_age = shark_attacks['Age'].isna().sum()\n",
    "nan_sum_age\n",
    "value_counts_age = shark_attacks['Age'].value_counts()\n",
    "unique_values_age = value_counts_age[value_counts_age == 1]\n",
    "unique_list_age = unique_values_age.index.tolist()\n",
    "\n",
    "print(unique_list_age)\n",
    "print(len(unique_list_age))"
   ]
  },
  {
   "cell_type": "markdown",
   "id": "67afbbff",
   "metadata": {
    "ExecuteTime": {
     "end_time": "2023-04-04T17:00:19.632549Z",
     "start_time": "2023-04-04T17:00:19.593620Z"
    }
   },
   "source": [
    "#convert the words to numbers in column Age\n",
    "\n",
    "age_dict = {'18 months': '1.5', '\"middle-age\"': '50', 'adult': '30', 'Both 11': '11', '\"young\"': '12', \n",
    "'Teens': '14', 'a minor': '12', 'Ca. 33': '33', 'mid-20s': '25', 'Elderly': '70'}\n",
    "\n",
    "for keys, values in age_dict.items():\n",
    "    shark_attacks['Age'] = shark_attacks['Age'].str.replace(keys, values)\n",
    "    "
   ]
  },
  {
   "cell_type": "markdown",
   "id": "6962a0bc",
   "metadata": {
    "ExecuteTime": {
     "end_time": "2023-04-04T17:22:24.475703Z",
     "start_time": "2023-04-04T17:22:24.431576Z"
    }
   },
   "source": [
    "shark_attacks = shark_attacks.explode('Age')"
   ]
  },
  {
   "cell_type": "markdown",
   "id": "5a60dc8f",
   "metadata": {
    "ExecuteTime": {
     "end_time": "2023-04-04T17:22:24.491661Z",
     "start_time": "2023-04-04T17:22:24.477700Z"
    }
   },
   "source": [
    "shark_attacks = shark_attacks.reset_index(drop = True)"
   ]
  },
  {
   "cell_type": "markdown",
   "id": "01d7bb86",
   "metadata": {
    "ExecuteTime": {
     "end_time": "2023-04-04T17:22:24.507472Z",
     "start_time": "2023-04-04T17:22:24.493656Z"
    }
   },
   "source": [
    "print(shark_attacks['Age'].unique().tolist())"
   ]
  },
  {
   "cell_type": "markdown",
   "id": "7135ec47",
   "metadata": {
    "ExecuteTime": {
     "end_time": "2023-04-04T17:58:46.474883Z",
     "start_time": "2023-04-04T17:58:46.446965Z"
    }
   },
   "source": [
    "shark_attacks['Age'] = shark_attacks['Age'].str.replace(r'\\D', '')#.str.extract(r'(\\d{1,2})')"
   ]
  },
  {
   "cell_type": "code",
   "execution_count": 15,
   "id": "158706b1",
   "metadata": {
    "ExecuteTime": {
     "end_time": "2023-04-04T20:03:02.175982Z",
     "start_time": "2023-04-04T20:03:02.164337Z"
    }
   },
   "outputs": [],
   "source": [
    "#shark_attacks['Age'] = shark_attacks['Age'].str.extract(r'(\\D*\\w+.*)\\d{1, 2}(\\D*\\w+.*))')"
   ]
  },
  {
   "cell_type": "markdown",
   "id": "7e190c70",
   "metadata": {
    "ExecuteTime": {
     "end_time": "2023-04-04T17:58:46.506700Z",
     "start_time": "2023-04-04T17:58:46.492694Z"
    }
   },
   "source": [
    "shark_attacks['Age'].value_counts()"
   ]
  },
  {
   "cell_type": "code",
   "execution_count": 16,
   "id": "7370f879",
   "metadata": {
    "ExecuteTime": {
     "end_time": "2023-04-04T20:03:02.206547Z",
     "start_time": "2023-04-04T20:03:02.180069Z"
    }
   },
   "outputs": [
    {
     "name": "stdout",
     "output_type": "stream",
     "text": [
      "['67', '30s', '60', '10', nan, '15', '14', '6', '32', '59', '60', '32', '41', '16', '8', '49', '34', '53', '30', '26', '68', '15', '43', '60', nan, '10', '50', '29', nan, '40', nan, nan, '51', '19', '15', '40', '38', '17', '31', 39, 26, 58, 51, 14, nan, nan, nan, 17, 10, nan, nan, 13, 33, 16, nan, nan, nan, 40, 49, 41, '30s', 17, 60, 28, nan, nan, '40s', 68, nan, 17, 35, nan, nan, nan, nan, 62, 'teen', nan, nan, 20, nan, 62, nan, nan, 8, 22, 32, 56, 17, 'Teen', 12, nan, nan, '50s', 56, nan, 32, nan, 20, 21, nan, 42, 51, nan, 36, 56, 18, 37, 50, 20, 'M', nan, nan, 13, 42, 42, '40s', 9, 42, 24, 14, 15, 15, nan, 11, 27, 57, nan, 26, 26, 34, 25, nan, 38, nan, '!6', 31, nan, 64, '!!', 41, 21, nan, 35, 15, nan, 12, 47, 15, 58, 34, nan, 32, 55, nan, 35, nan, 11, 38, nan, 9, 36, 51, 25, 8, 19, 31, 15, nan, 7, 38, 36, 25, 12, 14, 12, 71, 51, 10, nan, 26, 48, 59, 35, 57, 21, 14, 53, 64, 54, 25, 53, 57, nan, nan, 38, 38, 36, nan, 27, 10, 16, 7, 9, 75, 20, 16, 57, nan, nan, 17, '45 and 15', 46, 61, 58, nan, 73, 32, 52, 54, 7, 26, 19, 19, 17, 68, nan, 40, 39, nan, 56, 20, 29, 42, 35, nan, 59, 13, 17, nan, nan, nan, 59, nan, 52, 31, 17, nan, 61, 30, '50s', nan, 48, 15, 25, 54, 46, 70, nan, nan, 12, nan, 23, 14, 50, nan, 35, 55, nan, 54, 22, 14, 28, 38, nan, 4, 63, 23, 11, nan, 12, 10, 14, 29, 15, 15, 36, 7, 16, nan, nan, 30, 60, nan, 12, nan, nan, 18, 12, 9, nan, 26, nan, 57, 16, nan, nan, 23, 38, 'Teen', nan, nan, nan, nan, 26, 60, nan, nan, 24, 59, 13, 26, 75, 7, 57, 12, 21, '30s', 45, 33, nan, 17, 37, nan, 70, 57, 57, 9, 30, 38, nan, nan, 9, 30, 23, nan, nan, 44, '28 & 22', 32, nan, 35, 17, 20, 29, 51, nan, 45, nan, nan, 13, '22, 57, 31', 22, nan, 70, '60s', 40, 11, 26, 32, 9, 16, 51, 21, 20, 37, 49, nan, 18, nan, 49, 23, 18, nan, 45, nan, 16, \"20's\", 43, nan, 32, 18, 21, nan, 8, 50, 64, 19, nan, nan, 17, 43, 65, 10, 67, nan, nan, 53, 28, 34, 28, 12, nan, 18, 65, 25, 10, 58, 23, nan, 74, 25, 46, 32, 58, 11, nan, 46, nan, 41, 31, 25, nan, 50, nan, 50, 41, 17, 15, '9 & 60', 19, 35, 48, 24, 50, 36, '20s', 48, 17, 24, 31, 41, 20, 8, 42, 33, nan, nan, nan, 29, nan, 50, 25, nan, nan, nan, 55, 13, 17, 55, '30s', 32, nan, 43, 12, 46, 26, 39, 23, '60s', 40, nan, 14, 29, 14, 24, 56, nan, 61, 42, 16, 'a minor', 42, 14, 6, 13, 12, nan, 62, 58, 14, 17, 30, 14, 19, nan, 11, 57, nan, 11, 48, nan, nan, nan, 18, nan, 52, 15, 12, 32, 10, 10, 21, 34, nan, nan, nan, nan, 30, nan, nan, 60, nan, 32, 33, 29, 54, 34, 41, 37, nan, 56, 17, 12, 19, 25, 10, 69, 18, 38, 55, 34, 35, nan, 46, 45, 14, 18, '40s', nan, 28, 20, nan, 54, 35, 24, 25, 26, 49, nan, 25, 14, 24, 25, 22, '20s', 7, 31, nan, nan, 17, 60, 15, nan, nan, 54, 40, 31, nan, nan, 33, nan, nan, 13, 28, 25, nan, nan, 18, nan, 35, nan, nan, 42, nan, nan, 17, 37, 3, 11, nan, 69, nan, 13, 20, 34, nan, 15, 10, 12, nan, nan, 37, nan, nan, 40, 8, 40, 50, nan, nan, nan, 46, 32, 13, nan, nan, 16, nan, 14, 34, 82, nan, nan, 48, nan, 19, 30, nan, 32, 20, nan, 73, 41, 29, 33, 18, nan, 14, 33, 28, '20s', nan, 40, nan, nan, 17, 28, 17, nan, 68, 35, 10, 21, 16, 51, 39, 17, 58, 30, nan, 25, 58, nan, nan, nan, nan, 26, 26, 22, nan, nan, nan, 37, 21, 'Teen', 55, 57, nan, 48, 35, 47, 20, 16, nan, 55, 61, '40s', 19, 20, 65, 73, 58, 41, 42, 36, 36, nan, 66, nan, 25, 29, 21, 32, 17, 16, 36, 43, 43, nan, nan, nan, '60s', 51, 50, 12, nan, 9, 22, nan, 25, 37, 20, 49, 15, 21, 22, 40, 72, nan, 43, 18, 29, 36, nan, 31, nan, 9, 11, 61, nan, nan, 10, nan, 59, nan, 42, 34, 35, 11, 59, 43, 42, nan, nan, 19, 6, 19, 27, 64, 60, 23, nan, nan, 29, 52, 13, 57, 22, 11, 48, 23, 59, 39, 33, 24, 15, nan, 12, 22, 26, 26, 69, 60, 34, nan, 46, 22, 'Teen', 41, 9, nan, 19, 45, 12, nan, 41, 21, 31, nan, 65, nan, 45, 40, 41, nan, nan, 15, nan, nan, 48, nan, 11, 31, nan, 38, 71, 43, 32, 58, nan, 26, 22, 55, nan, nan, 28, 20, 9, 54, 28, 19, 50, 10, 42, 21, 21, 35, 32, 44, nan, 9, 25, nan, 18, 22, 13, 14, 22, 7, nan, 14, 27, 12, 16, nan, nan, 20, 42, 50, 29, 62, nan, 37, nan, 54, 21, nan, 38, 15, 10, 22, 10, 57, 52, 47, 40, 25, 35, 46, 31, 40, 45, 34, '38', '39', nan, '23', '32', '52', '32', '68', nan, '12', '18', '19', nan, '23', '43', '19', '47', '6', '37', '9', '36', '10', '16', '12', nan, '13', '11', '17', '47', '14', '19', '19', '13', '18', '30', '50', nan, nan, '29', '65', '63', '26', '71', '48', '13', nan, '70', '43', '23', '36', '52', '58', '9', nan, '36', '18 months', nan, '22', '41', '35', nan, '57', '20', nan, '24', nan, nan, nan, '17', '38', '34', '15', '12', nan, '17', nan, nan, '50', '40s', nan, '17', nan, '13', '39', nan, nan, '44', '53', nan, '18', '34', '20', nan, nan, nan, '13', '7', nan, nan, '29', '40', '15', nan, nan, '28', '23', nan, '36', nan, '50', '43', '20s', '52', '16', '13', '17', nan, '33', '30s', '29', nan, nan, nan, '31', nan, '26', nan, '10', '7', '10', '45', '50s', '8', '20', nan, 'Teen', '51', '8', nan, '61', '39', '63', nan, '14', nan, nan, '19', '48', '42', nan, '15', nan, '43', '16', '39', '43', '14', '22', nan, '37', '29', nan, '10', '38', '35', '44', '12', nan, '40', nan, '23', nan, '42', '25', nan, nan, 'teen', 'teen', '63', '38', '66', nan, '9', '42', '42', '10', nan, nan, '21', '21', '21', '28', nan, '28', nan, '24', '31', nan, nan, '37', '19', '35', '29', '30', '26', '57', '19', '58', '35', '25', nan, '77', '16', nan, '46', '60', '24', nan, '41', '45', '25', '6', '74', '55', '45', '12', '50', '27', '7', '45', nan, '21', '13', nan, '43', '25', '17', '3', nan, '9', nan, nan, '47', '50', '11', nan, '16', nan, '20', '19', '10', nan, '17', '56', '32', '40', nan, '18', '64', '50', '18', '50', 'teen', '15', '33', '63', '48', '29', nan, '20', nan, nan, '14', '28', '15', nan, nan, '10', '58', nan, '32', '11', '41', '30', '29', '42', '36', '16', nan, '34', '51', '9', nan, '21', '40', '53', '50', '24', '58', '47', '34', nan, '50', '30', nan, '68', '28', '28 & 26', '39', '46', nan, nan, '16', '48', '18', nan, nan, '62', '43', nan, '26', nan, '23', '29', '20', '32', '60', '31', '25', '61', '20', '32', '14', '30', '43', '25', '51', '39', '35', '24', '55', nan, '38', '42', '11', '21', '22', '52', '29', '19', '25', nan, '30s', '37', '32', '8', nan, '56', '53', '34', '18', '31', nan, '56', '39', nan, '17', '48', '44', '50', '12', '22', '24', '23', '24', '43', nan, '42', '52', '29', '60', '6', '26', '16', nan, '12', '62', '16', '6', '23', '18', nan, nan, '16', '42', '57', '30', '12', '25', '33', '46', '22', nan, '20', '30', '47', '15', '28', '20', '27', '28', nan, '33', '21', nan, '20', '61', '15', '17', nan, '34', '31', '19', '42', nan, nan, nan, nan, '29', nan, '26', nan, '24', '44', '25', '53', '28', '34', nan, nan, '23', '27', nan, '35', '51', nan, '14', nan, nan, '63', '18', '10', nan, nan, '35', '42', '27', '26', nan, '32', '41', '50', nan, nan, '64', '51', nan, '29', '27', '48', '43', '21', '5', nan, '38', '17', '25', '37', '30', nan, '21', '19', '19', '48', '39', nan, '21', '10', '49', '16', '20s', '12', '25', '32', '27', '30', '7', '54', '36', '14', '43', nan, '29', '6', nan, nan, '54', '12', '14', '16', '17', '28', '21', '22', '10', nan, '20', '35', '15', '31', nan, '28', '24', '28', '19', nan, '22', '33', nan, nan, '28', '86', '15', '37', nan, '43', '37', '32', '17', '49', '41', nan, '27', nan, nan, '48', '46', '30', '24', nan, nan, '36', '21', '32', '49', nan, '58', nan, '37', '38', '25', '55', '7', '16', '37', nan, '16', nan, '46', '70', nan, '54', '46', '70', '48', '47', nan, '33', '21', nan, nan, '20', nan, nan, nan, '30', '14', '19', nan, '22', nan, nan, 'Teen', '29', '18', '29', '15', '27', '24', nan, '24', '24', '34', '43', '10', '31', '45', nan, '16', '47', '25', '35', nan, nan, '37', '16', '20', '10', '13', '55', '9', nan, nan, '21', '20', '19', '48', '20', '6', '13', '17', '18', '40', '20', '49', '58', '60', nan, '59', '10', '29', '68', '35', '24', '34', nan, nan, '19', '60', '46', nan, '18', nan, '31', '38', '14', '29', nan, '54', nan, '37', '9', nan, nan, nan, '32', nan, '20', '55', '27', nan, '18', '22', nan, '24', '39', nan, '58', '49', '10', '31', '22', '27', '18', '25', '21', '27', nan, '17', nan, '54', '10', '23', '23', nan, '39', nan, nan, nan, '34', '60', '15', nan, nan, nan, '25', '22', nan, '26', nan, '56', '14', '14', '41', nan, '14', '11', '26', '19', '57', nan, nan, '37', '12', '43', '52', '26', '14', nan, nan, nan, '50', '46', nan, '31', '49', '55', '27', '48', nan, nan, '20', '23', '52', '31', '49', '40', '24', nan, '15', '59', '16', '17', nan, nan, '17', nan, '61', '21', '19', '40', nan, '15', nan, nan, '33', '31', nan, '41', nan, '49', '17', '15', nan, '19', '25', '17', nan, nan, nan, '24', '13', '31', nan, '22', '49', nan, nan, nan, '10', '29', '51', nan, nan, '15', nan, nan, nan, nan, nan, nan, '45', '39', '34', '24', '50', '15', '11', '43', '44', '40', '43', '32', '40', nan, '51', '43', '15', '52', nan, '29', '27', '52', '19', '26', '20', '20', '47', '7', '38', '13', nan, '31', nan, nan, '33', nan, '17', '44', '9', '8', '15', '16', nan, '52', '24', '14', '17', '16', '53', '42', '46', nan, '29', '37', nan, '40', '35', '14', '40', nan, '15', '14', '9', nan, '49', '21', '28', '37', '40', '6', '24', '24', '18', '24', '32', '21', '66', '14', nan, nan, '32', '19', '30', nan, '15', nan, '16', '18', '39', '52', nan, '13', '14', '8', '27', '49', '26', '25', '14', nan, nan, '42', '20', nan, nan, '20', nan, '26', '24', '53', '31', 'teen', '34', '52', nan, '28', '32', nan, '14', '21', '42', '37', nan, '32', '52', '31', '22', '16', nan, nan, '23', '48', nan, '18 or 20', nan, nan, '23', nan, '56', 'Teen', '14', '58', '36', '15', '12', '58', '15', '24', '54', '27', nan, nan, '52', '16', '7', '20', '15', '19', '30', '9', '19', '51', '20', nan, nan, '36', '15', '14', '48', '43', '30', '48', '18', '17', nan, nan, nan, '20', nan, '9', nan, nan, nan, '40', '38', '38', '19', '21', nan, '45', '63', '68', nan, '20', '13', '12', '24', nan, '26', '7', '27', '9', nan, '11', '42', nan, '59', '29', '16', '36', '26', nan, '30', nan, '41', '20', '24', nan, '54', '24', nan, '25', '10', '43', '25', '15', nan, '29', nan, '22', '15', '20', nan, '18', '26', nan, '36', '19', nan, '16', '55', '52', '44', '20', '33', '12 or 13', '37', '23', nan, '27', '17', '34', nan, '34', nan, '24', '59', nan, nan, '41', nan, '15', '19', '14', nan, nan, '49', '7', '21', nan, '40', '11', '14', '13', '28', '35', '9', nan, '25', '22', '27', '43', '24', '7', '40', '26', nan, '31', '15', '33', '30s', nan, '20s', '46', nan, '54', '13', '35', '15', '15', '35', '11', nan, '28', '17', '21', '15', '15', '45', '18', nan, nan, '15', '24', '57', '46 & 34', '34', '28, 23 & 30', nan, '52', nan, '21', '21', '49', '30', '29', nan, '44', nan, 'teen', '23', nan, '18', '26', nan, '30s', '17', nan, '32', '18', '25', '26', '15', '55', '20', '36', '20', '15', '22', '57', '48', '35', '52', '28', '26', '44', nan, '68', '18', '15', '18', '40', '62', '21', '23', '37', '17', '8', '12', nan, '16', '14', nan, '13', '61', '25', nan, '24', nan, '22', '14', '19', '16', '14', '7', nan, '49', '20', '38', '11', '17', '22', '6', '33', nan, '32', nan, nan, nan, 'Teens', '47', '25', nan, '20', '40', '70', '52', '37', nan, nan, 32, nan, nan, 26, 45, 51, nan, nan, 18, nan, nan, nan, '12', 19, nan, nan, '39', '11', 18, 38, 20, 16, 77, 38, '30s', nan, 40, nan, 52, 59, nan, 34, 34, 15, 16, 40, nan, 26, nan, nan, 17, 38, 24, nan, 50, 47, 30, nan, 20, nan, '28', 13, 19, 11, nan, 51, 30, 'Teen', 7, '45', nan, nan, 17, 8, 21, 16, 17, 44, 9, 9, 9, 24, 63, 28, '22', nan, nan, nan, nan, 57, 16, 22, 26, 20, 22, nan, '20', 61, nan, nan, 51, 47, 29, 15, nan, 31, nan, 22, 46, '21', nan, nan, 40, nan, nan, 22, nan, nan, nan, nan, 28, '13', 45, 36, nan, nan, 21, '35', 35, '24', nan, nan, nan, nan, '18', 22, 13, '46', 56, 19, nan, nan, 18, 30, 50, 41, '40', 16, 21, '19', '17', '30', '36 & 26', '8 or 10', 18, 15, 19, nan, nan, 50, 31, 16, '37', '18', '15', 58, '10', '21', 39, nan, nan, nan, 17, 15, nan, 12, 60, 51, 33, '15', 22, 18, 22, 20, 34, '9', nan, nan, 16, 17, 7, 36, 17, 30, 23, 18, 11, 12, 20, 28, nan, '50', nan, 44, 37, 54, 24, 84, 14, nan, nan, 18, '25', 26, 11, 23, 19, nan, 48, 34, 41, '21', '16', '52', 60, 36, '21', 14, 35, 18, 47, '32', 55, '\\xa0 ', ' ', 24, 35, 19, nan, 47, 20, '36', 16, 29, 27, 15, 15, 30, 14, 13, 15, '19', 41, 22, 9, '30', '11', nan, nan, nan, nan, 28, 50, 10, 50, 24, 16, '55', '35', nan, '14', 31, '40', 20, 23, 52, 34, 28, 45, 43, '41', 29, 17, 11, '16', '20', 39, 31, '44', nan, '30 or 36', 15, 35, 20, 32, 16, nan, 26, 35, 36, 49, nan, nan, nan, '20', 26, 31, '21', 14, 42, '6½', 16, nan, 44, '13', nan, '28', '23', '20', 10, 44, '29', 69, 18, '18', 17, 27, 32, 17, '17', 20, 19, 19, 43, '21 & ?', nan, 36, nan, nan, nan, nan, nan, 48, 18, 42, 8, nan, '35', 14, 52, 75, 29, 16, 11, nan, 24, nan, '26', '33 or 37', 45, nan, '14', 16, 12, 'mid-30s', 38, 21, 12, 22, 19, '22', nan, 16, 46, nan, '26', '12', 40, nan, nan, '12', 20, nan, nan, nan, 40, '35', 55, nan, nan, nan, '23', 47, nan, 30, 38, nan, '28', 47, 73, 27, 52, 49, 27, 31, 23, 56, 69, 17, 23, 11, '24', nan, 17, 25, 12, 31, nan, '49', '26', 25, '8', 48, 28, 40, 27, nan, '47', 69, nan, nan, 53, '27', 44, nan, '23 & 20', nan, 5, 45, 16, 14, 15, 18, nan, 69, 13, 41, 5, 12, '20', '55', 13, 19, nan, nan, nan, 52, nan, 17, 55, 44, 13, nan, nan, nan, 9, nan, 34, nan, nan, 26, 14, 37, '35', nan, nan, nan, 27, nan, 39, '27', nan, nan, 12, '26', nan, 35, nan, 15, 13, 12, 18, nan, '39', '35', '19', 51, nan, 35, 39, '12', 12, '45', '13', nan, 16, '22', nan, '37', 61, '10', '13', '7', '39', 28, nan, '23', '17', 10, 62, '35', 42, 43, 43, 14, nan, 30, '29', 20, '21', '41', 5, 22, 21, '41', '52', 14, nan, nan, 29, nan, 28, 18, 29, nan, 35, '25', '47', nan, nan, '37', nan, '30', nan, '19', '21', 18, 14, '21', 9, '14', 13, 32, '52', 22, '17', '30', nan, '17', nan, '28', '6', '18', nan, '28', '25', '26', nan, 16, nan, 28, '11', nan, 19, 24, nan, 13, 47, '16', 10, 26, 20, '18', nan, 17, 15, 16, 40, '14', '24', 22, 35, 50, 16, nan, nan, '40', 33, '32', nan, '31', nan, nan, 21, nan, 23, '28', nan, nan, 39, nan, '29', 8, '42', 32, '21', 51, 19, '23', '12', nan, 14, '20', '12', '17', '20', '18', '22', 29, 28, 33, '12', '17', '16', '17', nan, '10', nan, 17, 19, '19', 25, nan, 50, 55, nan, nan, '47', '18', nan, '33', '35', 34, 12, 54, nan, '22', '21', ' 30', nan, nan, 49, '27', 41, nan, nan, '18', nan, nan, nan, 45, '26', nan, nan, nan, 22, 21, 31, nan, 14, '23', 19, '5', '28', '28', 29, 19, 36, '21', '8', 52, nan, '46', '9', nan, '18', 63, 24, '24', nan, nan, 17, 45, '22', '33', 27, nan, '11', '16', nan, 47, '7', 24, '32', nan, nan, '14', nan, '7', '33', '13', 53, nan, nan, '25', nan, nan, nan, 22, nan, nan, nan, '13', '17', '15', '39', '14', '17', 25, 19, 19, nan, 25, 29, 32, '9', '19', 44, nan, '16', 18, 16, 23, '19', nan, '18', 20, '15', '20', 14, 12, nan, nan, nan, nan, '18', 18, 12, 7, 47, '18', 14, '34', '32', nan, 31, nan, '13', nan, 45, 10, 38, '45', 29, 44, '15', 69, nan, '44', '12', '20', nan, 47, nan, '35', nan, '22', nan, 14, '17', '33', nan, nan, nan, 26, nan, nan, nan, nan, nan, '44', 42, nan, nan, 34, nan, nan, nan, '9', 16, 30, '43', '7      &    31', 12, nan, '15', nan, '24', 22, 31, nan, 15, '30', '24', ' 28', 35, '36', '26', 22, 25, nan, '20?', '71', nan, 19, nan, 33, '25', nan, '23', nan, 15, nan, nan, nan, 44, nan, '23', 33, nan, nan, nan, '30', 27, nan, nan, 26, 26, 34, nan, '21', 36, '15', '17', 19, 16, 69, '51', '13', nan, nan, 19, nan, 39, nan, nan, 28, 12, nan, '16', 61, '42', 22, 31, 34, '42', \"60's\", nan, nan, '32', nan, '25', nan, 35, 55, nan, nan, nan, '69', '15', '21', '32 & 30', 29, nan, nan, 30, nan, 10, 30, '31', 19, '24', 46, '30', 40, '17', 18, 40, 28, nan, nan, 28, nan, 20, 18, nan, nan, '34', '17', nan, 22, '26', nan, nan, '42', nan, nan, nan, '16', '21', nan, nan, '45', nan, nan, nan, 35, 36, 17, 41, nan, 21, nan, nan, 19, nan, '19', 19, 36, nan, nan, nan, '33', 25, 41, nan, nan, nan, 14, 21, 32, '32', 19, 36, 23, '10', nan, 40, '39', '42', '70', '22', '30', 32, '13', 22, nan, '18', '31', 65, '23', nan, nan, nan, 22, nan, '18', 38, 20, '35', nan, '22', nan, '26', nan, '24', 50, 18, '26', nan, '25', 43, '19', 26, 49, 44, '30', 22, nan, '18', '51', '53', 17, 21, '38', nan, '30s', '30s', 22, 23, '31', '37', nan, '29', nan, '30', nan, nan, '33', nan, 17, nan, '17', '27', '32', 29, nan, '10', '31', 17, nan, '12', '49', nan, 29, '51', nan, 38, 31, 46, '30', 21, 21, 17, 31, '41', '35', 34, nan, 16, '9', nan, 45, nan, 16, 28, nan, '19', nan, nan, nan, nan, 27, nan, nan, 26, 47, 24, 24, 10, 19, nan, 17, nan, nan, nan, 17, 62, nan, 21, '38', '15', '30', 23, '15', 23, '21', '27', nan, 38, nan, '16', nan, 27, nan, '28', '35', '15', '37', nan, nan, 36, 42, 37, 12, 25, '38', 31, 29, nan, nan, '24', nan, '14', nan, nan, '30', nan, 17, nan, nan, 20, 15, nan, '22', 22, nan, nan, '33', nan, '12', nan, '16', '16 to 18', '15', nan, 20, '14', 21, nan, 47, 24, 12, 40, 27, '32', '16', nan, '35', nan, nan, 12, nan, '34', nan, 16, nan, '8', '18', nan, nan, nan, 30, 37, nan, nan, nan, 21, 40, 37, 27, 22, nan, 17, '26', '23', nan, 6, '32', nan, '28', nan, nan, '18', 16, 35, nan, nan, nan, 8, 26, nan, nan, nan, nan, nan, 26, '23', 21, nan, 46, 29, '29', '22', 16, nan, nan, nan, nan, '24', 22, 46, 33, 24, nan, nan, '21', nan, 17, '87', '11', '67', 13, 15, nan, 10, '13', nan, 39, '25', 33, 29, '16', 15, nan, 18, nan, 34, nan, 20, nan, nan, nan, '16', '13', '29', '22', '23', '77', '15', 25, nan, '17', 'Elderly', '16', nan, nan, 28, nan, '31', nan, 13, 18, '21', 30, nan, 27, '13', '20s', 28, nan, nan, nan, nan, nan, 33, nan, '27', 14, 14, nan, nan, '36', '17', '48', 16, 47, nan, nan, '15', nan, '16', '20', '15', nan, 29, 14, '14', '22', nan, 21, 24, 28, nan, '39', '13', '17', '42', '15', '21', '30', nan, nan, '21', '15', '22', nan, 27, '16', nan, 17, nan, nan, nan, 16, '43', nan, 22, 32, nan, nan, nan, '27', nan, nan, '26', 16, 16, '20', '36', 28, 'mid-20s', nan, 17, 18, nan, '20', 38, 26, '17', '43', '19', nan, 27, '20', '19', '8', nan, 'Ca. 33', 16, 20, nan, 32, '18', nan, nan, nan, 75, nan, '29', 20, nan, nan, nan, 24, nan, nan, nan, nan, '59', 19, nan, '17', '24', '28', nan, 26, '25', '24', '15', 19, nan, nan, 19, 53, 16, 32, nan, nan, nan, nan, nan, '27', 27, '32', nan, 19, nan, nan, 24, 19, 24, nan, nan, 30, nan, nan, 15, nan, 25, 23, '27', nan, 25, nan, '22', nan, nan, '16', 29, 19, '22', nan, 10, nan, nan, '15', '22', nan, nan, '44', 22, nan, nan, '13', 52, nan, nan, 61, 24, 29, 29, nan, 25, nan, '34', nan, '20', '20s', 18, '19', '32', 20, nan, nan, '18', '21', 16, '49', nan, '56', '36', 25, nan, nan, nan, 24, 8, 27, nan, nan, nan, 19, nan, ' ', 23, nan, '17', nan, 27, nan, '28', '34', nan, '27', '39', '27', '20', '17', nan, '25', '23', nan, nan, nan, nan, 17, nan, nan, nan, '49', '27', 18, nan, nan, 25, 17, '25', nan, 20, '17', '21', '27', '25', nan, nan, nan, nan, 31, '32', '74 ', '45 ', 24, nan, nan, nan, nan, 29, 19, nan, 19, '17', nan, nan, 25, 20, nan, 27, nan, '16', nan, '15', 23, 19, '24', '10', '18', '23', '17', nan, '46', nan, nan, nan, '21 or 26', nan, nan, nan, nan, nan, nan, nan, '25', nan, nan, nan, 27, 35, 20, 33, nan, '18', nan, 20, nan, 21, 19, 20, 44, '24', '62', '37', '24', 21, 23, '34', '14', '29', '16', '18', '15', '27', '20', nan, '17', 10, '37', nan, nan, nan, nan, '14', 18, nan, nan, 16, nan, 12, '45', nan, 12, '17', '25', nan, nan, 32, '24', 17, 29, 20, 41, 48, 30, '24', '22', nan, 19, 18, '21', nan, 36, '17', '10', '61', 45, nan, 22, 19, '11', 17, 21, nan, 14, 19, nan, nan, 42, 26, 33, nan, 32, nan, nan, 41, '20 ', '19', nan, '20s', nan, '13', nan, nan, 11, '20', '37', nan, 21, 16, 17, nan, '45', nan, '28', 26, '57', nan, nan, nan, nan, '13', 29, 25, '17', nan, nan, 24, nan, '24', 19, nan, '17', '17', nan, '20', '15', nan, '45', nan, nan, nan, '22', 32, '27', 25, nan, 19, '33', nan, '18', nan, 20, 30, 24, nan, nan, nan, 22, 16, '20', '20', 20, '18', 25, 30, 17, '34', '51', '26', '8', nan, 21, 32, 16, '>50', '19', '14', '66', nan, 16, nan, nan, '15', nan, nan, nan, '18', '18 to 22', nan, '41', nan, nan, nan, '43', '20', '18', 20, nan, nan, nan, nan, '13', 25, '16', '18', nan, '14', nan, nan, nan, '19', '8', 14, 16, 12, 10, nan, '22', nan, '15', nan, nan, nan, nan, 28, 25, 35, 35, 15, nan, 27, nan, 53, nan, '28', '15', '13', '25', nan, '13', nan, '22', '27', '8', nan, '23', '18', nan, nan, 'adult', '65', '16', '49', '52', '21', nan, nan, nan, 27, 17, nan, 28, '30', '22', nan, '16', nan, nan, nan, nan, 24, '9 & 12', '15', '12', '41', '18', 25, '33', '33', nan, '43', '17', '17', nan, nan, '17', '63', 10, '21', '7', '47', 35, '20', '28', '17', 14, nan, '26', nan, '24', '13', nan, nan, nan, 22, '32', '27', 59, nan, '15', '18', '21', nan, nan, nan, '19', '17', nan, '21', nan, nan, nan, '23', '24', '19', nan, 23, '19', nan, '? & 19', '15', '41', nan, '20', '36', '18', '26', nan, 30, '22', '60', '21', 32, '36', nan, 21, 14, nan, nan, nan, 31, '15', 30, 29, 19, '39', 29, '28', '9 months', 13, 8, '32', 20, nan, nan, 43, '14', nan, nan, nan, 18, 13, 9, '33', nan, '21', 26, 8, 16, '34', '14', 20, '25', '46', nan, 15, 18, 18, nan, 40, nan, 38, '24', nan, '25', nan, nan, nan, 13, 33, nan, 29, '30', nan, 16, 43, 15, 15, 35, '15', 40, nan, nan, 43, 44, nan, 24, '39', 32, nan, 15, '27', nan, nan, 23, nan, 15, nan, '25', nan, 6, nan, 38, nan, nan, nan, nan, nan, nan, '35', 49, '19', 28, 8, 17, nan, 16, 25, 18, 21, '22', 20, nan, 30, '13', 'Teen', nan, nan, '25 to 35', nan, nan, 19, nan, nan, 28, 10, 25, 29, 25, nan, nan, nan, 19, '24', 32, 20, 14, 19, 18, nan, 28, 12, 21, '22', '30', nan, '52', nan, nan, nan, nan, '29', nan, nan, 23, 40, '47', 35, 13, nan, 19, 32, 38, nan, nan, 15, 17, nan, 26, 25, nan, 19, '23', nan, '12', nan, nan, 39, 17, nan, nan, 21, nan, 20, nan, nan, nan, 20, 24, nan, 18, nan, 13, nan, nan, 15, 23, 22, '20', 18, 21, 25, '28', nan, nan, nan, 35, 28, 20, nan, 25, 30, 18, 16, '23 & 26', 26, 14, '24', nan, nan, '42', 30, nan, nan, nan, 25, 15, 25, 15, nan, nan, nan, 18, 28, '24', nan, '41', 32, 25, nan, '14', nan, 27, 24, nan, nan, nan, nan, nan, 16, nan, 26, nan, 24, nan, nan, 30, 32, 26, nan, 43, 1, 24, 20, 29, 28, nan, nan, 49, 39, nan, nan, 40, 24, '(adult)', nan, '23', 21, '20', 19, 41, 13, nan, nan, nan, 11, '31', '32', '35', nan, 13, nan, 55, 31, 17, nan, nan, nan, 16, 13, nan, nan, nan, 10, nan, 15, nan, 22, 13, 35, nan, nan, 18, 16, 19, 40, nan, '44', 29, nan, 19, nan, 24, 54, nan, '25', nan, nan, nan, nan, 57, nan, nan, nan, 18, 24, 18, 23, nan, 20, 22, 17, nan, nan, '45', nan, 45, '16', 19, 42, 22, nan, '33 & 37', nan, 16, 19, 22, 38, nan, 57, '16', nan, '21', 10, 23, '25', nan, nan, 19, 20, nan, 52, nan, '10', nan, 37, nan, 22, 21, 40, 38, nan, 24, nan, 24, 24, nan, 21, 33, 44, nan, '30', nan, nan, 27, 14, nan, nan, nan, 15, 27, 13, nan, nan, nan, '25 or 28', nan, nan, nan, nan, nan, '20', nan, nan, 27, 25, 33, nan, 41, 51, 17, 24, nan, nan, nan, 36, nan, 24, '26', nan, nan, nan, 37, nan, nan, nan, nan, nan, 25, nan, nan, 38, nan, 14, 24, nan, 15, 25, 46, nan, 25, 17, 41, nan, nan, nan, 18, 39, '37, 67, 35, 27,  ? & 27', 58, 24, 27, 25, 16, nan, nan, 16, 48, nan, nan, '21, 34,24 & 35', 17, nan, nan, nan, nan, nan, nan, nan, 42, 44, '30 & 32', 22, 36, nan, 26, nan, 20, nan, nan, nan, nan, 13, nan, nan, nan, nan, '9', nan, nan, nan, nan, 16, 20, '5', nan, nan, '50 & 30', 13, 29, nan, '17 & 35', nan, nan, 3, 19, 17, 19, nan, nan, nan, 21, nan, nan, 'X', nan, 30, nan, 36, 28, '29', 30, nan, nan, nan, nan, '\"middle-age\"', nan, nan, '14', 10, '21', 26, nan, nan, 32, nan, '13 or 18', 15, nan, '34 & 19', nan, 25, 22, 21, nan, nan, 27, 13, nan, nan, nan, nan, 33, nan, 23, 37, 18, 19, nan, 22, 43, nan, nan, nan, 13, 20, nan, nan, nan, nan, 15, 14, 20, 57, 16, 22, 17, 18, nan, '33 & 26', nan, nan, nan, nan, nan, nan, nan, nan, nan, nan, '14', 15, 22, 21, nan, nan, nan, 15, 60, nan, 26, 32, 42, 20, nan, nan, nan, 12, 8, 35, 21, nan, 31, '20', 38, 36, nan, 59, 17, nan, nan, nan, 29, 29, 28, 29, nan, '21', 18, 17, 14, '50', nan, nan, nan, nan, nan, nan, nan, nan, nan, nan, nan, 14, 20, 23, 15, 16, nan, nan, 22, 28, nan, nan, nan, 57, '36', nan, 28, nan, nan, 25, 15, 17, 22, 17, 15, nan, nan, nan, nan, 12, nan, nan, '2 to 3 months', nan, 18, nan, 30, nan, nan, nan, nan, 19, 16, nan, 70, 29, nan, 19, nan, '27', nan, nan, nan, 34, nan, '13', nan, 10, '23', nan, nan, nan, nan, nan, 13, '38', '40', '38', 7, nan, '23', nan, nan, 30, nan, nan, 13, 26, '21', 15, '8', '18', 33, '25', nan, nan, '15', nan, 14, nan, nan, nan, nan, nan, 8, nan, 28, nan, nan, nan, 16, nan, nan, 25, '32', 28, nan, '15', nan, '22', 13, nan, nan, 28, nan, nan, nan, nan, 22, nan, 25, nan, 19, 25, 25, nan, nan, 13, nan, nan, nan, 16, nan, 12, nan, 27, '23', nan, 16, nan, nan, '62', nan, 13, 35, 20, '35', '27', nan, nan, nan, '27', 34, 28, nan, nan, '4', nan, 22, nan, nan, 35, 30, nan, nan, nan, nan, nan, 23, nan, '30', 18, 26, nan, nan, nan, nan, 12, nan, nan, nan, '23', 16, nan, nan, '23', nan, nan, '15', nan, '19', 18, 15, nan, 26, nan, nan, nan, 19, nan, nan, '19', nan, nan, '23', nan, nan, nan, nan, 25, nan, '61', 'MAKE LINE GREEN', nan, nan, nan, nan, 25, nan, 17, nan, 17, 40, nan, 18, '19', nan, ' 43', '34', nan, 34, nan, nan, nan, nan, nan, nan, nan, nan, nan, nan, nan, nan, 27, nan, 15, '18', nan, 21, 23, '81', 24, nan, 42, nan, '21', nan, 56, '18', 16, nan, nan, '13', '40', nan, 39, '16', nan, '23', '\"young\"', 19, 31, 20, 14, 19, nan, nan, '19', nan, 20, '17', 21, '18', 31, '25', 27, nan, nan, 19, nan, 30, '11', nan, 21, 16, 25, 27, nan, '50', nan, nan, 20, nan, nan, 14, nan, nan, nan, nan, nan, nan, '7 or 8', nan, nan, nan, nan, nan, nan, nan, nan, nan, 35, '36', nan, 21, 34, '17', 18, '21', 18, 18, 16, 16, nan, 22, '26', nan, 13, nan, nan, 20, '32', nan, nan, nan, nan, nan, nan, 18, nan, nan, 17, 28, 19, 14, nan, nan, 41, '17', nan, nan, nan, nan, 60, 13, 15, 41, '46', nan, 38, nan, nan, nan, 30, nan, 16, nan, 48, nan, nan, nan, '9', nan, nan, nan, '17', '16', 12, 13, 78, nan, '25', 20, '46', nan, 20, nan, 35, nan, nan, 21, 14, '17', 29, 18, 22, nan, nan, nan, '17 & 16', 18, 23, nan, 30, nan, 15, 15, 30, 12, 12, '14', nan, 17, nan, '28', 21, 18, 18, 15, nan, 12, 18, 14, 24, nan, nan, nan, nan, '20', nan, 13, nan, nan, nan, nan, nan, nan, 37, nan, nan, nan, '8 or 10', 15, '19', nan, '18', nan, nan, nan, nan, nan, nan, nan, '13', nan, 19, 17, nan, 15, nan, nan, nan, 18, '23', 16, nan, '12', 22, nan, 14, 26, nan, nan, nan, 17, nan, nan, nan, nan, 20, nan, nan, nan, 68, '18', nan, 26, nan, 'F', nan, nan, 31, nan, nan, nan, nan, nan, nan, '22', nan, nan, nan, 15, nan, 38, '19', nan, nan, nan, nan, 18, nan, nan, 25, nan, nan, 24, nan, nan, '32', '20', nan, nan, nan, nan, nan, nan, nan, 18, nan, 28, nan, nan, nan, nan, nan, nan, 48, nan, nan, nan, nan, nan, nan, '10', '23', nan, nan, nan, nan, nan, nan, 20, nan, nan, 43, nan, nan, 53, '34', nan, 19, nan, nan, nan, nan, nan, 6, nan, 14, 23, 17, nan, nan, 18, nan, nan, nan, 25, nan, 17, nan, 55, '17', 13, 22, '18', nan, nan, nan, nan, nan, nan, nan, '40', 20, nan, nan, nan, nan, nan, 27, nan, nan, 33, '3', 38, nan, nan, '9', nan, nan, nan, 'Both 11', nan, nan, nan, nan, nan, 19, '18', nan, nan, nan, nan, 27, '25', nan, nan, nan, '9 or 10', nan, nan, nan, nan, 13, 24, nan, nan, '50', nan, 17, nan, nan, '17', nan, 25, 18, 16, nan, nan, nan, nan, nan, 38, nan, '21', nan, nan, nan, nan, '14', nan, 33, '16', '43', 32, nan, nan, '20', nan, '18', nan, nan, nan, nan, 15, 50, nan, nan, nan, nan, nan, nan, nan, '13', 16, nan, nan, nan, 16, nan, 16, nan, nan, nan, nan, nan, 'young', nan, 14, 13, '17', nan, nan, nan, 20, 38, nan, '38', nan, nan, 23, 53, 14, '22', 31, nan, nan, nan, nan, nan, 40, nan, nan, nan, nan, nan, 38, nan, 27, 22, 20, nan, nan, nan, '5', 13, 19, 14, 12, '38', nan, nan, nan, nan, nan, nan, 18, '11', nan, nan, 8, 34, nan, 12, 15, 17, nan, nan, nan, nan, 15, 22, nan, 17, nan, nan, nan, nan, nan, '50', nan, 15, nan, nan, nan, nan, nan, nan, 24, nan, nan, nan, nan, 38, nan, nan, nan, 24, '27', nan, nan, nan, nan, nan, 18, '17', nan, 32, nan, nan, nan, nan, nan, nan, nan, nan, nan, nan, nan, '36 & 23', 23, 45, 'Teen', nan, '20', nan, '18', nan, nan, 23, nan, nan, nan, nan, nan, nan, nan, nan, nan, nan, nan, 19, nan, nan, '39', nan, nan, 18, nan, nan, 49, nan, nan, nan, nan, nan, nan, '17', '38', nan, '29', 21, nan, nan, nan, nan, '17', nan, 19, '18', nan, nan, 23, nan, '17', nan, 16, nan, 17, nan, '20', '50s', nan, nan, nan, nan, 42, nan, nan, nan, nan, nan, nan, nan, 19, nan, nan, 26, nan, '9', '12', 20, nan, 39, '  ', nan, 14, nan, nan, nan, nan, nan, nan, 27, nan, nan, '24', nan, 17, nan, nan, nan, nan, nan, nan, nan, 19, nan, '15', 28, nan, nan, nan, nan, '78', nan, nan, nan, 18, 25, 17, nan, nan, nan, nan, nan, nan, nan, nan, nan, 17, nan, nan, 70, nan, nan, 15, 10, nan, nan, nan, nan, '17', nan, nan, 18, '20', nan, 15, nan, nan, 26, nan, nan, nan, nan, nan, nan, nan, nan, 55, nan, nan, nan, nan, nan, nan, nan, 16, 16, 'A.M.', nan, nan, nan, nan, 35, 35, nan, nan, nan, nan, '?    &   14', nan, '20', '21', nan, nan, nan, 30, nan, 22, nan, 16, nan, nan, nan, nan, nan, nan, nan, nan, nan, nan, nan, nan, nan, nan, 25, nan, 13, nan, nan, nan, nan, nan, nan, 19, '16', nan, nan, nan, nan, nan, 18, '19', 18, nan, nan, 14, 21, nan, 18, nan, 54, nan, 26, '20', 8, 40, nan, nan, '22', nan, nan, '21', nan, nan, nan, nan, nan, nan, 30, nan, 13, nan, 20, nan, 18, nan, 12, nan, nan, 12, '29', '47', nan, nan, nan, nan, nan, nan, nan, nan, 13, 38, nan, nan, nan, nan, '22', nan, nan, nan, nan, nan, nan, nan, nan, nan, nan, nan, nan, nan, nan, '25', 41, nan, nan, nan, '27', nan, nan, nan, nan, nan, 12, 24, 10, nan, nan, nan, nan, 24, '10 or 12', nan, '26', nan, '17', nan, nan, '10', nan, nan, nan, nan, nan, nan, nan, nan, '17', nan, nan, nan, nan, '17', nan, nan, nan, nan, '43', nan, nan, nan, nan, nan, nan, nan, nan, nan, nan, nan, nan, '12', nan, nan, nan, nan, nan, nan, nan, nan, nan, nan, nan, nan, nan, nan, '19', '12', nan, nan, nan, nan, nan, '18', nan, 21, '7', nan, nan, nan, nan, nan, '23', nan, nan, nan, nan, nan, 64, nan, nan, nan, nan, '22', nan, 50, nan, nan, nan, nan, nan, nan, nan, nan, nan, nan, nan, nan, nan, nan, nan, nan, nan, nan, nan, nan, nan, 16, nan, nan, nan, nan, 19, nan, nan, '36', nan, nan, 16, nan, nan, nan, nan, nan, nan, nan, nan, nan, nan, nan, nan, nan, nan, nan, nan, nan, nan, nan, nan, nan, nan, nan, nan, nan, nan, nan, nan, nan, nan, nan, 55, '18', '20', nan, nan, nan, nan, nan, nan, nan, nan, nan, nan, nan, nan, nan, nan, nan, nan, '17', nan, '18', nan, '31 or 33', 30, nan, nan, nan, nan, nan, nan, '21', 16, '8', nan, nan, nan, 26, '40', nan, '23', '39', nan, nan, nan, nan, nan, nan, nan, nan, nan, '30', nan, '16', nan, nan, nan, nan, nan, '28', nan, nan, nan, nan, nan, nan, nan, '30', '17', nan, nan, nan, nan, nan, nan, nan, nan, nan, nan, nan, nan, '16', '10', nan, 'Teen', 29, '20', nan, nan, nan, nan, nan, '30', nan, nan, nan, nan, nan, nan, nan, nan, nan, nan, nan, nan, nan, nan, nan, nan, nan, nan, 15, 9, 19, 13, nan, nan, nan, nan, nan, '13', nan, nan, nan, nan, nan, nan, nan, nan, nan, nan, nan, 24, '22', nan, nan, nan, nan, nan, '15', nan, nan, nan, nan, nan, nan, nan, nan, nan, nan, nan, nan, nan, nan, nan, nan, nan, nan, 26, nan, nan, nan, nan, '35', nan, '11', nan, 15, '14', nan, nan, nan, nan, nan, '26', nan, nan, nan, nan, nan, nan, 28, nan, nan, '13', '14', nan, nan, nan, '19', nan, nan, nan, nan, nan, nan, nan, nan, nan, nan, nan, nan, nan, nan, nan, nan, nan, nan, nan, nan, nan, nan, nan, nan, nan, nan, '15', nan, nan, nan, nan, nan, nan, nan, nan, '21', nan, nan, nan, nan, nan, nan, nan, nan, nan, nan, nan, '18', nan, nan, nan, nan, nan, nan, nan, nan, nan, nan, nan, nan, nan, nan, nan, nan, nan, nan, nan, nan, nan, nan, nan, nan, nan, 11, nan, nan, nan, nan, nan, nan, nan, nan, nan, nan, nan, nan, nan, '33', nan, nan, nan, nan, nan, nan, nan, nan, nan, nan, 13, nan, nan, nan, nan, '45', '18', nan, nan, nan, nan, nan, nan, nan, nan, nan, nan, nan, nan, nan, nan, nan, nan, nan, nan, nan, nan, nan, nan, nan, nan, nan, nan, nan, '21', nan, nan, nan, nan, nan, nan, nan, '37', nan, nan, nan, nan, nan, nan, nan, nan, nan, nan, nan, nan, nan, nan, nan, nan, nan, '18', nan, '20', nan, nan, '23', nan, nan, '12', nan, nan, nan, 20, 60, nan, nan, 11, nan, '13', nan, nan, nan, nan, '23', nan, nan, nan, nan, '19', nan, nan, nan, '22', nan, nan, nan, nan, nan, '14', nan, nan, nan, nan, 11, nan, '11', nan, nan, nan, nan, nan, nan, '15', nan, nan, nan, nan, nan, nan, nan, nan, nan, nan, nan, nan, nan, nan, nan, nan, '3', nan, nan, nan, nan, nan, nan, nan, nan, nan, nan, nan, nan, nan, nan, nan, nan, nan, '27', nan, nan, nan, nan, nan, nan, nan, nan, nan, nan, nan, nan, nan, 30, nan, nan, nan, nan, 40, 40, '13', 39, 40, '17', nan, nan, nan, nan, 35, nan, nan, nan, nan, nan, nan, nan, nan, nan, nan, nan, 17, nan, nan, nan, nan, nan, nan, '13', nan, nan, nan, nan, nan, nan, nan, nan, nan, nan, 18, nan, nan, nan, nan, 26, 17, nan, nan, nan, nan, '28', nan, nan, nan, nan, '18', '18', nan, nan, nan, nan, nan, nan, nan, nan, nan, nan, nan, nan, nan, nan, nan, nan, nan, '21', nan, nan, nan, '22', nan, nan, nan, nan, '22', nan, '17', nan, nan, nan, '2½', nan, nan, nan, nan, nan, nan, nan, nan, nan, nan, nan, nan, nan, nan, nan, nan, '1', nan, nan, nan, nan, nan, nan, nan, nan, nan, nan, nan, nan, nan, nan, nan, nan, '15', nan, nan, nan, nan, '19', nan, nan, nan, nan, nan, nan, nan, nan, nan, nan, nan, nan, nan, nan, nan, nan, nan, nan, nan, '15', nan, '7 or 8', nan, nan, nan, nan, nan, nan, nan, nan, nan, nan, 29, nan, nan, 12, nan, nan, nan, nan, nan, nan, nan, nan, nan, nan, nan, '52', nan, nan, nan, nan, nan, nan, 17, nan, nan, nan, nan, nan, nan, nan, nan, nan, nan, nan, nan, nan, nan, nan, nan, nan, '22', nan, nan, nan, nan, nan, nan, nan, nan, nan, nan, nan, nan, nan, nan, nan, nan, nan, nan, nan, nan, nan, nan, nan, nan, nan, nan, nan, nan, 'young', nan, nan, nan, nan, nan, nan, nan, nan, 14, nan, nan, nan, nan, nan, nan, nan, '19', nan, nan, nan, nan, nan, nan, nan, nan, nan, nan, nan, nan, nan, nan, nan, '29', nan, nan, nan, nan, nan, nan, nan, '17', nan, nan, nan, nan, nan, nan, '20', nan, nan, nan, nan, '15', nan, nan, nan, nan, nan, nan, nan, nan, nan, '21', nan, nan, nan, nan, nan, nan, nan, nan, nan, nan, nan, nan, nan, nan, nan, nan, nan, nan, nan, nan, nan, nan, nan, nan, nan, 19, nan, nan, nan, nan, nan, nan, nan, nan, nan, nan, nan, 27, 36, nan, 25, 6, 16, nan, nan, nan, nan, nan, nan, nan, nan, nan, nan, 50, nan, nan, nan, nan, nan, nan, nan, nan, nan, nan, '13 or 14', nan, nan, nan, nan, nan, nan, nan, nan, nan, nan, '16', nan, nan, nan, nan, nan, nan, nan, nan, nan, nan, nan, nan, nan, nan, nan, nan, nan, nan, nan, nan, nan, nan, nan, nan, '15']\n"
     ]
    }
   ],
   "source": [
    "print(shark_attacks['Age'].tolist())"
   ]
  },
  {
   "cell_type": "code",
   "execution_count": 17,
   "id": "c93960c8",
   "metadata": {
    "ExecuteTime": {
     "end_time": "2023-04-04T20:03:02.237002Z",
     "start_time": "2023-04-04T20:03:02.213401Z"
    }
   },
   "outputs": [
    {
     "data": {
      "text/plain": [
       "2971"
      ]
     },
     "execution_count": 17,
     "metadata": {},
     "output_type": "execute_result"
    }
   ],
   "source": [
    "#check how many NaN in column Age\n",
    "nan_sum_age = shark_attacks['Age'].isna().sum()\n",
    "nan_sum_age"
   ]
  },
  {
   "cell_type": "code",
   "execution_count": 18,
   "id": "1a525b0b",
   "metadata": {
    "ExecuteTime": {
     "end_time": "2023-04-04T20:03:02.267527Z",
     "start_time": "2023-04-04T20:03:02.242538Z"
    }
   },
   "outputs": [
    {
     "data": {
      "text/plain": [
       "0       67.0\n",
       "1        NaN\n",
       "2       60.0\n",
       "3       10.0\n",
       "4        NaN\n",
       "        ... \n",
       "6835     NaN\n",
       "6836     NaN\n",
       "6837     NaN\n",
       "6838     NaN\n",
       "6839    15.0\n",
       "Name: Age, Length: 6840, dtype: float64"
      ]
     },
     "execution_count": 18,
     "metadata": {},
     "output_type": "execute_result"
    }
   ],
   "source": [
    "#convert NaN to numeric values\n",
    "shark_attacks['Age'] = pd.to_numeric(shark_attacks['Age'], errors = 'coerce')\n",
    "shark_attacks['Age']"
   ]
  },
  {
   "cell_type": "markdown",
   "id": "4c357b35",
   "metadata": {
    "ExecuteTime": {
     "end_time": "2023-04-04T17:58:46.616607Z",
     "start_time": "2023-04-04T17:58:46.603719Z"
    }
   },
   "source": [
    "#check how many people from 0 - 19 yeras old were attacked\n",
    "age_0_19 = shark_attacks[(shark_attacks['Age'] >= 0) & (shark_attacks['Age'] <= 19)]\n",
    "count_age_0_19 = len(age_0_19)\n",
    "print(count_age_0_19)"
   ]
  },
  {
   "cell_type": "code",
   "execution_count": 19,
   "id": "cce39b06",
   "metadata": {
    "ExecuteTime": {
     "end_time": "2023-04-04T20:03:02.299033Z",
     "start_time": "2023-04-04T20:03:02.270550Z"
    }
   },
   "outputs": [
    {
     "data": {
      "text/plain": [
       "0"
      ]
     },
     "execution_count": 19,
     "metadata": {},
     "output_type": "execute_result"
    }
   ],
   "source": [
    "#convert NaN to -1\n",
    "shark_attacks['Age'].fillna( -1, inplace = True)\n",
    "\n",
    "#check if there is still any NaN element in Sex column\n",
    "nan_age = shark_attacks['Age'].isna().sum()\n",
    "nan_age"
   ]
  },
  {
   "cell_type": "code",
   "execution_count": 20,
   "id": "2f2ea2bb",
   "metadata": {
    "ExecuteTime": {
     "end_time": "2023-04-04T20:03:02.314419Z",
     "start_time": "2023-04-04T20:03:02.303108Z"
    }
   },
   "outputs": [
    {
     "name": "stdout",
     "output_type": "stream",
     "text": [
      "[67.0, -1.0, 60.0, 10.0, 15.0, 14.0, 6.0, 32.0, 59.0, 41.0, 16.0, 8.0, 49.0, 34.0, 53.0, 30.0, 26.0, 68.0, 43.0, 50.0, 29.0, 40.0, 51.0, 19.0, 38.0, 17.0, 31.0, 39.0, 58.0, 13.0, 33.0, 28.0, 35.0, 62.0, 20.0, 22.0, 56.0, 12.0, 21.0, 42.0, 36.0, 18.0, 37.0, 9.0, 24.0, 11.0, 27.0, 57.0, 25.0, 64.0, 47.0, 55.0, 7.0, 71.0, 48.0, 54.0, 75.0, 46.0, 61.0, 73.0, 52.0, 70.0, 23.0, 4.0, 63.0, 45.0, 44.0, 65.0, 74.0, 69.0, 3.0, 82.0, 66.0, 72.0, 77.0, 5.0, 86.0, 84.0, 87.0, 1.0, 81.0, 78.0]\n"
     ]
    }
   ],
   "source": [
    "print(shark_attacks['Age'].unique().tolist())"
   ]
  },
  {
   "cell_type": "markdown",
   "id": "87176758",
   "metadata": {
    "ExecuteTime": {
     "end_time": "2023-04-04T15:48:47.238860Z",
     "start_time": "2023-04-04T15:48:47.215000Z"
    }
   },
   "source": [
    "shark_attacks['Age'] = shark_attacks['Age'].str.findall('\\d+')"
   ]
  },
  {
   "cell_type": "markdown",
   "id": "7f858c78",
   "metadata": {
    "ExecuteTime": {
     "end_time": "2023-04-04T15:02:46.423356Z",
     "start_time": "2023-04-04T15:02:46.409365Z"
    },
    "code_folding": []
   },
   "source": [
    "#remove spaces\n",
    "shark_attacks['Age'] = shark_attacks['Age'].str.replace(' ', '')"
   ]
  },
  {
   "cell_type": "markdown",
   "id": "075b93c2",
   "metadata": {
    "ExecuteTime": {
     "end_time": "2023-04-04T15:02:46.454086Z",
     "start_time": "2023-04-04T15:02:46.426345Z"
    }
   },
   "source": [
    "#use for loop to check if the words bellow are present\n",
    "list_words_age = ['ten', 'eleven', 'twelve', 'thirteen', 'fourteen', 'fifteen', 'sixteen', \n",
    "'seventeen', 'eighteen', 'nineteen', 'twenty', 'thirty', 'forty', 'fifty', 'sixty', 'seventy', 'eighty', 'ninety']\n",
    "\n",
    "list_words_age_empty = []\n",
    "\n",
    "for words in shark_attacks['Age']:\n",
    "    if words in list_words_age:\n",
    "        list_words_age_empty.append(words)  \n",
    "    else:\n",
    "        list_words_age_empty.append('no words found')\n",
    "print(list_words_age_empty)"
   ]
  },
  {
   "cell_type": "markdown",
   "id": "730bf5a3",
   "metadata": {
    "ExecuteTime": {
     "end_time": "2023-04-04T15:02:46.469608Z",
     "start_time": "2023-04-04T15:02:46.456080Z"
    },
    "scrolled": true
   },
   "source": [
    "#Find if in the Age column there are the words ten, eleven, twelve, thirteen, fourteen, fifteen, sixteen, \n",
    "#seventeen, eighteen, nineteen, twenty, thirty, fort,y fifty, sixty, seventy, eighty, ninety\n",
    "#if one or more of those words are present in the 'age' column, replace them with the correspondent number\n",
    "mask_age = shark_attacks['Age'].isin(['ten', 'eleven', 'twelve', 'thirteen', 'fourteen', 'fifteen', 'sixteen', \n",
    "'seventeen', 'eighteen', 'nineteen', 'twenty', 'thirty', 'forty', 'fifty', 'sixty', 'seventy', 'eighty', 'ninety']) \n"
   ]
  },
  {
   "cell_type": "markdown",
   "id": "18d28912",
   "metadata": {
    "ExecuteTime": {
     "end_time": "2023-04-04T18:13:42.227276Z",
     "start_time": "2023-04-04T18:13:42.176311Z"
    }
   },
   "source": [
    "#Find if in the Age column there are the words ten, eleven, twelve, thirteen, fourteen, fifteen, sixteen, \n",
    "#seventeen, eighteen, nineteen, twenty, thirty, fort,y fifty, sixty, seventy, eighty, ninety\n",
    "#if one or more of those words are present in the 'age' column, replace them with the correspondent number\n",
    "mask_age = shark_attacks['Age'].astype(str).str.contains(\"\"\"ten|eleven|twelve|thirteen|fourteen|fifteen|sixteen|seventeen|eighteen|\n",
    "                                             nineteen|twenty|thirty|forty|fifty|sixty|seventy|eighty|ninety\"\"\") \n",
    "\n",
    "age_rows = shark_attacks[mask_age]\n",
    "print(age_rows)"
   ]
  },
  {
   "cell_type": "markdown",
   "id": "8e26233d",
   "metadata": {
    "ExecuteTime": {
     "end_time": "2023-04-04T18:13:42.289069Z",
     "start_time": "2023-04-04T18:13:42.233092Z"
    },
    "scrolled": true
   },
   "source": [
    "#since the words I was looking for were not present in the Age column: clean column Age from non-numeric characters\n",
    "shark_attacks['Age'] = shark_attacks['Age'].replace('[^0-9]', '', regex = True)\n",
    "shark_attacks['Age']"
   ]
  },
  {
   "cell_type": "markdown",
   "id": "627d6085",
   "metadata": {
    "ExecuteTime": {
     "end_time": "2023-04-04T18:13:42.319292Z",
     "start_time": "2023-04-04T18:13:42.299316Z"
    }
   },
   "source": [
    "print(shark_attacks['Age'].unique().tolist())"
   ]
  },
  {
   "cell_type": "code",
   "execution_count": 21,
   "id": "6f53b0c4",
   "metadata": {
    "ExecuteTime": {
     "end_time": "2023-04-04T20:03:02.329560Z",
     "start_time": "2023-04-04T20:03:02.317591Z"
    }
   },
   "outputs": [],
   "source": [
    "#convert column Age from object to int\n",
    "shark_attacks['Age'] = shark_attacks['Age'].astype(int)"
   ]
  },
  {
   "cell_type": "code",
   "execution_count": 22,
   "id": "28ec4f02",
   "metadata": {
    "ExecuteTime": {
     "end_time": "2023-04-04T20:03:02.345486Z",
     "start_time": "2023-04-04T20:03:02.333519Z"
    }
   },
   "outputs": [
    {
     "name": "stdout",
     "output_type": "stream",
     "text": [
      "1316\n"
     ]
    }
   ],
   "source": [
    "#check how many people from 0 - 19 yeras old were attacked\n",
    "age_0_19 = shark_attacks[(shark_attacks['Age'] >= 0) & (shark_attacks['Age'] <= 19)]\n",
    "count_age_0_19 = len(age_0_19)\n",
    "print(count_age_0_19)"
   ]
  },
  {
   "cell_type": "code",
   "execution_count": 23,
   "id": "8e1354e3",
   "metadata": {
    "ExecuteTime": {
     "end_time": "2023-04-04T20:03:02.376279Z",
     "start_time": "2023-04-04T20:03:02.350517Z"
    }
   },
   "outputs": [
    {
     "data": {
      "text/plain": [
       "no class        45.277778\n",
       "young adults    25.029240\n",
       "youth           19.239766\n",
       "adults           9.020468\n",
       "elderly          1.432749\n",
       "Name: Age, dtype: float64"
      ]
     },
     "execution_count": 23,
     "metadata": {},
     "output_type": "execute_result"
    }
   ],
   "source": [
    "#create classes of different age groups and get the % of each group in column Age\n",
    "pd.cut(shark_attacks['Age'], [-2, 0, 19, 40, 61, 110], labels = ['no class', 'youth', 'young adults', 'adults', 'elderly']).value_counts(normalize = True) * 100 "
   ]
  },
  {
   "cell_type": "markdown",
   "id": "c26f2a0d",
   "metadata": {},
   "source": [
    "## SEX"
   ]
  },
  {
   "cell_type": "code",
   "execution_count": 24,
   "id": "02e6af05",
   "metadata": {
    "ExecuteTime": {
     "end_time": "2023-04-04T20:03:02.391597Z",
     "start_time": "2023-04-04T20:03:02.379272Z"
    }
   },
   "outputs": [
    {
     "data": {
      "text/plain": [
       "0       M\n",
       "1       M\n",
       "2       M\n",
       "3       M\n",
       "4       F\n",
       "       ..\n",
       "6835    M\n",
       "6836    M\n",
       "6837    M\n",
       "6838    M\n",
       "6839    M\n",
       "Name: Sex, Length: 6840, dtype: object"
      ]
     },
     "execution_count": 24,
     "metadata": {},
     "output_type": "execute_result"
    }
   ],
   "source": [
    "#check Sex column\n",
    "shark_attacks['Sex']"
   ]
  },
  {
   "cell_type": "code",
   "execution_count": 25,
   "id": "6ac0806f",
   "metadata": {
    "ExecuteTime": {
     "end_time": "2023-04-04T20:03:02.422559Z",
     "start_time": "2023-04-04T20:03:02.393589Z"
    }
   },
   "outputs": [],
   "source": [
    "#convert all the letters in the column Sex to upperercase\n",
    "shark_attacks['Sex'] = shark_attacks['Sex'].str.upper()\n",
    "\n",
    "#remove spaces\n",
    "shark_attacks['Sex'] = shark_attacks['Sex'].str.replace(' ', '')"
   ]
  },
  {
   "cell_type": "code",
   "execution_count": 26,
   "id": "21026f0c",
   "metadata": {
    "ExecuteTime": {
     "end_time": "2023-04-04T20:03:02.453908Z",
     "start_time": "2023-04-04T20:03:02.424473Z"
    }
   },
   "outputs": [
    {
     "data": {
      "text/plain": [
       "True"
      ]
     },
     "execution_count": 26,
     "metadata": {},
     "output_type": "execute_result"
    }
   ],
   "source": [
    "#check if there are numeric elements in Sex column\n",
    "num_sex = shark_attacks['Sex'].str.contains('\\d').any()\n",
    "num_sex"
   ]
  },
  {
   "cell_type": "code",
   "execution_count": 27,
   "id": "58046a7a",
   "metadata": {
    "ExecuteTime": {
     "end_time": "2023-04-04T20:03:02.501187Z",
     "start_time": "2023-04-04T20:03:02.466811Z"
    }
   },
   "outputs": [
    {
     "data": {
      "text/plain": [
       "False"
      ]
     },
     "execution_count": 27,
     "metadata": {},
     "output_type": "execute_result"
    }
   ],
   "source": [
    "#check if there are numeric elements different than NaN in Sex column\n",
    "not_nan_sex = pd.to_numeric(shark_attacks['Sex'], errors = 'coerce').notnull().any()\n",
    "not_nan_sex"
   ]
  },
  {
   "cell_type": "code",
   "execution_count": 28,
   "id": "2b655c55",
   "metadata": {
    "ExecuteTime": {
     "end_time": "2023-04-04T20:03:02.532503Z",
     "start_time": "2023-04-04T20:03:02.521538Z"
    }
   },
   "outputs": [
    {
     "data": {
      "text/plain": [
       "577"
      ]
     },
     "execution_count": 28,
     "metadata": {},
     "output_type": "execute_result"
    }
   ],
   "source": [
    "#check how many NaN in column Sex\n",
    "nan_sum_sex = shark_attacks['Sex'].isna().sum()\n",
    "nan_sum_sex"
   ]
  },
  {
   "cell_type": "code",
   "execution_count": 29,
   "id": "2f67e8d2",
   "metadata": {
    "ExecuteTime": {
     "end_time": "2023-04-04T20:03:02.548484Z",
     "start_time": "2023-04-04T20:03:02.536572Z"
    }
   },
   "outputs": [
    {
     "data": {
      "text/plain": [
       "0"
      ]
     },
     "execution_count": 29,
     "metadata": {},
     "output_type": "execute_result"
    }
   ],
   "source": [
    "#replace NaN in Sex column to the acronym 'unk'\n",
    "shark_attacks['Sex'].fillna('unk', inplace = True)\n",
    "\n",
    "#check if there is still any NaN element in Sex column\n",
    "nan_sex = shark_attacks['Sex'].isna().sum()\n",
    "nan_sex"
   ]
  },
  {
   "cell_type": "code",
   "execution_count": 30,
   "id": "fed43aa5",
   "metadata": {
    "ExecuteTime": {
     "end_time": "2023-04-04T20:03:02.579515Z",
     "start_time": "2023-04-04T20:03:02.552703Z"
    }
   },
   "outputs": [
    {
     "data": {
      "text/plain": [
       "True"
      ]
     },
     "execution_count": 30,
     "metadata": {},
     "output_type": "execute_result"
    }
   ],
   "source": [
    "#check if there is more than one letter in Sex column\n",
    "more_letters_sex = shark_attacks['Sex'].str.count('[a-zA-Z]').gt(1).any()\n",
    "more_letters_sex"
   ]
  },
  {
   "cell_type": "markdown",
   "id": "845bb822",
   "metadata": {
    "ExecuteTime": {
     "end_time": "2023-04-04T18:34:07.645986Z",
     "start_time": "2023-04-04T18:34:07.632737Z"
    }
   },
   "source": [
    "#now that we know that there are rows from Sex column with more than one letter, check if the word male is present\n",
    "male_sex = shark_attacks['Sex'].str.contains('male', case = False).any()\n",
    "male_sex"
   ]
  },
  {
   "cell_type": "code",
   "execution_count": 31,
   "id": "dee43338",
   "metadata": {
    "ExecuteTime": {
     "end_time": "2023-04-04T20:03:02.611233Z",
     "start_time": "2023-04-04T20:03:02.588382Z"
    }
   },
   "outputs": [
    {
     "name": "stdout",
     "output_type": "stream",
     "text": [
      "['M', 'F', 'unk', 'LLI', 'MX2', 'N', '.']\n"
     ]
    }
   ],
   "source": [
    "print(shark_attacks['Sex'].unique().tolist())"
   ]
  },
  {
   "cell_type": "markdown",
   "id": "d672d5c8",
   "metadata": {
    "ExecuteTime": {
     "end_time": "2023-04-04T18:35:21.119280Z",
     "start_time": "2023-04-04T18:35:21.106256Z"
    }
   },
   "source": [
    "#check if the word female is present\n",
    "female_sex = shark_attacks['Sex'].str.contains('female', case = False).any()\n",
    "female_sex"
   ]
  },
  {
   "cell_type": "code",
   "execution_count": 32,
   "id": "805e9d78",
   "metadata": {
    "ExecuteTime": {
     "end_time": "2023-04-04T20:03:02.642549Z",
     "start_time": "2023-04-04T20:03:02.616270Z"
    }
   },
   "outputs": [
    {
     "name": "stdout",
     "output_type": "stream",
     "text": [
      "['unk']\n"
     ]
    }
   ],
   "source": [
    "#replace the unkown items to the acronym 'unk' \n",
    "unk_words = {'LLI': 'unk', 'MX2': 'M', 'N': 'unk', '.': 'unk'}\n",
    "\n",
    "shark_attacks['Sex'] = shark_attacks['Sex'].replace(unk_words)\n",
    "\n",
    "differnet_sex = shark_attacks.loc[~shark_attacks['Sex'].isin(['M', 'F']), 'Sex']\n",
    "\n",
    "unique_different_sex = differnet_sex.unique()\n",
    "print(unique_different_sex)"
   ]
  },
  {
   "cell_type": "code",
   "execution_count": 33,
   "id": "0801fb52",
   "metadata": {
    "ExecuteTime": {
     "end_time": "2023-04-04T20:03:02.657879Z",
     "start_time": "2023-04-04T20:03:02.648955Z"
    }
   },
   "outputs": [
    {
     "data": {
      "text/plain": [
       "581"
      ]
     },
     "execution_count": 33,
     "metadata": {},
     "output_type": "execute_result"
    }
   ],
   "source": [
    "#check how many times the elemnt 'unk' appears in Sex column\n",
    "count_unk_sex = shark_attacks['Sex'].value_counts()['unk']\n",
    "count_unk_sex"
   ]
  },
  {
   "cell_type": "code",
   "execution_count": 34,
   "id": "a97ad41f",
   "metadata": {
    "ExecuteTime": {
     "end_time": "2023-04-04T20:03:02.673838Z",
     "start_time": "2023-04-04T20:03:02.659874Z"
    }
   },
   "outputs": [
    {
     "data": {
      "text/plain": [
       "M      80.540936\n",
       "F      10.964912\n",
       "unk     8.494152\n",
       "Name: Sex, dtype: float64"
      ]
     },
     "execution_count": 34,
     "metadata": {},
     "output_type": "execute_result"
    }
   ],
   "source": [
    "shark_attacks['Sex'].value_counts(True) * 100"
   ]
  },
  {
   "cell_type": "markdown",
   "id": "104582de",
   "metadata": {},
   "source": [
    "## ACTIVITY"
   ]
  },
  {
   "cell_type": "code",
   "execution_count": 35,
   "id": "7ec1bff7",
   "metadata": {
    "ExecuteTime": {
     "end_time": "2023-04-04T20:03:02.689900Z",
     "start_time": "2023-04-04T20:03:02.675982Z"
    }
   },
   "outputs": [
    {
     "data": {
      "text/plain": [
       "0       Kite-Surfing\n",
       "1             Wading\n",
       "2           Swimming\n",
       "3           Swimming\n",
       "4         Surf-sking\n",
       "            ...     \n",
       "6835          Diving\n",
       "6836    Pearl diving\n",
       "6837        Swimming\n",
       "6838             NaN\n",
       "6839        Swimming\n",
       "Name: Activity, Length: 6840, dtype: object"
      ]
     },
     "execution_count": 35,
     "metadata": {},
     "output_type": "execute_result"
    }
   ],
   "source": [
    "#check Activity column\n",
    "shark_attacks['Activity']"
   ]
  },
  {
   "cell_type": "code",
   "execution_count": 36,
   "id": "f92ba80a",
   "metadata": {
    "ExecuteTime": {
     "end_time": "2023-04-04T20:03:02.704934Z",
     "start_time": "2023-04-04T20:03:02.691801Z"
    }
   },
   "outputs": [],
   "source": [
    "#convert all the letters in the column Activity to lower\n",
    "shark_attacks['Activity'] = shark_attacks['Activity'].str.lower()"
   ]
  },
  {
   "cell_type": "code",
   "execution_count": 37,
   "id": "61a079df",
   "metadata": {
    "ExecuteTime": {
     "end_time": "2023-04-04T20:03:02.720353Z",
     "start_time": "2023-04-04T20:03:02.711187Z"
    }
   },
   "outputs": [],
   "source": [
    "#remove spaces\n",
    "#shark_attacks['Activity'] = shark_attacks['Activity'].str.replace(' ', '')"
   ]
  },
  {
   "cell_type": "code",
   "execution_count": 38,
   "id": "5975a50b",
   "metadata": {
    "ExecuteTime": {
     "end_time": "2023-04-04T20:03:02.765641Z",
     "start_time": "2023-04-04T20:03:02.728315Z"
    }
   },
   "outputs": [
    {
     "data": {
      "text/plain": [
       "True"
      ]
     },
     "execution_count": 38,
     "metadata": {},
     "output_type": "execute_result"
    }
   ],
   "source": [
    "#check if there are numeric elements in Activity column\n",
    "num_act = shark_attacks['Activity'].str.contains('\\d').any()\n",
    "num_act"
   ]
  },
  {
   "cell_type": "code",
   "execution_count": 39,
   "id": "b0dd83d5",
   "metadata": {
    "ExecuteTime": {
     "end_time": "2023-04-04T20:03:02.811102Z",
     "start_time": "2023-04-04T20:03:02.769334Z"
    }
   },
   "outputs": [
    {
     "data": {
      "text/plain": [
       "False"
      ]
     },
     "execution_count": 39,
     "metadata": {},
     "output_type": "execute_result"
    }
   ],
   "source": [
    "#check if there are numeric elements different than NaN in Activity column\n",
    "not_nan_sex = pd.to_numeric(shark_attacks['Activity'], errors = 'coerce').notnull().any()\n",
    "not_nan_sex"
   ]
  },
  {
   "cell_type": "code",
   "execution_count": 40,
   "id": "f60e01a9",
   "metadata": {
    "ExecuteTime": {
     "end_time": "2023-04-04T20:03:02.826770Z",
     "start_time": "2023-04-04T20:03:02.814097Z"
    }
   },
   "outputs": [
    {
     "data": {
      "text/plain": [
       "583"
      ]
     },
     "execution_count": 40,
     "metadata": {},
     "output_type": "execute_result"
    }
   ],
   "source": [
    "#check how many NaN in column Activity\n",
    "nan_sum_act = shark_attacks['Activity'].isna().sum()\n",
    "nan_sum_act"
   ]
  },
  {
   "cell_type": "code",
   "execution_count": 41,
   "id": "35b64856",
   "metadata": {
    "ExecuteTime": {
     "end_time": "2023-04-04T20:03:02.858243Z",
     "start_time": "2023-04-04T20:03:02.831270Z"
    }
   },
   "outputs": [
    {
     "data": {
      "text/plain": [
       "0"
      ]
     },
     "execution_count": 41,
     "metadata": {},
     "output_type": "execute_result"
    }
   ],
   "source": [
    "#replace NaN in Activity column to the acronym 'unk'\n",
    "shark_attacks['Activity'].fillna('unk', inplace = True)\n",
    "\n",
    "#check if there is still any NaN element in Sex column\n",
    "nan_act = shark_attacks['Activity'].isna().sum()\n",
    "nan_act"
   ]
  },
  {
   "cell_type": "code",
   "execution_count": 42,
   "id": "f4bef79d",
   "metadata": {
    "ExecuteTime": {
     "end_time": "2023-04-04T20:03:02.905075Z",
     "start_time": "2023-04-04T20:03:02.861235Z"
    }
   },
   "outputs": [
    {
     "data": {
      "text/plain": [
       "583"
      ]
     },
     "execution_count": 42,
     "metadata": {},
     "output_type": "execute_result"
    }
   ],
   "source": [
    "#check how many times the elemnt 'unk' appears in Activity column\n",
    "count_unk_act = shark_attacks['Activity'].value_counts()['unk']\n",
    "count_unk_act"
   ]
  },
  {
   "cell_type": "code",
   "execution_count": 43,
   "id": "9d6984c2",
   "metadata": {
    "ExecuteTime": {
     "end_time": "2023-04-04T20:03:02.935781Z",
     "start_time": "2023-04-04T20:03:02.909270Z"
    }
   },
   "outputs": [
    {
     "name": "stdout",
     "output_type": "stream",
     "text": [
      "[' ', '   ', ' a canoe was pursuing a schooner that had forcibily abducted 5 young girls', ' diving for abalone (hookah)', '\"boat accident\"', '\"climbing up to ship after repairing the stern in water\"', '\"crossing the river\"', '\"flying tiger\" transport plane went down with 5 men onboard', '\"riding waves on a board\"', '\"swimming vigorously\"', '.', \"12 of the penang's crew were returning to the ship when their 12' dinghy capsized\", '13 men in the water after sailboat capsized & sank', '14 m prawn trawler new venture capsized  & sank in heavy seas three people in the water', '1446-ton norwegian barque errol, bound from peru to newcastle with 22 on board wrecked. survivors shelterd on the wreck of the annasona. subsequently the master, his wife & 4 children perished along with several crew. survivors (5) were rescued 7/12/1909', \"16' catamaran capsized previous night, occupants stayed with wreckage until morning, then attempted to swim ashore\", '17 maldivians adrift in open boat for 31 days', '2 boats capsized', '2 messboys (jeppsen) & tony latona (13) were playing on the afterdeck of the danish ship grete maersk. jeppsen fell overboard, latona threw a lifebelt then jumped in to help him. ship didn’t notice they were missing', '25-foot cabin cruiser happy jack sank in heavy seas', '3 men & 2 boys picked up wearing life jackets and with inner tube', '3,909-ton panamanian freighter chieh lee sank in a typhoon', '3-masted steel barque glenbank foundered during a cyclone', '3.3 m fishing boat sank. treveluwe & peter hodgson (wearing lifejackets) were drifting in the current', '4 men were bathing', \"40' fishing boat sank\", '43-ton schooner irene capsized & sank', \"63' fishing boat sno' bay foundered\", '90 european civilians, many women & children, were placed on the deck of a japanese submarine that submerged when it was well offshore', 'a 210-ton brig was sunk by a japanese submarine. some of the survivors were machine-gunned & some were taken by sharks', 'a 75-ton  japanese fishing ship was sunk by  chinese nationalist gunboat, shipwrecked men were clinging to debris', 'a barque wrecked', \"a corsair's boat was overturned\", 'a dhow capsized', 'a father bathing his smallest daughter when the shark bumped her out of his arms and carried her into deep water', 'a group of survivors on a raft for 17-days', 'a junk foundered', 'abalone diving', 'abalone diving using hookah (near calving whales)', 'abalone diving using hookah (resting on the surface)', 'abandoning burning ship captain george in raging seas', 'abandoning burning steamship don juan', 'accidentally dragged overboard from the sampan holokahana into school of yellowfin tuna', \"accidentally stood on hooked shark's tail before attempting to gut it \", 'accidentally thrown overboard & treading water while awaiting rescue', 'adrift after ditching plane in the sea', 'adrift after the sinking of the motor yacht princess dianne', 'adrift after wave swamped engine', 'adrift in a life jacket', \"adrift on a 4'  raft for 32 days\", 'adrift on a raft ', 'adrift on life raft', 'adrift on raft', 'adrift on raft after their ship was sunk by an axis raider ', 'adrift on refugee raft', \"adrift, hanging onto cushion, after his 17' skiff ran out of gas & capsized 3 miles from shore\", 'after rowing skiff was holed by shark, he was attempting to swim ashore', 'air disaster', 'air disaster - piper aircraft crashed into the sea, killing all on board', 'air disaster. flash airlines boeing 737 crashed into the red sea', 'air disaster: crash of air france super constellation ', 'air/sea disaster', 'air/sea disaster involving c-54 air force transport no. 2686 with 37 on board', 'air/sea disaster pan-american airlines stratocruiser with 44 people onboard crashed into the sea', 'aircaft exploded', 'aircraft crashed into sea', 'aircraft ditched in the sea, swimming ashore', 'aircraft exploded', 'american cruiser indianapolis torpedoed & sunk by the japanese submarine i-58', 'american freighter mormackite, bound from buenos aires for baltimore, capsized & sank in heavy seas', 'american minesweeper uss yms-350 lost in a typhoon - swimming to shore', 'american minesweeper uss yms-472 foundered in a typhoon - swimming to shore', 'american schooner orator capsized  ', 'among 31 survivors of crew from the sampan fukulya maru (which reached thursday island in rowing boat) was a man whose arm had been bitten off by shark. the sampan wrecked west of mcarthur island ', 'angling', 'anti-aircraft cruiser uss atlanta (cl,-05) travelling in convoy after the battle of midway, encountered a japanese flotilla  (battle of guadalcanal) &, heavily damaged by gunfire, she was lost off lunga point. victim was swimming when bitten.', 'anti-sabotage night dive exercise alongside destroyer (scuba diving)', 'argentine air force c-54', 'arsinoe, a french tanker', 'ascending from a dive', 'attaching a line at sea', 'attacked shark with fists', 'attempted to return injured shark to the sea', 'attempting to anesthetize shark', 'attempting to attract dolphins', 'attempting to catch a crocodile', 'attempting to chase shark out to sea', 'attempting to drag hooked shark ashore by its tail', 'attempting to drive shark away from sailing regatta', 'attempting to drive shark away from the beach', 'attempting to drive shark from area', 'attempting to escape by swimming to shore', 'attempting to fix motor', 'attempting to free the shark', 'attempting to illegally enter the usa', 'attempting to kill a shark with explosives', 'attempting to kite surf from egypt to saudi arabia', 'attempting to land a boat from the hinemoa', 'attempting to lasso a shark', \"attempting to lasso shark's tail\", 'attempting to net shark in shark channel', 'attempting to remove fishing net from submerged object', 'attempting to rescue a shark', 'attempting to rescue an injured & beached shark', 'attempting to rescue crew after whale upset their boat', 'attempting to rescue drowning man', 'attempting to rescue shipmate', 'attempting to rescue woman seized by shark', 'attempting to retreive a dinghy', 'attempting to ride a shark', 'attempting to set underwater endurance record', 'attempting to swim across the atlantic ocean', 'b-24 aircraft crashed  into the sea', 'b-24 crashed during a search mission. survivors in raft for 47 days ', 'baiting sharks', 'bather', 'bathing', 'bathing ', 'bathing / standing', 'bathing alongside ship', 'bathing alongside the american ship thomas w. sears', 'bathing alongside us naval ship', 'bathing close inshore', 'bathing in 2 feet of water', \"bathing in 3' to 4' of water\", \"bathing in 5' of water\", 'bathing in knee-deep water', 'bathing in river', 'bathing in waist-deep water', 'bathing in water 0.9 m deep', 'bathing near whaling ship (bark a. r. tucker of new bedford, massachusetts)', 'bathing or body surfing ', 'bathing or washing', 'bathing with her mother', 'bathing with sister', 'bathing/swimming', 'batin', 'beach seine netting', 'being pulled to shore from wreck of 25-ton fishing vessel alan s', 'bending over', 'bitten after dhow shipwrecked', 'bitten while cutting shark from net', 'board sailing', 'boarding a ship', 'boat', 'boat capsized', \"boat capsized between o'ahu & molokai\", 'boat capsized during filming', 'boat capsized, clinging to line', 'boat capsized, swimming ashore', 'boat capsized, swimming to shore', 'boat capsized?', 'boat exploded', 'boat from city of naples capsized', 'boat from ship josephine capsized in squall', 'boat from the austrian ship elizabeth', 'boat miss becky  sank 12 miles from shore', 'boat of a hawaiian brig was stove in by  whale', 'boat of the resolution capsized in the breakers', 'boat stopped to repair electric pump', 'boat swamped', 'boat with 46 people on board capsized', 'boat with 5 men capsized while returning to the amerique', 'boat, with 42 passengers onboard, capsized in rough seas', 'boating', 'body boarding', 'body boarding ', 'body boarding or surfing', 'body found floating next to his ship', 'body found on deserted luxury yacht, 38’ christine', 'body surfing', 'body surfing ', 'body surfing & treading water', 'body surfing / treading water', 'body surfing or body boarding', 'body surfing or boogie boarding', 'body surfing, stood up on sandbar', 'body surfing?', 'body-boarding', 'body-surfing', 'bodyboarding', 'bodysurfing', 'boeing 757 enroute from porta plata plunged into the sea', 'boggie boarding', 'boogie boarding', 'boogie boarding / wading', 'boogie boarding or surfing', 'boogie boarding, kicked at object in the water', 'boogie-boarding / swimming', 'bottom fishing for lingcod & had hooked a fish', 'bringing hooked, harpooned shark onboard boat', 'british cruiser dunedin torpedoed & sunk by the u-124', 'british patrol boat 1250-ton hms  valerian foundered in a hurricane', 'british ship macedon was thrown on her beam ends by a sudden squall', 'british ship, britannia,  was loading lumber. he was bathing', 'burning of the s.s. missouri', 'c47 aircraft carrying 5,000 lbs of ice ditched in the sea', 'cage diving', 'canoe capsized by shark', 'canoe capsized with 10 occupants, 8 survived,  hamilton swam off to seek help', 'canoe swamped', 'canoe swamped, swimming back to canoe', 'canoe with 3 men onboard sank', 'canoeing', 'capsized fishing boat', \"captured allied soldiers were squeezed into 3' bamboo pig baskets & fed to waiting sharks\", 'cargo ship dara sank after collision with another ship during a severe storm', 'cargo ship el gamil entroute suez to yemen (aden) when her cargo shifted and she sank. 19 egyption sailors jumped into the water and swam for several hours before being bitten by sharks', 'cargo ship southern isle sank at 04h00', 'carrying a supposedly dead shark by its mouth', 'casting a net', 'catching a turtle', 'catching crabs', 'catching sardines', 'catching sharks under government contract', 'chasing shark out of bathing area while riding on a surf-ski', 'checking fish traps, fell into the water', 'chumming for sharks', 'chumming for white sharks', 'clamming', 'cleaning a tank', 'cleaning fish', 'cleaning hull of ship ', 'cleaning the side of a ship', 'climbing back on ship', 'clinging to overturned rowing boat', 'clinging to shipwrecked junk', 'closed circuit diving (submerged). diving to recover jettisoned packets of opium for police', 'collecting aquarium specimens', 'collecting beche-de-mer', 'collecting crayfish', 'collecting dynamited fish', 'collecting fish ', 'collecting fish by lamplight in gully', 'collecting fish from net', 'collecting fish in military trap when bitten by captured shark that had been shot by soldiers with garten', 'collecting marine specimens', 'collecting ornamental fish', 'collecting shells', 'colombian  (avianca) dc-4 airliner plunged into the sea 5 minutes after takeoff', 'columbian petrol barge rio atrato burned and sank', 'coming ashore on a hawser', 'commercial diver (submerged or treading water)', 'commercial fishing vessel, ev-nn, struck object & sank. ken crosby and  jame & ann dumas adrift on makeshift raft.', 'commercial salvage diving', 'commercial spearfishing', 'competing in a light tackle game fishing', 'competing in spearfishing championship & towing dead fish', 'competing in the woodvale atlantic rowing race', \"competing in u/w endurance record, standing beside drum in 10' of water\", 'conch diver', 'conducting a promotional film project for the gemini space program (a practice astronaut recovery)', 'conducting research', 'copra vessel with 19 on board was wrecked in a squall', 'crabbing', 'crabbing (spearing crabs)', 'crawling', 'crayfishing', 'crew swimming alongside their anchored ship', 'crossing inlet in a boat, seen fighting sharks with his oar, sharks smashed boat', 'crossing river on a raft', 'crossing the bay at the ford', 'crossing the river mouth', \"crouching in 2' of water\", 'crouching in the water', 'cruising', 'cutter capsized', 'dangling feet in the water', \"days before the surrender of singapore, the 3 men escaped to sumatra where they acquired a 17' dinghy. after 125 days at sea they drifted back to sumatra\", 'defecating in water beneath the docks', 'deserting the bark nazarene', 'disappeared 11 days earlier, probable homicide victim', 'dismantling cable buoys of the cable ship all america', 'ditched aircraft, 3 men in the water. swam for 31 hours', 'ditched plane in the sea & were adrift on a rubber life raft. ', 'dived for a coin', 'dived from dinghy to retrieve oar in heavy seas', 'dived from inner-tube', 'dived into a school of baitfish', 'dived into sea from launch & bitten immediately', 'dived into the water', 'dived naked into the water on a bet', 'dived onto shark from floating stage', 'dived overboard & was swimming near stern of trawler', 'dived overboard to check propeller of us navy motor torpedo boat', 'dived overboard to retrieve dinghy', 'diving', 'diving ', 'diving & fishing with net', 'diving & force-feeding the shark', 'diving (helmet) for sponges', 'diving (hookah)', 'diving (shell maintenance)', 'diving / filming', 'diving / fishing', 'diving / kissing the shark', 'diving / uw photography', 'diving alongsidethe steamship ranelagh ', 'diving around anchored liner', 'diving by wharf', 'diving for abalone', 'diving for abalone ', 'diving for abalone (hookah)', 'diving for abalone (hookah, submerged)', 'diving for abalone (scuba)', 'diving for abaone (scuba, but at surface)', 'diving for beche-de-mer', 'diving for beche-de-mer ', 'diving for beche-de-mer from lugger', 'diving for coins', 'diving for coins thrown from ship s.s. moeraki', 'diving for coins tossed from passenger ship', 'diving for crayfish', 'diving for lobsters', 'diving for pearl', 'diving for pearl shell', 'diving for pearls', 'diving for pen shells', 'diving for sand dollars', 'diving for sea urchins', 'diving for shells, saw shark circling wife near the surface, intercepted shark & it pulled him beneath the water', 'diving for sinkers', 'diving for sponges', 'diving for trepang', 'diving for trochus', \"diving for trochus  from dinghy when seized by shark 6' below the surface\", 'diving for trochus , but swimming on surface', 'diving for trochus from lugger', 'diving for trochus shell', 'diving from canoe', 'diving from dinghy for trochus shell', 'diving from lugger', 'diving from the lugger san, operated by the protector of the aborigines', 'diving in aquarium display tank', 'diving in shark tank', \"diving in sharkey's reef restaurant’s aquarium\", 'diving in tuna net', 'diving into water', 'diving off jetty', 'diving off pier & treading water', 'diving off wharf', 'diving on a wreck', \"diving to untangle a crab trap line from boat's propeller\", 'diving with  surface-supplied air', 'diving, attempting to retrieve body of drowning victim wedged between rocks', 'diving, but on the surface when bitten by the shark', 'diving, feeding sharks', 'diving, gathering shellfish', 'diving, photographing sharks', 'diving, recovering fish killed by dynamite', \"diving, repairing water main at depth of 90'\", 'diving, retrieving film package from titan 3c rocket', 'diving, retrieving fish caught in net ', 'diving. shark “swallowed’ his hand, so he threw his other around the shark and went “shark-back riding” for 30 yards until the shark opened its jaws', 'diving/shark feeding', 'diving?', 'dog paddling or standing', 'dragging a shark', 'dragging banana seeds through the shallows', 'dragging stranded shark ashore', 'dragging stranded shark into deeper water', 'dress diving', 'dress diving, filming shark & pulling it through the water for a motion picture scene', 'drift fishing', 'dropped overboard', 'dropping anchor', 'dry shelling', 'during \"an exhibition\" he was tied in sack & thrown overboard ', \"during a shark fishing tournament, the 18' boatem was capsized by waves, throwing 3 men into the water \", 'dutch merchant ship zaandam torpedoed  by the u-174 amidships, sank & dozens of survivors took to rafts & boats. one man, izzi, who drifted 83 days on a raft related that sharks attacked many men in the water when the ship went down', 'dynamite fishing', 'dynamiting fish', 'ejected from f3h-2 aircraft ', 'escaping from alacatraz', 'escaping from blackbirding vessel', 'esso bolivar was torpedoed & shelled by the german submarine u-126', 'examining netted shark, that had been shot', 'exercising his dog in the shallows', 'explosion & sinking of the uss juneau after being torpedoed by the submarine  i-85', \"explosion destroyed 28' boat, survivors in the water \", 'feeding a shark', 'feeding fish', 'feeding mullet to sharks', 'feeding prawns to captive sharks', 'feeding sharks', 'feeding sharks & stingrays', 'feeding stingrays?', 'feeling the shark’s teeth', 'fell from cliff while fishing & disappeared in strong current', \"fell from his father's back into the water\", 'fell from the jetty', 'fell from wharf into water & attacked immediately', 'fell from yardarm of british ship rover', 'fell into the water', 'fell into water while attempting to boat a swordfish', 'fell off aircraft carrier', 'fell off banana boat', 'fell off fishing boat', 'fell off surf ski', \"fell off surfboard 20' from shore\", 'fell onto dead shark', 'fell or jumped overboard from the liner rhynland', 'fell oveboard', 'fell oveboard from steamer wanderer', 'fell overboard', 'fell overboard ', 'fell overboard  from the taiwanese fishing trawler lien cheng feu ', 'fell overboard & rescuer', 'fell overboard & swimming', 'fell overboard from a frigate & was swallowed by a shark. the captain fired a gun at the shark, and \"the creature cast the man out of his throat.\"', 'fell overboard from fishing schooner halycon', 'fell overboard from p&o steamship arabia', 'fell overboard from sponge vessel', 'fell overboard from ss ripley castle', 'fell overboard from steamship rio grande', 'fell overboard from the malacca', 'fell overboard from the selim', 'fell overboard from the ship gem', 'fell overboard from the sobella', 'fell overboard from the steamship chala', 'fell overboard from us navy pc boat', 'fell overboard from uss cruiser tacoma', 'fell overboard from uss ward', 'fell overboard while fishing for sharks', 'fell overboard, hanging onto lifebuoy', 'fell overboard, prop slashed arm', 'fell overboard?', 'ferry boat dona paz with 4431 passengers exploded & caught fire when she collided with an  oil tanker ', 'ferry boat sank', 'ferry capsized', 'fihing', 'filming', 'filming & feeding captive sharks', \"filming 5' blue shark\", 'filming a documentary', 'filming underwater, carrying powerhead', 'finning the shark', 'finning the shark that bit him', 'fisherman', 'fishing', 'fishing ', 'fishing  (trawling)', 'fishing & spearfishing', 'fishing (big game)', 'fishing (drowned 2-apr-2002)', 'fishing (illegally)', 'fishing (rod & line)', 'fishing (seining)', 'fishing (trolling)', 'fishing (trolling)  from canoe', \"fishing - 'tag & release'\", 'fishing / cleaning fish, dived into water to retrieve a lost fish', 'fishing / diving', 'fishing / filming sharks feeding on whale carcass', 'fishing / standing in waist deep water', 'fishing / wading', 'fishing / washing bait off hands', 'fishing boat', 'fishing boat capsized ', 'fishing boat exploded & sank', 'fishing boat swamped in a storm', 'fishing boat swamped in storm', 'fishing boat with 4 men on board was rammed & capsized by  a shark, throwing all occupants into the water', 'fishing for albacore', 'fishing for basking sharks', 'fishing for blue sharks', 'fishing for bluefish', 'fishing for bluefish, shark leapt into dory', 'fishing for bottom fish', 'fishing for cod', 'fishing for kob', 'fishing for lobsters', 'fishing for mackerel', 'fishing for octopus', 'fishing for perch', 'fishing for pompano', 'fishing for prawns', 'fishing for red fish', 'fishing for rock lobster', 'fishing for rock lobsters', 'fishing for sharks', 'fishing for sharks when he became entangled in net & fell overboard', 'fishing for shrimp', 'fishing for snapper', 'fishing for snappers & cleaning mullet. put mullet over side of boat to wash it', 'fishing for snoek & yellowtail', 'fishing for squid', 'fishing for squid aboard the trawler shikishima-maru when the shark leapt into the boat', 'fishing for tarpon', 'fishing for the shark that killed george lundberg', 'fishing for trout ', 'fishing for tuna', 'fishing for tunny', 'fishing for turtles', 'fishing for white shark', 'fishing for white sharks', 'fishing for whiting', 'fishing for yellowtail', 'fishing for yellowtail, seriola quinqueradiata', \"fishing from 32' boat\", \"fishing from 34' boat when pulled overboard by hooked shark\", 'fishing from a kayak', 'fishing from a small boat & put his hand in the water while holding a dead fish', 'fishing from boat, kaimamla', 'fishing from dinghy', 'fishing from dory, shark upset boat & he fell into the water', 'fishing from launch, fell into net with shark', 'fishing from market fishboat sea spray', 'fishing from paddleski', 'fishing from prawn trawler', 'fishing from rocks, swept out to sea by large wave & treading water', 'fishing from shore', 'fishing from shore, washed into the sea', 'fishing from surf ski', 'fishing from surfboard', 'fishing from surfski', 'fishing in ankle-deep water', 'fishing in knee-deep water', 'fishing in shoulder-deep water', 'fishing in waist-deep water', 'fishing inside net', 'fishing on a boat', 'fishing schooner jose luis foundered', 'fishing trawler flavio gioia ', 'fishing with a cast net', 'fishing with dynamite', 'fishing with dynamite, afterwards in water retrieving catch', 'fishing with hand line tied to wrist & was pulled into the water', \"fishing with hand net in 2' of water\", 'fishing,  tarpon being chased by shark  leapt across his skiff, breaking it in half & larkin became tangled in the net', 'fishing, attempted to take a netted shark', 'fishing, boat capsized', 'fishing, casting in the surf', 'fishing, catching snoek, thyrsites atun', \"fishing, caught a 15' shark & took it onboard\", 'fishing, fell from rocks & disappeared', 'fishing, fell in water', 'fishing, fell in water & swimming strongly to shore', 'fishing, had just speared a ulua', 'fishing, hauling in a 5-lb snapper', 'fishing, hauling in a set line', 'fishing, hauling in fishing gear', 'fishing, hauling in net, shark in net', 'fishing, holding fish', 'fishing, holding fish in his left hand', 'fishing, holding fish in right hand', 'fishing, hooked shark towed boat out to sea, storm swamped boat', 'fishing, lifting shark out of craypot', 'fishing, on a boat', 'fishing, on charter boat silver dollar', 'fishing, one of three fishermen swept into the sea by a large wave ', 'fishing, probably with a net', \"fishing, removing gaff from shark's mouth\", 'fishing, removing the shark from his line', 'fishing, setting nets', 'fishing, shark caught in his net', 'fishing, sitting in stern of small boat, feet dangling in the water', 'fishing, slipped on rocks & fell into sea', 'fishing, speared shark upset canoe & man fell in water', \"fishing, standing in 2' of water\", 'fishing, standing in waist-deep water', 'fishing, standing in water next to purse net', 'fishing, standing in water washing fish', \"fishing, stepped on hooked shark's head\", 'fishing, struck by another shark when removing shark from line', 'fishing, thrown into water by heavy sea, clinging to rocks at the water line', 'fishing, tossing netted shark onboard', 'fishing, trying to catch the end of his fishing line', 'fishing, two large sharks passed. he speared one and it bit him', 'fishing, wading with string of fish', 'fishing, walking in river to cast', 'fishing, when line became snagged on rock & he dived into water to free it ', 'fishing?', 'fishingat', 'five men on makeshift raft after their 10 m fishing boat  capsized and sank in rough seas. survivors rescued after  7.5 hours in the water', 'fleeing across a river', 'fleet of canoes caught by a squall and charged by sharks.', 'floating', 'floating ', 'floating face down', 'floating face-down in knee-deep water', 'floating in creek', 'floating in inflatable pool ring', 'floating in inner tube', 'floating in tube', 'floating near boat & observing bioluminesce', 'floating on a raft', 'floating on a small orange raft ', 'floating on air mattress', 'floating on an inflatable raft', 'floating on back', 'floating on his back', 'floating on his back in an inner tube', 'floating on inner tube after diving for lobster', 'floating on inner tube raft', 'floating on raft', 'floating or standing', 'floating with life buoy after pilot launch capsized', 'floating with life preserver after his boat foundered', 'floating, after falling or jumping off the standard oil tanker frederick w. weller', 'floating, holding onto an oar after dory capsized', 'fly fishing', 'flying fortress bomber aircraft went down after daytime raid on naples. he was swimming on the surface', 'foil-boarding', 'foilboarding', 'foundering of the israeli freighter mezada', 'free diving', 'free diving ', 'free diving  & spearfishing (submerged)', 'free diving & spearfishing', 'free diving & spearfishing ', 'free diving & spearfishing (ascending)', 'free diving & spearfishing (descending)', 'free diving (but on surface)', 'free diving , but surfacing', 'free diving / modeling', 'free diving / photographing pilot whales', 'free diving / photography, kneeling on sand', 'free diving / spearfishing', 'free diving / spearfishing (resting on the surface)', 'free diving / spearfishing, ', 'free diving / spearfishing, from paddleboard & floating on the surface', 'free diving / spearfishingat edge of reef', 'free diving but treading water at surface', 'free diving for abalone', 'free diving for abalone (ascending)', 'free diving for abalone (submerged)', 'free diving for abalone (surfacing)', 'free diving for abalone but at surface', 'free diving for abalone diving but at surface)', 'free diving for abalone from zodiac (submerged)', 'free diving for crayfish', 'free diving for lobster', 'free diving for molluscs', 'free diving for scallops', 'free diving for shell', 'free diving for sinkers', 'free diving for sponges', 'free diving for trochus', 'free diving for trochus ', 'free diving for trochus shell, swimming to dinghy', 'free diving or wading back to shore', 'free diving spearfishing', 'free diving with a pod of dolphins', 'free diving with goggles', 'free diving with seals', 'free diving, carrying speargun', 'free diving, collecting sand dollars', 'free diving, collecting shells', 'free diving, hunting crayfish', 'free diving, spearfishing', 'free diving, surveying a pipeline & examing cathodes under jetty', 'free diving, working on u/w scenes for motion picture', 'free-diving', 'freediving', 'freediving for seashells', 'freediving for trochus shell (submerged)', 'freediving, inspecting kaunakakai wharf construction after blasting & dredging ', 'freedom swimming', 'gaffing & attempting to bring onboard a harpooned shark', 'gaffing netted shark', 'gathering fish stunned by dynamite', 'gathering shells', 'german raider kormoran was sunk in an engagement with hmas sydney', 'gigging for flounder', 'gloucester fishing schooner run down', 'goggle-diving for seaweeds, but standing in water', 'grabbed shark & threw it on deck', 'grabbing shark for a selfie', 'greek steamship lakonia caught fire, 98 of her 646 passengers, and 30 of her crew of 376 perished', 'h.m.s. cornwall & h.m.s.dorsetshire sunk by japanese dive bombers. officers & men in the water formed a circle with 60 of their dead in the center for 36 hours', 'had just dived into water & was swimming', 'hand feeding sharks', 'hand lining for shad', 'harassing a shark', 'harassing sharks', 'hard hat diving', 'hard hat diving, laying some charge of powder', 'hardhat diving', 'hardhat diving ', 'hardhat diving from japanese pearling lugger, reiyo maru', 'harpooned shark', 'harpooning turtles', 'hauling dead shark aboard, when another shark leapt out of the water & bit him', 'hauling in net', 'hauling in net with shark in it', 'hbm magpie foundered in a squall', 'he drowned when boat capsized', 'he was fighting a shark when his boat capsized & he disappeared', 'helmet diving', 'helmet diving in miami seaquarium', 'helmet diving, collecting trochus shell', 'helping angler land a shark', 'helping friend land hooked shark', 'helping men land a shark', 'hiking on the beach', 'hilo', 'his balloon crashed in the harbor', 'his ship, the us destroyer duncan dd 485, had been  sunk by crossfire from japanese warships. he was wearing a kapok lifejacket & using 2 aluminum powder tins for floatation  ', 'hmas parramatta torpedoed & sunk by the u-559', 'hms victoria collided with the hms camperdown', 'hoisting shark aboard fishing boat', 'holding onto an inflatable boat', 'holding shark on leader & dangling it above the water', \"holding shark's tail \", 'hookah diving', 'hookah diving (submerged)', 'hookah diving for abalone (descending)', 'hookah diving for pen shells ', 'hookah diving for sea urchins', 'hooking into a whale', 'hospital ship centaur torpedoed & sunk by the japanese submarine i-177', 'human head found in shark caught by british steamer syria', 'hunting crayfish', 'hunting crayfish ', 'hunting lobsters in 2.4 m of water', 'hunting seals', 'hunting seashells', 'hunting sharks', 'hunting turtle', 'hurricane & tidal wave', 'in boat being towed by ship, karnak', 'in deep water about 100 yards from his ship', 'in rubber dinghy with captain eddie rickenbacker for 21 days. ', 'in waist-deep water', 'in water with diving seabirds', 'inebriated, woke from sleep and fell off deck into the water ', 'inflatable boat', 'inspecting teeth of supposedly dead (hooked & shot) shark', 'investigating shark sighting', 'italian liner principessa mafalda sank', \"jackass team's publicity stunt for discovery channel's shark week 2021\", 'japanese aircraft shot down. he was one of two survivors rescued by the u.s. destroyer mugford', 'japanese freighter bokuyo maru burned & sank', 'japanese pow ship arisan maru with 1800 american prisoners of war on board bound for slave labor camps was torpedoed by an american submarine', 'jerked overboard while pole fishing for tuna', 'jet skiing', 'jumped into river', 'jumped into the water', 'jumped into the water from a cliff', 'jumped into water', 'jumped off rocks into white water', 'jumped off surfboard & landed on the shark', 'jumped or fell overboard', 'jumped out of canoe', 'jumped overboard', 'jumped overboard ', 'jumped overboard after murdering 2 shipmates', 'jumped overboard and swimming', 'jumped overboard from norwegian steamship venator', 'jumped overboard from torpedoed panamanian freighter', 'jumped overboard to rescue a man', 'jumped overboard to rescue companion', 'jumped overboard while intoxicated', 'jumping', 'jumping in swells', 'jumping in the waves', 'kakaying', 'kayak fishing', 'kayaking', 'kayaking ', 'kayaking (returning from spearfishing)', 'kayaking / fishing', 'kayaking fishing', 'kayaking or wave skiing', 'killing  sharks', 'killing a shark', 'kite boarding', 'kite foiling', 'kite surfing', 'kite-boarding', 'kite-surfing', 'kiteboarding', 'kitesurfing', 'kneeling in the water', 'knocked into the water', 'knocked overboard', 'known as the battle of the bismarck sea :  8 japanese destroyers guarding a convoy of 8 transports were attacked by 129 allied fighters, 207 bombers & 3 squadrons of the royal australian air force. ', 'landing hooked shark in boat', 'lashing logs together when he fell into the water', 'launching a boat', 'launching rowboat through the surf', 'leaving the water', 'leicester abandoned in a hurricane', 'lifeboat capsized', 'lifeguard exercises', 'lifeguard training exercise', 'lifesaving drill', 'lifesaving exhibition', 'light aircraft ditched at sea', 'line fishing from lakotoi, saw shoal of fish, dived overboard, had speared second fish & surfaced for air', 'lobster diving using scuba', 'lobster fishing', 'lobstering', 'longline fishing', 'longline fishing for sharks', 'longling fishing', 'loss of the schooner nomad', 'lost his footing & fell overboard', 'lying atop surfboard', 'lying in 2 feet of water', 'lying on surfboard', 'lying on surfboard & paddling', \"lying on the bottom of a 16' dinghy\", \"lying prone in 2' of water\", 'lying prone on surfboard', 'm.v. tropical sank. sole survivor rode oil drums for 8 days without food or water.', 'male', 'man fell overboard from ship. those on board threw a rope to him with a wooden block & were pulling him to the ship', 'marathon swimming', 'measuring sharks', 'motor boat rebel belle lost', 'motor launch baby princesa capsized with 22 people on board', 'moving a shark in a net ', 'moving captive shark', 'moving shark from tuna vessel when boat rolled, placing both man & shark in chest-deep water', 'murder', 'murder victim', 'murdered', 'murdered by thai pirates', 'national airlines dc7b enroute from miami to los angeles with 42 or 46 people on board went down in heavy fog', 'native boats sunk in storm', 'net fishing', 'net fishing, fell into the water', 'net fishing, picking catch from the net', 'net-fishing', 'netting menhaden, sharks caught in net', 'netting pilchards', 'netting sharks', 'netting shrimp', 'night bathing', 'night diving', 'night surfing', 'no details', 'nsb meshing', 'observing a shark feeding on a carcass of a humpback whale', 'ocean racing', 'on 6-nov-1942, the german submarine u-68 sank the city of cairo 5 days from cape town, survivors took to lifeboats & rafts. on the 15th day, a fireman jumped over the stern & was taken by sharks', 'on a \"shark hunt\"', 'on a float', \"on board 51' fishing vessel one ki\", 'on boat, preparing to dive', 'on december 28, 1908, an earthquake, followed by tsunamis, destroyed coastal towns in silcily and southern italy, killing more than 100,000 people', 'on expedition filming a feature movie & standing on tripod', 'on fishing boat & trailing hand in the water', 'on inflatable raft', 'on life raft tethered to lifeboat. a seaman put hand over side to rinse a cup', \"onboard 21' powerboat that capsized in rough seas\", \"overcome by co fumes, fell overboard from 36' fishing cruiser & prop slashed arm\", 'overturned skiff', 'oyster fishing', 'oystering', 'pacific seafarer of us navy', 'paddle boarding', 'paddle skiing', 'paddle-boarding', 'paddle-surfing', 'paddleboarding', 'paddleskiing', 'paddling', 'paddling & sailing from buenos aires to miami', 'paddling a canoe', 'paddling a surfboat', 'paddling an outrigger canoe', 'paddling in knee-deep water', 'paddling on kneeboard', 'paddling on surfboard', 'paddling on surfboard or body board', 'paddling outrigger canoe', 'paddling rescue ski', 'painting a ship', 'parachuted from balloon', 'parachuted into pacific', 'parasailing', 'pearl diving', 'pearl diving from lugger', 'pearl diving from lugger whyalla', 'pearl diving, but standing in the water', 'petting a shark', 'petting captive sharks', 'photo shoot', 'photographing fish', 'photographing sharks underwater using scuba', 'photographing the shark', 'picking opihi', 'picking up shark by the tail', 'placed hand in disemboweled shark’s jaws', 'plane crashed in water, men in life raft', 'plane forced down, 3 men on rubber life raft. put hand over side to feel drift of boat ', 'playing', 'playing ', 'playing / jumping', 'playing / standing', 'playing in knee-deep water', 'playing in surf with his child  (9)', 'playing in the surf', 'playing in the surf with his 2 dogs', 'playing in the water', 'playing on a sandbar', 'playing on rock, slipped & fell into the water', 'playing soccer in the water', 'playing volleyball with friends', 'playing with a frisbee in the shallows', 'playing with an air mattress', 'pleasure boating', 'portuguese airliner with 9 people aboard went down. ', 'preparing to fish for jack-mackerel', 'preparing to go skin diving', 'probabable drowning', 'pulling anchor', 'pulling hooked salmon to boat', 'pulling raft out to ride to shore', 'pulling shark from the water', \"pushed surfmat of a young girl out of the shark's path, drawing shark's attention to his own board\", 'put foot inside a landed & supposedly dead shark', 'put foot inside mouth of supposedly dead shark', 'putting hand in shark tank', 'pêcheur de bichiques', 'r5d aircraft went down with 29 on board', 'racing ski', 'ran into the water', 'reached out to disentangle rope & fell overboard', 'reaching for life preserver', 'refused permission to cross on the ferry, he was swimming across the river', 'removing fish from a trap', 'removing hook from shark', 'removing shark from a net', 'removing shark from a trap', 'removing shark from net', 'removing shark from net ', 'removing shark from tank in nightclub ', 'reported swept away by waves while gathering opihi', 'rescuing', 'rescuing seaman after ship sunk by german raider', 'resting on body board', 'resting on surfboard', 'restraining a beached shark', 'retrieving bait box that had fallen overboard', 'retrieving meat from a cage in the water', 'returning to shore, collided with shark', 'reviving a sedated shark', 'riding a horse', 'riding floatation device', 'riding horseback across the creek', 'rolled off raft', 'row boat (from the gunboat elcano) was sinking, put finger in hole', 'rowing', 'rowing ', 'rowing a dinghy', 'rowing an inflatable dinghy', 'rowing toward snapper grounds', 'royal hawaiian skymaster dc-6b aircraft went down with  58 passenger & crew', 's.s. marine sulphur queen, laden with molten sulphur was bound from beaumont, texas for norfolk, va, when she disappeared with 39 on board', 's.s. ramos foundered in a hurricane. captain & 14 crew in water-logged lifeboats. ', 's2f-1 airplane crashed immediately after carrier take-off', 's2n navy scout plane went down, e.h. almond & lieut a.g. reading in water', 'sailboarding, fell into water 100 yards outside the breakwater', 'sailing', 'sailing from gingood, misamis oriental to sagay (normally a 2-day voyage) capsized with 6 on board, three men were taken by sharks when they attempted to swim to shore.', 'sailing on catamaran & fell into the water', 'salvaging a shipwreck', 'scallop diving (using surface-supplied air & a pod) ', 'scallop diving on hookah', 'scalloping', 'schooner sank during a storm', \"scientific research (dr. sonny gruber's student)\", 'scooping prawns', 'scuba diving', 'scuba diving ', 'scuba diving & feeding fish', 'scuba diving & filming', 'scuba diving & spearfishing', 'scuba diving & spearfishing ', 'scuba diving & u/w photography', 'scuba diving (ascending using scooter)', 'scuba diving (but on surface)', 'scuba diving (submerged riding a scooter)', 'scuba diving (submerged)', 'scuba diving / culling lionfish', 'scuba diving at seal colony', 'scuba diving for abalone', 'scuba diving for bivalves', 'scuba diving for lobster (at surface)', 'scuba diving for lobsters', 'scuba diving for scallops', 'scuba diving in aquarium tank', 'scuba diving, attempting to catch a captive shark', 'scuba diving, but swimming on surface', 'scuba diving, hand feeding sharks', 'scuba diving, reportedly also spearfishing', 'sculling', 'scurfing (surfboard being  towed behind a boat)', 'sea disaster', 'sea disaster : wreck of the carrie e. long', 'sea disaster : wreck of the taiaroa', 'sea disaster sinking of ferryboat christina', 'sea disaster, canoes capsized in storm', 'sea disaster, foundering of the cargo vessle m/v dorolonda', 'sea disaster, sinking of the  ss vestris', 'sea disaster, sinking of the fishing  launch mavis', 'sea disaster, sinking of the motorship wingate', 'sea disaster, wreck of the  ss norwich city', 'sea disaster, wreck of the alfred watts', 'sea disaster, wreck of the sloop sara', 'seaplane columbus ditched in the sea', 'searching for remains of  dr. marais', 'seine netting', 'seining for bait, standing in chest-deep water', 'setting crayfish pots', 'shark diving', 'shark fishing', 'shark fishing on the don agustín-vi. ', 'shark fishing on the ricardo astorga', 'shark fishing, knocked overboard', 'shark hoisted on board liner tahiti', 'shark tagging', 'shark watching', 'she was on a ship that was torpedoes & was in the water awaiting rescue', 'shell diving', 'ship lay at anchor & man was working on its rudder', 'ship m.v. rizal sank during typhoon', 'ship mariston torpedoed & sunk', 'ship torpedoed 400 miles off the african coas. man was clinging to hatch cover', 'ship william penn grounded & broke apart', \"ship's boat capsized in squall, captain & 2 sailors clinging onto hull\", 'shipwreck', 'shipwrecked', 'shipwrecked pearling schooner', 'shipwrecked persian fleet', 'shipwrecked; adrift on raft for 2 days & 2 nights', 'shooting sharks ', 'shrimping', 'sight-seeing', 'sightseeing', \"sinking of the 40' esperanza off st. maartin with 36 refugees on board\", 'sinking of the cargo ship mark jason', 'sinking of the dredge world atlas', 'sinking of the ferryboat bongbong 1', 'sinking of the ferryboat don juan', 'sinking of the ferryboat dumaguete ', 'sinking of the m/v mindoro during a typhoon', 'sitting', \"sitting in 3' of water\", 'sitting in a boat', \"sitting in bow of her father's 5 m boat\", 'sitting in shallows', 'sitting in the water', 'sitting on gunwale of boat', 'sitting on side of dinghy mending a net', 'sitting on surfboard', 'sittting in water with his child', 'skimboarding', 'skin diving', 'skin diving ', 'skin diving for trepang but at surface next to the boat', \"skin diving. grabbed shark's tail; shark turned & grabbed diver's ankle & began towing him to deep water\", 'skindiving', 'skindiving for specimens', 'skindiving,', 'skindiving, fish at belt', 'slapped shark on tail as it swam by', 'sleeping in anchored boat', 'slipped off rocks and fell into the water', 'small boat', 'small boat swamped, 4  people swimming to shore but he fell behind the other 3 and vanished', 'small boat with 2 men onboard hit a submerged coral formation. men began swimming to shore', 'small vessel with 13 men on board capsized crossing the bar and 6 men drowned.  the 7 survivors were swimming to shore', 'snorkeling', 'snorkeling (filming the sardine run)', 'snorkeling on surface', 'snorkeling – hunting crayfish and abalone', 'snorkeling, carrying a speared fish in her hand', 'snorkeling, possibly holding a fish', 'spear fishing', 'spear fishing, removing fish from spear', 'speared a grouper, saw shark but it came for him instead of the fish so he fired spear into shark’s mouth. then shark took grouper but unable to swallow because of the spear in its mouth.', 'spearfishing', 'spearfishing ', 'spearfishing & diving for paua', 'spearfishing & had just speared a ulua', 'spearfishing & holding catch', 'spearfishing & lassoed shark', 'spearfishing (but on surface)', 'spearfishing (but treading water on the surface)', 'spearfishing (free diving)', 'spearfishing / diving', 'spearfishing / free diving', 'spearfishing / freediving', 'spearfishing / night diving', 'spearfishing / scuba diving', 'spearfishing / scuba diving (at surface)', 'spearfishing / swimming on surface', 'spearfishing competition', 'spearfishing on scuba', 'spearfishing on scuba & transferring fish onto a stringer', 'spearfishing or fishing', 'spearfishing using scuba', 'spearfishing using scuba & trailing a string of bleeding fish', 'spearfishing with joe turner (24). shark attracted to speared halibut on belt of one diver, tried to bite ide’s speargun & he shot it in the mouth', 'spearfishing with scuba gear', 'spearfishing, but standing in knee-deep water', 'spearfishing, but standing in the water', 'spearfishing, but swimming at surface', 'spearfishing, but swimming on surface', 'spearfishing, but walking carrying fish on end of speargun', 'spearfishing, carrying fish on belt', 'spearfishing, carrying fish on spear', 'spearfishing, carrying his catch', 'spearfishing, dived to pick up a float line', 'spearfishing, free diving, possibly ascended into path of cruising shark', 'spearfishing, had fish on his spear', \"spearfishing, holding 5' speared fish\", 'spearfishing, holding mesh bag with speared fish', 'spearfishing, hunting crayfish', 'spearfishing, pulled shark’s tail', 'spearfishing, scuba diving', 'spearfishing, shark grabbed his white t-shirt and towed him ', 'spearfishing, shot a sandtiger shark. cord to spear tangled round his legs & a wave washed him onto a reef.', 'spearfishing, shot a turtle', 'spearfishing, shot shark, hauled it onto boat', 'spearfishing, smith  & walker touched shark with tip of their guns', 'spearfishing, speared a small shark', 'spearfishing, speared fish retreated to cave where shark grabbed his arm', 'spearfishing/ filming', 'spearing a shark', 'spearing fish', 'spearishing', 'spent 8 days in dinghy', 'splashing', 'splashing ', 'splashing / wading', 'splashing in surf', 'splashing in water ', 'sponge divers', 'sponge diving', 'squatting in the water', 'ss ethel skakel foundered in central america hurricane of 1941', 'stamding', 'stand up paddleboarding', 'stand-up paddle boarding', 'stand-up paddleboarding', 'standing', 'standing ', 'standing / bathing', 'standing / fishing', 'standing / snorkeling', 'standing / surfing', 'standing / wading', 'standing alongside surfboard', 'standing in chest-deep water', 'standing in inner tube', 'standing in knee-deep water', 'standing in waist-deep water', 'standing in waist-deep water, helping his father tend a gill net containing dead fish', 'standing in water with child in her arms', 'standing on his hands', \"standing on landed shark's tail\", 'standing on sandbank', 'standing on sandbar', 'standing on ship deck', 'standing or boogie boardin', 'standing, collecting bananas', 'standing, collecting sea stars', 'standing, gathering oysters', 'standing, holding shark pup', 'standing, stepped on shark', 'standing, washing rear wheels of his ambulance in ankle-deep water', 'standing, watching seine netters', 'steamer durao struck rock & filled, boats capsized, passengers & crew tried to swim to shore', 'steamer una wrecked with 75 laborers onboard. survivors took to rafts & lifeboats.', 'steinhart aquarium', 'stuffing a shark into an automobile', 'suicide', 'sunbathing on beach when he saw child being attacked by the shark', 'sup', 'sup foil boarding', 'surf bathing', 'surf fishing', 'surf fishing / wading', 'surf fishing in waist-deep water', 'surf fishing, wading ', 'surf paddling', 'surf skiing', 'surf skiing ', 'surf-fishing', 'surf-skiing', 'surf-sking', 'surface supplied  diving', 'surfing', 'surfing ', 'surfing & dangling foot in water amid baitfish', 'surfing & filming dolphins', 'surfing (lying prone on his board)', 'surfing (or body boarding)', 'surfing (or sailboarding)', 'surfing (pneumatic surfboard)', 'surfing (sitting on his board)', 'surfing / swimming', 'surfing / treading water', 'surfing / wading', 'surfing amid a shoal of sharks', 'surfing on \"chest board\" (boogie board?)', 'surfing on air mattress', 'surfing or body surfing', 'surfing with dolphins', 'surfing, but lying prone on his board', 'surfing, but standing in water alongside board', 'surfing, but swimming to his board', 'surfing, but treading water', 'surfing, collided with shark', 'surfing, fell off surfboard', 'surfing, fell off surfboard & stepped on the shark.', 'surfing, lying on surfboard', 'surfing, paddling seawards', 'surfing, paddling shorewards', 'surfing, pushing board ashore', 'surfing, sitting on board', 'surfng', 'survived crash of two-engine  c-46 transport plane carrying 62 migrant workers from puerto rico to usa ', 'survived us naval aircraft crash, climbing onboard rescue vessel when he fell back into sea ', 'swept off deck of s.s.frontenac enroute from west indies to us', 'swept out to sea by the tsunami, she clung  to a log for 24 hours', 'swept out to sea while fishing', 'swept out to sea while net fishing', 'swept overboard', 'swimming', 'swimming ', 'swimming  or snorkeling', 'swimming & snorkeling', 'swimming & splashing', 'swimming (lead swimmer in race)', 'swimming (recovering remains of stilwell) ', 'swimming (using a float)', 'swimming /  boogie boarding', 'swimming /  whale watching', 'swimming / body surfing', 'swimming / escaping imprisonment ', 'swimming / floating', 'swimming / floating on his back', 'swimming / jumping off a jetty', 'swimming / kayaking', 'swimming / shipwreck', 'swimming / snorkeling', 'swimming / surfing', 'swimming / treading water', 'swimming / wading', 'swimming 10 m from shore', 'swimming 3 miles offshore', 'swimming a quarter mile offshore', 'swimming after a tennis ball', 'swimming after being swept into sea by a large wave', 'swimming after being swept off rocks', 'swimming after being washed overboard', 'swimming after boat became disabled', 'swimming after falling overboard', 'swimming after falling overboard from the sealing ship vesper', 'swimming after harpooned whale capsized boat', 'swimming after his canoe capsized', 'swimming after his hat', 'swimming after their boat capsized', 'swimming along a row of nets', 'swimming along side n.e.l. vessel saluda', 'swimming alongside noaa research vessel discoverer', 'swimming alongside the schooner catherine wilcox', 'swimming alongside the ss kearsarge', 'swimming alongside warship   tsingt-ao', 'swimming alongside yacht mexico fiesta', 'swimming around anchored ship', 'swimming ashore after launch capsized', 'swimming ashore from a \"filibuster\"', 'swimming ashore from capsized boat', 'swimming ashore from fishing boat swamped and sunk by a squall', 'swimming ashore from swamped 13-ft boat', 'swimming at edge of channel', 'swimming at side of small boat', \"swimming at surface through school of feeding 2.5' to 5’ sharks\", 'swimming back from anchored sailboat', 'swimming behind sailboat', 'swimming beside launch', 'swimming between  anchored  pearling luggers', 'swimming between boats', 'swimming breast stoke', 'swimming close to wharf', 'swimming crawl stroke', 'swimming from camp', 'swimming from capsized boat', 'swimming from capsized pirogue', 'swimming from fishing boat setting nets', 'swimming from foundered vessel', 'swimming from makeshift raft  to life vest after fishing boat sank', 'swimming from naptha launch after a day of fishing', 'swimming from shore to anchored sailboat', 'swimming from the new venture ', 'swimming in canal', 'swimming in fish tank', 'swimming in hip-deep water', 'swimming in midriver near sewage outlet & 400 m from a slaughterhouse', 'swimming in pool formed by construction of a wharf', 'swimming in section of river used for washing clothes & cooking utensils', 'swimming in strong current with 3 others when he disappeared', 'swimming in the channel', 'swimming in waist-deep water ', 'swimming naked near a date palm where many dates fell into the water', 'swimming near anchored ship', 'swimming near breakwater', 'swimming near canoe', 'swimming near his boat', 'swimming near jetty', \"swimming near jetty with 2' piece of wood\", 'swimming near life raft', 'swimming near pier', 'swimming near pod of whales', 'swimming near shore', 'swimming off yacht', 'swimming on sandbar adjacent to channel', 'swimming on surface', 'swimming or boogie boarding', 'swimming or paddle boarding', 'swimming or snorkeling', 'swimming or surfing', 'swimming or wading out  to warn bathers that a shark had been seen', 'swimming out to porpoises ', 'swimming out to rescue swimmers in difficulty', 'swimming outside fishing net', 'swimming outside the safety enclosure attempting to retrieve a tennis ball drifting toward midstream ', 'swimming to anchored boat', 'swimming to avoid capture', 'swimming to canoe', 'swimming to mail boat', 'swimming to retrieve a flannel', 'swimming to shore after a squall  capsized their motorized shark fishing boat', 'swimming to shore after boat capsized by a squall', 'swimming to shore from boat or kayak', 'swimming to shore from capsized kayak', 'swimming to shore from capsized sailboat', 'swimming to shore from the medic', 'swimming to shore with floatioon devices after boat engine conked out', 'swimming underneath house on pilings', 'swimming underwater from crayfish cage to a fishing bait', 'swimming with board', 'swimming with boogie board', 'swimming with dog near canning factory', 'swimming with dolphins', 'swimming with fish attached to  belt', 'swimming with goggles', 'swimming with mask & snorkel', 'swimming with motor tube', 'swimming with other crew near wharf', 'swimming with pod of dolphins', 'swimming with sharks', 'swimming with speared fish', 'swimming, after boat swamped', 'swimming, after falling off towed kneeboard', 'swimming, after falling overboard', 'swimming, after sailboat capsized', 'swimming, after single-engine aircraft went down in the sea', 'swimming, attacked at  surf carnival', 'swimming, attempting to rescue a girl  believed to be drowning', 'swimming, carrying tin can with mail to steamer', 'swimming, caught in strong backwash & disappeared', 'swimming, ducking for shells in water 0.9 m deep', 'swimming, naked', 'swimming, poaching abalone', 'swimming, poaching perlemoen', 'swimming, towing a kayak', 'swimming, towing an empty barrel', 'swimming, towing surfboard', 'swimming, towing the shark', 'swimming, using bundles of sticks as raft', 'swimming, wearing black wetsuit & swim fins', 'swimming, when caught in heavy seas', 'swimming. passer-by, len bedford, heard him shriek , saw shark leap from the water & swimmer disappeared', 'swimming/', 'swimming/ treading water', 'swimming/standing', 'swimmingq', 'swmming', 'tagging sharks', 'taken as he dived into the water', 'taking boat from california to florida when it ran aground & he was swimming back to boat', 'taking catch from a fish weir in which the shark was snared', 'taking wife to beach & about 1 m from the shore', 'tandem surfing', 'teasing a shark', 'tech diving ', 'testing anti-shark cage', 'testing classified underwater electronic gear for raytheon corporation, vessel torn apart by explosion', 'testing movie camera in full diving dress', 'the 168-ton belmore foundered in heavy seas', 'the 21,516-ton troopship empress of canada torpedoed and sunk by the italian submarine leonardo da vinci', 'the 2379-ton french steamer la seyne collied with british steamer onda & sank in minutes. passengers jumped overboard expecting to be picked up by onda’s boats', 'the 240-ton motor vessel pilar ii with 100 people on board capsized in high winds & rough seas', 'the 3540-ton alfonso penna was torpedoed & sunk by the italian submarine barbarigo', 'the 426-ton cargo ship mia, laden with cement, capsized in heavy seas ', 'the 500-ton coastal trader polurrian foundered ', 'the 6015-ton british ship empire avocet was torpedoed by the german submarine u-125. ', 'the 6711-ton american freighter & troop transport cape san juan was torpedoed by the japanese submarine i-21', 'the boat caribou ii sank', 'the british steamer caribbee foundered', 'the christie v sank on 11/6/1988, survivors were adrift on a dinghy', 'the coastwise steamer san basilio capsized in a typhoon', 'the cuban freighter libertad was torpedoed and sunk by the german submarine u-129', 'the cutter francis adams foundered', 'the cutter yacht cutty sark sank', 'the dwarka foundered', 'the inter-island ferry vula sank in heavy weather', 'the mv dona marilyn sank in typhoon unsang with the loss of 389 lives', 'the pacquebot laconia, enroute to liverpool with 600 italian prisoners onboard, was torpedoed by the german submarine  u-156 and only 2 rafts were launched before the ship went down. unable to board an overcrowded raft, he was swimming.', 'the passenger ship kapuna was run down the ore carrier ada melmore', 'the passenger ship pioneer cebu  capsized & sank in typhoon irma', 'the schooner elizabeth, bound from bluefields, nicaragua to the river port of san carlos foundered', 'the schooner tahitienne foundered in a hurricane', 'the shrimper loless maurine capsized in heavy seas & the men were swimming ashore  ', 'the ss potlach was torpedoed & sunk by the u-153 on 27-jun-1942. ', 'the steamer tahiti collided with the ferry greycliffe', 'the steamship bonnie dundee lost in collision', 'the steamships thingvalla and geiser collided', 'the troopship britannia was sunk by the german raider thor', 'the uss wahoo torpedoes & sank the japanese troop transport buyo maru', 'the ward liner esperanza stranded during a gale & she leapt overboard to rescue her dog which had been swept overboard.', 'the world liberty and the tanker mosli collided. the  halcyon breeze sent a lifeboat to the rescue, but it was smashed, throwing 6 men in the  water.', 'their 9 m launch was run down by a 25,000-ton japanese freighter  on the night of 3-11-1977 & they drifted, clinging to an icebox for 2 days', 'thrashing the water / imitating the shark victim from \"jaws\"', 'thrown from destroyer when shell hit', 'thrown into water from fishing dinghy', 'thrown overboard', 'torpedoed & burning british  light cruiser with a crew of 450 men', 'touching a shark', 'touching sharks', 'touching the mouth of a supposedly dead shark', 'towing her sister on plastic ski board', 'towing rubber dinghy', 'trailing hand in the water', 'trailing the field in a surf race', 'transatlantic rowing', 'traveling by boat', 'treading for clams', 'treading water', 'treading water after survivng crash of the us navy airship k-74 that was hit by the german submarine u-134', 'treading water while alongside capsized yacht', 'treading water, waiting for a wave', 'treading water/ surfing', 'trochus diving, but floating on surface', 'trying to catch a wounded bird', 'tuna fishing, standing on stern platform that was submerged by waves', 'two canoes with 14 aboard blown to sea in a storm. while adrift for 3 week, one person fell overboard and was killed by a shark', 'tzenny chandris, a greek freighter laden with scrap iron, foundered in heavy weather', 'u-177 torpedoed & sank the troopship nova scotia', 'u.s. airforce c124 enroute from hickham air base to japan went down. the 3 survivors fashioned raft from mailbags  & were rescued 3 days after the crash.', 'u.s. airforce crewman reported missing after bailing out of jet', 'underwater photography', 'unk', 'unknown', 'unknown, but it was said to be the \"first known attack in sydney harbour\"', 'unknown, their unoccupied yawlboat was recovered', 'uss gambier bay cve-73  shelled & sunk  at 09h57 on 10/24/1944, by japanes fleet enroute to attack the allied landing force at leyte.', 'uss hoel dd 533 sunk on 10/24/1944 in the battle off samar. 2 crewmen were swimmng alongside a floater net &', 'uss johnston dd 557 sunk on 10/24/1944 in the battle off samara. crewmen were swimming beside a raft.', 'vehicle plunged over cliff into the water', 'vessel capsized, wading ashore carrying an oar', 'vessel caught fire & capsized, survivors in the water', 'wade fishing', 'wade-fishing', 'wading', 'wading & pushing dinghy toward  the shallows', 'wading (shrimping)', 'wading / fishing & carrying a bag of fish', 'wading / surfing', 'wading after stray fish from seine netter’s catch', 'wading in school of baitfish', 'wading near a fishing net', 'wading or swimming', 'wading to dinghy, carrying his son', 'wading to shore after surfing', 'wading to shore from his boat', 'wading with surfboard', 'wading, fishing for flounder', 'wading, knocked down & swept away by large waves', 'wading, netting fish', 'wading, when he stepped on the shark', 'wading?', 'wakeboarding', 'walking', 'walking / surfing', 'walking in chest-deep water', 'walking in shallows', 'walking in surf', 'walking on reef', 'walking out of the water after surfing', 'walking, carrying surfboard & stepped on shark', 'washed into sea while picking opihi', 'washed into sea while picking opihi & attacked by 2 large sharks ', 'washed off catamaran in the surf', 'washed off freighter huncliff by a freak wave', 'washed off raft', 'washed overboard', 'washed overboard by swell', 'washed overboard from the barque mary eady', 'washed overboard into school of fish', 'washing', 'washing a dog', 'washing clothes', 'washing clothes on stairs', 'washing cooking pans', 'washing hands', 'washing himself', 'washing his feet', 'washing his pig in preparation for a religious ceremony', 'washing horses', 'washing sand off a speared fish', 'watching seals', 'watching seine netters with friends, one of whom picked up a netted shark', 'watching the shark feeding on a dead pinniped', 'water-skiing', 'watercraft', 'went over side of boat at trochus ground', 'went overboard', 'went to aid of child being menaced by the shark', 'when  a deckhand  jumped overboard, mciver dived after him with a rescue line.', 'wind surfing', 'windsurfing', 'windsurfing (urinating on his board)', 'windsurfing, but sitting on his board', 'wing foil surfing', 'wooden fishing boat', 'working near fish traps', 'working on the bridge when he fell into the river', 'working prawn net', 'wrangling a shark', 'wreck / technical diving', 'wreck of  large double sailing canoe', 'wreck of a sampam', 'wreck of the 1308-ton norwegian ship auckland', 'wreck of the 150-ton brig maria', 'wreck of the 1689-ton portuguese  coaster angoche', 'wreck of the aphrodite', 'wreck of the schooner driver', 'wreck of the schooner pohoiki ', 'wreck of the sovereign', 'wreck of the state oil company ship permina', 'wreck of the steamship birkenhead', 'wreck of the steamship sultan of bombay', 'wreck of the storm king', 'wreck of the tug magellan', 'wreck of the tweed', 'wreck of the union steamship company 982-ton iron steamer kafir', 'wreck of the uss somers', 'yacht gooney bird foundered, 4 survivors on raft', 'yacht of michael howell capsized', 'yacht race', 'yacht trashman capsized in storm', 'yachting accident', 'yachtsman in a zodiac', \"zosimo & his son, jeffrey popa, failed to return from overnight fishing trip in a 14' boat, boat apparently sank, debris recovered but his son & boat were never found\"]\n"
     ]
    }
   ],
   "source": [
    "#check all the activities in Activity column in alphabetical order\n",
    "print(sorted(shark_attacks['Activity'].unique().tolist()))"
   ]
  },
  {
   "cell_type": "markdown",
   "id": "06536536",
   "metadata": {
    "ExecuteTime": {
     "end_time": "2023-04-04T14:29:48.328184Z",
     "start_time": "2023-04-04T14:29:48.257379Z"
    }
   },
   "source": [
    "#count how many times the words surfing, surf and surfboard appear in Column Activity\n",
    "count_surfing = shark_attacks['Activity'].str.count('surfing').sum()\n",
    "count_surf = shark_attacks['Activity'].str.count('surf').sum()\n",
    "count_surfboard = shark_attacks['Activity'].str.count('surfboard').sum()\n",
    "\n",
    "print(count_surfing)\n",
    "print(count_surf)\n",
    "print(count_surfboard)"
   ]
  },
  {
   "cell_type": "code",
   "execution_count": 44,
   "id": "99659ea8",
   "metadata": {
    "ExecuteTime": {
     "end_time": "2023-04-04T20:03:02.951834Z",
     "start_time": "2023-04-04T20:03:02.938772Z"
    }
   },
   "outputs": [],
   "source": [
    "#shark_attacks['Activity'].str.replace('.*surf.*', 'surfing', regex = True).unique().tolist()"
   ]
  },
  {
   "cell_type": "code",
   "execution_count": 45,
   "id": "e88962a4",
   "metadata": {
    "ExecuteTime": {
     "end_time": "2023-04-04T20:03:02.967434Z",
     "start_time": "2023-04-04T20:03:02.954759Z"
    }
   },
   "outputs": [],
   "source": [
    "surfing_dict_pattern = {'.*kayak.*': 'kayaking', '.*boat.*': 'boating'}"
   ]
  },
  {
   "cell_type": "code",
   "execution_count": 46,
   "id": "a4fc20cf",
   "metadata": {
    "ExecuteTime": {
     "end_time": "2023-04-04T20:03:03.061677Z",
     "start_time": "2023-04-04T20:03:02.973288Z"
    }
   },
   "outputs": [],
   "source": [
    "shark_attacks['Activity'] = shark_attacks['Activity'].replace(surfing_dict_pattern, regex = True)#.fillna('unk')"
   ]
  },
  {
   "cell_type": "code",
   "execution_count": 47,
   "id": "6367fdc8",
   "metadata": {
    "ExecuteTime": {
     "end_time": "2023-04-04T20:03:03.093602Z",
     "start_time": "2023-04-04T20:03:03.065549Z"
    }
   },
   "outputs": [],
   "source": [
    "surfing_dict = {'boating': 'boating', 'surfing': 'surfing', 'surfng': 'surfing', 'surf': 'surfing', 'surfboard': 'surfing', \n",
    "'surfingboard': 'surfing', 'surfinging': 'surfing', 'kitesurfing': 'kite', 'kite-surfing': 'kite', \n",
    "'kite surfing': 'kite', 'surfing-sking': 'wakeboarding', 'surfing skiing': 'wakeboarding', \n",
    "'surfing bathing': 'surfing', 'winsurfing': 'windsurf', 'diving with  surfingace-supplied air': 'diving', \n",
    "'washed off catamaran in the surfing': 'sailing', 'skin diving for trepang but at surfingace next': 'surfing', \n",
    "'surfing the boat': 'sailing', 'surfingace supplied  diving': 'diving', 'wing foil surfing': 'wing foiling', \n",
    "'body surfing': 'surfing','paddle boarding': 'paddling', 'surfing fishing': 'surfing', \n",
    "'riding waves on a board': 'surfing', 'walking out of the water after surfing': 'walking', 'kneeboard': 'surfing', \n",
    "'(surfingacing)': 'surfing', 'boardin': 'surfing', 'boarding': 'surfing', 'body-boarding': 'surfing', \n",
    "'body-surfing': 'surfing', 'sitting': 'surfing', 'surfing-fishing': 'surfing', 'surfing-ski': 'skyboarding',\n",
    "'surfingace': 'surfing', 'surfingace': 'surfing', 'surfingski': 'skiboarding', 'wading': 'wading', \n",
    "'wreck': 'wreck', 'swimming': 'swimming', 'standing': 'bathing', 'spearfishing': 'spearfishing',\n",
    "'snorkeling': 'snorkeling', 'scuba': 'scuba diving', 'pearl': 'pearl fishing', 'overboard': 'overboard',\n",
    "'netting': 'netting', 'kayaking': 'kayaking', 'kayak': 'kayaking', 'jumped': 'overboard', \n",
    "'freediving': 'freediving', 'free': 'freediving', 'fishing': 'fishing', 'fishing,': 'fishing', \n",
    "'fishing?': 'fishing', 'floating': 'bathing', 'fish': 'fishing', 'fell': 'overboard', \n",
    "'diving,': 'diving', 'diving': 'diving', 'dived': 'diving', 'capsized': 'capsized', 'canoe': 'canoeing', \n",
    "'boogie': 'boogie', 'boat': 'boating', 'bathing': 'bathing', 'aircraft': 'aircraft crash',\n",
    "'surfing & filming dolphins': 'surfing', 'surfing & treading water': 'surfing', \n",
    "'surfing (or sailsurfingg)': 'surfing', 'surfing (pneumatic surfing)': 'surfing',\n",
    "'surfing & dangling foot in water amid baitfishing': 'surfing', 'surfing (surfing on his board)': 'surfing',\n",
    "'surfing / swimming': 'surfing', 'surfing / treading water': 'surfing', 'surfing / wading': 'surfing',\n",
    "'surfing amid a shoal of sharks': 'surfing', \"surfing in 3' of water\": 'surfing', 'surfing in a boating': 'wake',\n",
    "'surfing in bow of her fathers 5 m boating': 'boating', 'surfing in shallows': 'surfing', \n",
    "'surfing in the water': 'surfing', 'surfing on chest board (boogie board?)': 'surfing', \n",
    "'surfing on air mattress': 'boggie', 'surfing on gunwale of boating': 'wake', \n",
    "'surfing on side of dinghy mending a net': 'surfing', 'surfing on surfing': 'surfing', 'surfing or body surfingg': 'surfing', \n",
    "'surfing or boogie surfingg': 'surfing', 'surfing or surfing': 'surfing', \n",
    "'surfing paddling': 'surfing', 'surfing to the boating': 'wake', \n",
    "'surfing with dolphins': 'surfing', 'surfing, but bathing in water alongside board': 'surfing', \n",
    "'surfing, but lying prone on his board': 'surfing', 'surfing, but swimming to his board': 'surfing', \n",
    "'surfing, but treading water': 'surfing', 'surfing, collided with shark': 'surfing', \n",
    "'surfing, collided with shark': 'surfing', 'surfing, lying on surfing': 'surfing', \n",
    "'surfing, overboard off surfing': 'surfing', 'surfing, overboard off surfing & stepped on the shark.': 'surfing', \n",
    "'surfing, paddling seawards': 'surfing', 'surfing, paddling shorewards': 'surfing', \n",
    "'surfing, pushing board ashore': 'surfing', 'surfing, stood up on sandbar': 'surfing', \n",
    "'surfing, surfing on board': 'surfing', 'surfing?': 'surfing', 'surfingg': 'surfing', 'surfingg a ship': 'wake'}"
   ]
  },
  {
   "cell_type": "code",
   "execution_count": 48,
   "id": "71ee9179",
   "metadata": {
    "ExecuteTime": {
     "end_time": "2023-04-04T20:03:03.125207Z",
     "start_time": "2023-04-04T20:03:03.100478Z"
    }
   },
   "outputs": [],
   "source": [
    "shark_attacks['Activity'] = shark_attacks['Activity'].map(surfing_dict).fillna('unk')"
   ]
  },
  {
   "cell_type": "code",
   "execution_count": 49,
   "id": "60d75de2",
   "metadata": {
    "ExecuteTime": {
     "end_time": "2023-04-04T20:03:03.156485Z",
     "start_time": "2023-04-04T20:03:03.127775Z"
    }
   },
   "outputs": [
    {
     "name": "stdout",
     "output_type": "stream",
     "text": [
      "['bathing', 'boating', 'boggie', 'diving', 'fishing', 'freediving', 'kayaking', 'kite', 'paddling', 'snorkeling', 'spearfishing', 'surfing', 'swimming', 'unk', 'wading', 'walking', 'wing foiling']\n"
     ]
    }
   ],
   "source": [
    "print(sorted(shark_attacks['Activity'].unique()))"
   ]
  },
  {
   "cell_type": "code",
   "execution_count": 50,
   "id": "11cab303",
   "metadata": {
    "ExecuteTime": {
     "end_time": "2023-04-04T20:03:03.187774Z",
     "start_time": "2023-04-04T20:03:03.167817Z"
    },
    "scrolled": true
   },
   "outputs": [
    {
     "data": {
      "text/plain": [
       "unk             41.725146\n",
       "surfing         17.163743\n",
       "swimming        13.947368\n",
       "fishing          7.017544\n",
       "spearfishing     5.467836\n",
       "bathing          4.254386\n",
       "boating          2.543860\n",
       "wading           2.456140\n",
       "diving           2.061404\n",
       "snorkeling       1.798246\n",
       "kayaking         0.964912\n",
       "kite             0.204678\n",
       "paddling         0.160819\n",
       "freediving       0.146199\n",
       "walking          0.043860\n",
       "wing foiling     0.029240\n",
       "boggie           0.014620\n",
       "Name: Activity, dtype: float64"
      ]
     },
     "execution_count": 50,
     "metadata": {},
     "output_type": "execute_result"
    }
   ],
   "source": [
    "shark_attacks['Activity'].value_counts(True) * 100"
   ]
  },
  {
   "cell_type": "code",
   "execution_count": 51,
   "id": "321eec47",
   "metadata": {
    "ExecuteTime": {
     "end_time": "2023-04-04T20:03:03.218455Z",
     "start_time": "2023-04-04T20:03:03.192766Z"
    }
   },
   "outputs": [
    {
     "name": "stdout",
     "output_type": "stream",
     "text": [
      "6840\n"
     ]
    }
   ],
   "source": [
    "print(len(shark_attacks['Activity']))"
   ]
  },
  {
   "cell_type": "code",
   "execution_count": 52,
   "id": "c44e7ba3",
   "metadata": {
    "ExecuteTime": {
     "end_time": "2023-04-04T20:03:03.249453Z",
     "start_time": "2023-04-04T20:03:03.221418Z"
    }
   },
   "outputs": [
    {
     "name": "stdout",
     "output_type": "stream",
     "text": [
      "1174\n"
     ]
    }
   ],
   "source": [
    "#check how many times the the words now appear\n",
    "count_surfing = shark_attacks['Activity'].str.count('surfing').sum()\n",
    "print(count_surfing)"
   ]
  },
  {
   "cell_type": "markdown",
   "id": "60d6563e",
   "metadata": {},
   "source": [
    "###  AGE X SURFERS"
   ]
  },
  {
   "cell_type": "code",
   "execution_count": 53,
   "id": "8d6337b0",
   "metadata": {
    "ExecuteTime": {
     "end_time": "2023-04-04T20:03:03.265344Z",
     "start_time": "2023-04-04T20:03:03.252802Z"
    }
   },
   "outputs": [],
   "source": [
    "#create a new column with the age groups\n",
    "def age_group(age):\n",
    "    \"\"\"use conditionals to determine if x age belongs to x_age_group\n",
    "    exemple: input: 35 years\n",
    "             output: young adult group\"\"\"\n",
    "    if age <= 0:\n",
    "        return 'No Class'\n",
    "    elif age <= 19:\n",
    "        return 'Youth'\n",
    "    elif age <= 40:\n",
    "        return 'Young Adult'\n",
    "    elif age < 61:\n",
    "        return 'Adult'\n",
    "    else:\n",
    "        return 'Elderly'\n",
    "        \n"
   ]
  },
  {
   "cell_type": "code",
   "execution_count": 54,
   "id": "3411fe68",
   "metadata": {
    "ExecuteTime": {
     "end_time": "2023-04-04T20:03:03.311003Z",
     "start_time": "2023-04-04T20:03:03.287291Z"
    }
   },
   "outputs": [],
   "source": [
    "shark_attacks.insert(9, 'Age Group', shark_attacks['Age'].apply(age_group))"
   ]
  },
  {
   "cell_type": "code",
   "execution_count": 55,
   "id": "6cbca20b",
   "metadata": {
    "ExecuteTime": {
     "end_time": "2023-04-04T20:03:03.357028Z",
     "start_time": "2023-04-04T20:03:03.318545Z"
    }
   },
   "outputs": [
    {
     "data": {
      "text/html": [
       "<div>\n",
       "<style scoped>\n",
       "    .dataframe tbody tr th:only-of-type {\n",
       "        vertical-align: middle;\n",
       "    }\n",
       "\n",
       "    .dataframe tbody tr th {\n",
       "        vertical-align: top;\n",
       "    }\n",
       "\n",
       "    .dataframe thead th {\n",
       "        text-align: right;\n",
       "    }\n",
       "</style>\n",
       "<table border=\"1\" class=\"dataframe\">\n",
       "  <thead>\n",
       "    <tr style=\"text-align: right;\">\n",
       "      <th></th>\n",
       "      <th>Date</th>\n",
       "      <th>Year</th>\n",
       "      <th>Country</th>\n",
       "      <th>Area</th>\n",
       "      <th>Location</th>\n",
       "      <th>Activity</th>\n",
       "      <th>Name</th>\n",
       "      <th>Sex</th>\n",
       "      <th>Age</th>\n",
       "      <th>Age Group</th>\n",
       "      <th>Injury</th>\n",
       "      <th>Fatal (Y/N)</th>\n",
       "      <th>Species</th>\n",
       "    </tr>\n",
       "  </thead>\n",
       "  <tbody>\n",
       "    <tr>\n",
       "      <th>0</th>\n",
       "      <td>25-Mar-2023</td>\n",
       "      <td>2023.0</td>\n",
       "      <td>USA</td>\n",
       "      <td>Florida</td>\n",
       "      <td>Blue Fish Channel, Key West, Monroe County</td>\n",
       "      <td>kite</td>\n",
       "      <td>Kevin  Carlton Scott</td>\n",
       "      <td>M</td>\n",
       "      <td>67</td>\n",
       "      <td>Elderly</td>\n",
       "      <td>Lacertions to right calf</td>\n",
       "      <td>N</td>\n",
       "      <td>NaN</td>\n",
       "    </tr>\n",
       "    <tr>\n",
       "      <th>1</th>\n",
       "      <td>22-Mar-2023</td>\n",
       "      <td>2023.0</td>\n",
       "      <td>AUSTRALIA</td>\n",
       "      <td>Western Australia</td>\n",
       "      <td>Delta Island</td>\n",
       "      <td>wading</td>\n",
       "      <td>Adam Norton</td>\n",
       "      <td>M</td>\n",
       "      <td>-1</td>\n",
       "      <td>No Class</td>\n",
       "      <td>Lower left leg and foot injured</td>\n",
       "      <td>N</td>\n",
       "      <td>NaN</td>\n",
       "    </tr>\n",
       "    <tr>\n",
       "      <th>2</th>\n",
       "      <td>19-Mar-2023</td>\n",
       "      <td>2023.0</td>\n",
       "      <td>USA</td>\n",
       "      <td>Hawaii</td>\n",
       "      <td>Anaehoomalu Bay</td>\n",
       "      <td>swimming</td>\n",
       "      <td>male</td>\n",
       "      <td>M</td>\n",
       "      <td>60</td>\n",
       "      <td>Adult</td>\n",
       "      <td>Left hand and  left leg.</td>\n",
       "      <td>N</td>\n",
       "      <td>NaN</td>\n",
       "    </tr>\n",
       "    <tr>\n",
       "      <th>3</th>\n",
       "      <td>17-Mar-2023</td>\n",
       "      <td>2023.0</td>\n",
       "      <td>MEXICO</td>\n",
       "      <td>Quintana Roo</td>\n",
       "      <td>Cancún</td>\n",
       "      <td>swimming</td>\n",
       "      <td>Dillon Armijo</td>\n",
       "      <td>M</td>\n",
       "      <td>10</td>\n",
       "      <td>Youth</td>\n",
       "      <td>Significant  injury to leg</td>\n",
       "      <td>N</td>\n",
       "      <td>NaN</td>\n",
       "    </tr>\n",
       "    <tr>\n",
       "      <th>4</th>\n",
       "      <td>16-Mar-2023</td>\n",
       "      <td>2023.0</td>\n",
       "      <td>AUSTRALIA</td>\n",
       "      <td>Western Australia</td>\n",
       "      <td>Cheynes Beach</td>\n",
       "      <td>unk</td>\n",
       "      <td>female</td>\n",
       "      <td>F</td>\n",
       "      <td>-1</td>\n",
       "      <td>No Class</td>\n",
       "      <td>NaN</td>\n",
       "      <td>N</td>\n",
       "      <td>5m to 6m shark</td>\n",
       "    </tr>\n",
       "  </tbody>\n",
       "</table>\n",
       "</div>"
      ],
      "text/plain": [
       "          Date    Year    Country               Area  \\\n",
       "0  25-Mar-2023  2023.0        USA            Florida   \n",
       "1  22-Mar-2023  2023.0  AUSTRALIA  Western Australia   \n",
       "2  19-Mar-2023  2023.0        USA             Hawaii   \n",
       "3  17-Mar-2023  2023.0     MEXICO       Quintana Roo   \n",
       "4  16-Mar-2023  2023.0  AUSTRALIA  Western Australia   \n",
       "\n",
       "                                     Location  Activity                  Name  \\\n",
       "0  Blue Fish Channel, Key West, Monroe County      kite  Kevin  Carlton Scott   \n",
       "1                                Delta Island    wading           Adam Norton   \n",
       "2                             Anaehoomalu Bay  swimming                  male   \n",
       "3                                      Cancún  swimming         Dillon Armijo   \n",
       "4                              Cheynes Beach        unk                female   \n",
       "\n",
       "  Sex  Age Age Group                           Injury Fatal (Y/N)  \\\n",
       "0   M   67   Elderly         Lacertions to right calf           N   \n",
       "1   M   -1  No Class  Lower left leg and foot injured           N   \n",
       "2   M   60     Adult         Left hand and  left leg.           N   \n",
       "3   M   10     Youth      Significant  injury to leg            N   \n",
       "4   F   -1  No Class                              NaN           N   \n",
       "\n",
       "          Species  \n",
       "0             NaN  \n",
       "1             NaN  \n",
       "2             NaN  \n",
       "3             NaN  \n",
       "4  5m to 6m shark  "
      ]
     },
     "execution_count": 55,
     "metadata": {},
     "output_type": "execute_result"
    }
   ],
   "source": [
    "shark_attacks.head(5)"
   ]
  },
  {
   "cell_type": "code",
   "execution_count": null,
   "id": "6328aff9",
   "metadata": {},
   "outputs": [],
   "source": []
  }
 ],
 "metadata": {
  "kernelspec": {
   "display_name": "Python 3 (ipykernel)",
   "language": "python",
   "name": "python3"
  },
  "language_info": {
   "codemirror_mode": {
    "name": "ipython",
    "version": 3
   },
   "file_extension": ".py",
   "mimetype": "text/x-python",
   "name": "python",
   "nbconvert_exporter": "python",
   "pygments_lexer": "ipython3",
   "version": "3.9.13"
  },
  "toc": {
   "base_numbering": 1,
   "nav_menu": {},
   "number_sections": true,
   "sideBar": true,
   "skip_h1_title": false,
   "title_cell": "Table of Contents",
   "title_sidebar": "Contents",
   "toc_cell": false,
   "toc_position": {},
   "toc_section_display": true,
   "toc_window_display": false
  },
  "varInspector": {
   "cols": {
    "lenName": 16,
    "lenType": 16,
    "lenVar": 40
   },
   "kernels_config": {
    "python": {
     "delete_cmd_postfix": "",
     "delete_cmd_prefix": "del ",
     "library": "var_list.py",
     "varRefreshCmd": "print(var_dic_list())"
    },
    "r": {
     "delete_cmd_postfix": ") ",
     "delete_cmd_prefix": "rm(",
     "library": "var_list.r",
     "varRefreshCmd": "cat(var_dic_list()) "
    }
   },
   "types_to_exclude": [
    "module",
    "function",
    "builtin_function_or_method",
    "instance",
    "_Feature"
   ],
   "window_display": false
  }
 },
 "nbformat": 4,
 "nbformat_minor": 5
}
